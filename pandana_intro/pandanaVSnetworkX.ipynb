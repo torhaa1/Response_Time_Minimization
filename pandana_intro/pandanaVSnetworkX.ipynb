{
 "cells": [
  {
   "cell_type": "markdown",
   "metadata": {},
   "source": [
    "## Calculating Walking distance in Python. NetworkX vs Pandana.\n",
    "There is no need for GPU when Pandana is at least 1000 times faster.   \n",
    "Blog post from: https://lenkahas.com/post/pandana.html\n"
   ]
  },
  {
   "cell_type": "markdown",
   "metadata": {},
   "source": [
    "### 1. Introduction\n",
    "Let's say you have spatial point data and you want to calculate walking distances between all combination of the points.   \n",
    "For example, you have data of local bars and you want to find out all the walking distances between them, so you can include them in your regression model (or anything else), for example as a variable that defines how accessible two pubs are to each other.\n",
    "\n",
    "This post will show you how you can do that in python using:\n",
    "1. osmnx package to generate OSM road network\n",
    "2. networkx package to find the nearest point on that network and calulate the walking distance between them\n",
    "3. pandana package to make this significantly faster!\n",
    "\n",
    "**Data**   \n",
    "Availiable here: https://github.com/lenkahas/sample_data/blob/main/points.geojson\n",
    "\n",
    "**Background**   \n",
    "You might need some essential information that will help you to understand what we are doing here. Feel free to skip this part and go straight to the code.\n",
    "\n",
    "What is the walking distance?   \n",
    "It's exactly what it says. Walking distance from one place to another. In other words, how far is the place from where I stand along the walking path. This information is crucial for estimating how long is it going to take me to go there, how much effort or money will this cost me. Those are all variables that contribute to estimations of accessibility, connectivity, mobility or others.\n",
    "\n",
    "For more detailed description, check out the original tutorial."
   ]
  },
  {
   "cell_type": "markdown",
   "metadata": {},
   "source": []
  },
  {
   "cell_type": "code",
   "execution_count": 1,
   "metadata": {},
   "outputs": [
    {
     "name": "stdout",
     "output_type": "stream",
     "text": [
      "0.7\n"
     ]
    }
   ],
   "source": [
    "import pandas as pd\n",
    "import numpy as np\n",
    "import geopandas as gpd\n",
    "import matplotlib.pyplot as plt\n",
    "import osmnx as ox # install osmnx first, it will download appropriate version of networkx\n",
    "import networkx as nx\n",
    "from pyproj import CRS\n",
    "import itertools\n",
    "\n",
    "import pandana\n",
    "print(pandana.__version__)"
   ]
  },
  {
   "cell_type": "markdown",
   "metadata": {},
   "source": [
    "## 2. Load and inspect the data"
   ]
  },
  {
   "cell_type": "code",
   "execution_count": 2,
   "metadata": {},
   "outputs": [
    {
     "name": "stdout",
     "output_type": "stream",
     "text": [
      "EPSG:4326\n"
     ]
    }
   ],
   "source": [
    "# define coordinates if you need them\n",
    "wgs84 = CRS(4326)\n",
    "bng = CRS(27700)\n",
    "print(wgs84)"
   ]
  },
  {
   "cell_type": "markdown",
   "metadata": {},
   "source": [
    "Load the point data and create flows"
   ]
  },
  {
   "cell_type": "code",
   "execution_count": 3,
   "metadata": {},
   "outputs": [],
   "source": [
    "pois = gpd.read_file(\"./points.geojson\")\n",
    "# pois.crs # check the CRS"
   ]
  },
  {
   "cell_type": "code",
   "execution_count": 4,
   "metadata": {},
   "outputs": [
    {
     "data": {
      "text/html": [
       "<div>\n",
       "<style scoped>\n",
       "    .dataframe tbody tr th:only-of-type {\n",
       "        vertical-align: middle;\n",
       "    }\n",
       "\n",
       "    .dataframe tbody tr th {\n",
       "        vertical-align: top;\n",
       "    }\n",
       "\n",
       "    .dataframe thead th {\n",
       "        text-align: right;\n",
       "    }\n",
       "</style>\n",
       "<table border=\"1\" class=\"dataframe\">\n",
       "  <thead>\n",
       "    <tr style=\"text-align: right;\">\n",
       "      <th></th>\n",
       "      <th>ID_code</th>\n",
       "      <th>X</th>\n",
       "      <th>Y</th>\n",
       "      <th>geometry</th>\n",
       "    </tr>\n",
       "  </thead>\n",
       "  <tbody>\n",
       "    <tr>\n",
       "      <th>0</th>\n",
       "      <td>A91120</td>\n",
       "      <td>-2.559063</td>\n",
       "      <td>51.502830</td>\n",
       "      <td>POINT (-2.55906 51.50283)</td>\n",
       "    </tr>\n",
       "    <tr>\n",
       "      <th>1</th>\n",
       "      <td>A99931</td>\n",
       "      <td>-2.596140</td>\n",
       "      <td>51.459182</td>\n",
       "      <td>POINT (-2.59614 51.45918)</td>\n",
       "    </tr>\n",
       "    <tr>\n",
       "      <th>2</th>\n",
       "      <td>A99986</td>\n",
       "      <td>-2.538833</td>\n",
       "      <td>51.483143</td>\n",
       "      <td>POINT (-2.53883 51.48314)</td>\n",
       "    </tr>\n",
       "    <tr>\n",
       "      <th>3</th>\n",
       "      <td>L81002</td>\n",
       "      <td>-2.930352</td>\n",
       "      <td>51.360207</td>\n",
       "      <td>POINT (-2.93035 51.36021)</td>\n",
       "    </tr>\n",
       "    <tr>\n",
       "      <th>4</th>\n",
       "      <td>L81004</td>\n",
       "      <td>-2.767317</td>\n",
       "      <td>51.482805</td>\n",
       "      <td>POINT (-2.76732 51.48281)</td>\n",
       "    </tr>\n",
       "  </tbody>\n",
       "</table>\n",
       "</div>"
      ],
      "text/plain": [
       "  ID_code         X          Y                   geometry\n",
       "0  A91120 -2.559063  51.502830  POINT (-2.55906 51.50283)\n",
       "1  A99931 -2.596140  51.459182  POINT (-2.59614 51.45918)\n",
       "2  A99986 -2.538833  51.483143  POINT (-2.53883 51.48314)\n",
       "3  L81002 -2.930352  51.360207  POINT (-2.93035 51.36021)\n",
       "4  L81004 -2.767317  51.482805  POINT (-2.76732 51.48281)"
      ]
     },
     "execution_count": 4,
     "metadata": {},
     "output_type": "execute_result"
    }
   ],
   "source": [
    "pois.head()"
   ]
  },
  {
   "cell_type": "markdown",
   "metadata": {},
   "source": [
    "## 3. Create Origin-Destination pairs"
   ]
  },
  {
   "cell_type": "code",
   "execution_count": 5,
   "metadata": {},
   "outputs": [
    {
     "name": "stdout",
     "output_type": "stream",
     "text": [
      "<class 'pandas.core.frame.DataFrame'>\n",
      "RangeIndex: 36 entries, 0 to 35\n",
      "Data columns (total 2 columns):\n",
      " #   Column       Non-Null Count  Dtype \n",
      "---  ------       --------------  ----- \n",
      " 0   origin       36 non-null     object\n",
      " 1   destination  36 non-null     object\n",
      "dtypes: object(2)\n",
      "memory usage: 708.0+ bytes\n"
     ]
    }
   ],
   "source": [
    "# take first 5 points and find all possible combinations\n",
    "pois = pois.iloc[0:6,:]\n",
    "\n",
    "# create a list of all the ID's\n",
    "p_li = list(pois['ID_code'].unique())\n",
    "\n",
    "# get all unique combinations of all the origins and destinations\n",
    "flows = pd.DataFrame(list(itertools.product(p_li,p_li))).rename(columns = {0:'origin',1:'destination'})\n",
    "\n",
    "flows.info()"
   ]
  },
  {
   "cell_type": "markdown",
   "metadata": {},
   "source": [
    "By taking the product of the 6 points, we get $6x6=36$ unique combinations of origins and destinations."
   ]
  },
  {
   "cell_type": "markdown",
   "metadata": {},
   "source": [
    "## 4. Use NetworkX to calculate walking distances\n",
    "### 4.1 Load Graph\n",
    "The ``osmnx`` package has very useful function `graph_from_bbox` which loads the osm roads graph quite quickly.   \n",
    "Here I am loading walking paths for whola area of Avon where my points are located, which is quite a big area so expect this to take few minutes."
   ]
  },
  {
   "cell_type": "code",
   "execution_count": 6,
   "metadata": {},
   "outputs": [],
   "source": [
    "# create bounding box for our data \n",
    "bbox = [51.623985, 51.291124,  -2.272797, -3.029480] \n",
    "\n",
    "# generate graph based on the bounding box from the Avon area\n",
    "avon = ox.graph_from_bbox(bbox[0], bbox[1], bbox[2], bbox[3], \n",
    "                               retain_all=False, \n",
    "                               truncate_by_edge=True, \n",
    "                               simplify=False,\n",
    "                               network_type='walk')"
   ]
  },
  {
   "cell_type": "code",
   "execution_count": 7,
   "metadata": {},
   "outputs": [],
   "source": [
    "# get the nodes and the edges into geopandas\n",
    "nodes, edges = ox.graph_to_gdfs(avon, nodes=True, edges=True)"
   ]
  },
  {
   "cell_type": "markdown",
   "metadata": {},
   "source": [
    "### 4.2 Find nearest points\n",
    "Using [`osmnx.distance.nearest_nodes(G, X, Y, return_dist=False)`](https://osmnx.readthedocs.io/en/stable/user-reference.html#osmnx.distance.nearest_nodes) to find the nearest node to each point.   \n",
    "Def: Find the nearest node to a point or to each of several points.    \n",
    "If X and Y are single coordinate values, this will return the nearest node to that point. If X and Y are lists of coordinate values, this will return the nearest node to each point.\n"
   ]
  },
  {
   "cell_type": "code",
   "execution_count": 8,
   "metadata": {},
   "outputs": [],
   "source": [
    "# define function for the nearest neighbour\n",
    "def nearest_node(a,b):\n",
    "    nearest_node,dist=ox.nearest_nodes(avon, pois[\"X\"], pois[\"Y\"], return_dist=True)\n",
    "    return nearest_node"
   ]
  },
  {
   "cell_type": "code",
   "execution_count": 9,
   "metadata": {},
   "outputs": [
    {
     "data": {
      "text/html": [
       "<div>\n",
       "<style scoped>\n",
       "    .dataframe tbody tr th:only-of-type {\n",
       "        vertical-align: middle;\n",
       "    }\n",
       "\n",
       "    .dataframe tbody tr th {\n",
       "        vertical-align: top;\n",
       "    }\n",
       "\n",
       "    .dataframe thead th {\n",
       "        text-align: right;\n",
       "    }\n",
       "</style>\n",
       "<table border=\"1\" class=\"dataframe\">\n",
       "  <thead>\n",
       "    <tr style=\"text-align: right;\">\n",
       "      <th></th>\n",
       "      <th>ID_code</th>\n",
       "      <th>X</th>\n",
       "      <th>Y</th>\n",
       "      <th>geometry</th>\n",
       "      <th>NX_node</th>\n",
       "    </tr>\n",
       "  </thead>\n",
       "  <tbody>\n",
       "    <tr>\n",
       "      <th>0</th>\n",
       "      <td>A91120</td>\n",
       "      <td>-2.559063</td>\n",
       "      <td>51.502830</td>\n",
       "      <td>POINT (-2.55906 51.50283)</td>\n",
       "      <td>2914306154</td>\n",
       "    </tr>\n",
       "    <tr>\n",
       "      <th>1</th>\n",
       "      <td>A99931</td>\n",
       "      <td>-2.596140</td>\n",
       "      <td>51.459182</td>\n",
       "      <td>POINT (-2.59614 51.45918)</td>\n",
       "      <td>1572010429</td>\n",
       "    </tr>\n",
       "    <tr>\n",
       "      <th>2</th>\n",
       "      <td>A99986</td>\n",
       "      <td>-2.538833</td>\n",
       "      <td>51.483143</td>\n",
       "      <td>POINT (-2.53883 51.48314)</td>\n",
       "      <td>2094196650</td>\n",
       "    </tr>\n",
       "    <tr>\n",
       "      <th>3</th>\n",
       "      <td>L81002</td>\n",
       "      <td>-2.930352</td>\n",
       "      <td>51.360207</td>\n",
       "      <td>POINT (-2.93035 51.36021)</td>\n",
       "      <td>317399984</td>\n",
       "    </tr>\n",
       "    <tr>\n",
       "      <th>4</th>\n",
       "      <td>L81004</td>\n",
       "      <td>-2.767317</td>\n",
       "      <td>51.482805</td>\n",
       "      <td>POINT (-2.76732 51.48281)</td>\n",
       "      <td>298172819</td>\n",
       "    </tr>\n",
       "  </tbody>\n",
       "</table>\n",
       "</div>"
      ],
      "text/plain": [
       "  ID_code         X          Y                   geometry     NX_node\n",
       "0  A91120 -2.559063  51.502830  POINT (-2.55906 51.50283)  2914306154\n",
       "1  A99931 -2.596140  51.459182  POINT (-2.59614 51.45918)  1572010429\n",
       "2  A99986 -2.538833  51.483143  POINT (-2.53883 51.48314)  2094196650\n",
       "3  L81002 -2.930352  51.360207  POINT (-2.93035 51.36021)   317399984\n",
       "4  L81004 -2.767317  51.482805  POINT (-2.76732 51.48281)   298172819"
      ]
     },
     "execution_count": 9,
     "metadata": {},
     "output_type": "execute_result"
    }
   ],
   "source": [
    "# find the nearest node to each point\n",
    "pois['NX_node'] = nearest_node(pois['Y'],pois['X'])\n",
    "np.vectorize(pois['NX_node'])\n",
    "pois.head()"
   ]
  },
  {
   "cell_type": "markdown",
   "metadata": {},
   "source": [
    "Create list of the node id's and check if they exist and if they are on the right place."
   ]
  },
  {
   "cell_type": "code",
   "execution_count": 10,
   "metadata": {},
   "outputs": [
    {
     "data": {
      "text/html": [
       "<div>\n",
       "<style scoped>\n",
       "    .dataframe tbody tr th:only-of-type {\n",
       "        vertical-align: middle;\n",
       "    }\n",
       "\n",
       "    .dataframe tbody tr th {\n",
       "        vertical-align: top;\n",
       "    }\n",
       "\n",
       "    .dataframe thead th {\n",
       "        text-align: right;\n",
       "    }\n",
       "</style>\n",
       "<table border=\"1\" class=\"dataframe\">\n",
       "  <thead>\n",
       "    <tr style=\"text-align: right;\">\n",
       "      <th></th>\n",
       "      <th>y</th>\n",
       "      <th>x</th>\n",
       "      <th>street_count</th>\n",
       "      <th>highway</th>\n",
       "      <th>ref</th>\n",
       "      <th>geometry</th>\n",
       "    </tr>\n",
       "    <tr>\n",
       "      <th>osmid</th>\n",
       "      <th></th>\n",
       "      <th></th>\n",
       "      <th></th>\n",
       "      <th></th>\n",
       "      <th></th>\n",
       "      <th></th>\n",
       "    </tr>\n",
       "  </thead>\n",
       "  <tbody>\n",
       "    <tr>\n",
       "      <th>298172819</th>\n",
       "      <td>51.482619</td>\n",
       "      <td>-2.767715</td>\n",
       "      <td>3</td>\n",
       "      <td>NaN</td>\n",
       "      <td>NaN</td>\n",
       "      <td>POINT (-2.76772 51.48262)</td>\n",
       "    </tr>\n",
       "    <tr>\n",
       "      <th>317399984</th>\n",
       "      <td>51.360247</td>\n",
       "      <td>-2.930562</td>\n",
       "      <td>2</td>\n",
       "      <td>NaN</td>\n",
       "      <td>NaN</td>\n",
       "      <td>POINT (-2.93056 51.36025)</td>\n",
       "    </tr>\n",
       "    <tr>\n",
       "      <th>1572010429</th>\n",
       "      <td>51.459374</td>\n",
       "      <td>-2.596515</td>\n",
       "      <td>1</td>\n",
       "      <td>NaN</td>\n",
       "      <td>NaN</td>\n",
       "      <td>POINT (-2.59651 51.45937)</td>\n",
       "    </tr>\n",
       "    <tr>\n",
       "      <th>2094196650</th>\n",
       "      <td>51.482695</td>\n",
       "      <td>-2.538694</td>\n",
       "      <td>2</td>\n",
       "      <td>NaN</td>\n",
       "      <td>NaN</td>\n",
       "      <td>POINT (-2.53869 51.48270)</td>\n",
       "    </tr>\n",
       "    <tr>\n",
       "      <th>2424544783</th>\n",
       "      <td>51.413636</td>\n",
       "      <td>-2.571634</td>\n",
       "      <td>3</td>\n",
       "      <td>NaN</td>\n",
       "      <td>NaN</td>\n",
       "      <td>POINT (-2.57163 51.41364)</td>\n",
       "    </tr>\n",
       "    <tr>\n",
       "      <th>2914306154</th>\n",
       "      <td>51.502744</td>\n",
       "      <td>-2.558880</td>\n",
       "      <td>1</td>\n",
       "      <td>NaN</td>\n",
       "      <td>NaN</td>\n",
       "      <td>POINT (-2.55888 51.50274)</td>\n",
       "    </tr>\n",
       "  </tbody>\n",
       "</table>\n",
       "</div>"
      ],
      "text/plain": [
       "                    y         x  street_count highway  ref  \\\n",
       "osmid                                                        \n",
       "298172819   51.482619 -2.767715             3     NaN  NaN   \n",
       "317399984   51.360247 -2.930562             2     NaN  NaN   \n",
       "1572010429  51.459374 -2.596515             1     NaN  NaN   \n",
       "2094196650  51.482695 -2.538694             2     NaN  NaN   \n",
       "2424544783  51.413636 -2.571634             3     NaN  NaN   \n",
       "2914306154  51.502744 -2.558880             1     NaN  NaN   \n",
       "\n",
       "                             geometry  \n",
       "osmid                                  \n",
       "298172819   POINT (-2.76772 51.48262)  \n",
       "317399984   POINT (-2.93056 51.36025)  \n",
       "1572010429  POINT (-2.59651 51.45937)  \n",
       "2094196650  POINT (-2.53869 51.48270)  \n",
       "2424544783  POINT (-2.57163 51.41364)  \n",
       "2914306154  POINT (-2.55888 51.50274)  "
      ]
     },
     "execution_count": 10,
     "metadata": {},
     "output_type": "execute_result"
    }
   ],
   "source": [
    "nodelist = list(pois['NX_node'].unique())\n",
    "nodes[nodes.index.isin(nodelist)]"
   ]
  },
  {
   "cell_type": "markdown",
   "metadata": {},
   "source": [
    "(own interpretation) In the next step, we aim to enhance the `flows` table by including information about both the origins and destinations of the flows. Specifically, we want to append geographical and possibly other descriptive data from the `pois` (Points of Interest) table to our flows data. Here's how the process works:\n",
    "\n",
    "1. **Dropping the 'geometry' column**: The `.loc[:, pois.columns != 'geometry']` syntax is used to select all columns except the 'geometry' column from the `pois` table. This is because we are presumably interested in non-spatial attributes (like XY coordinates) from the `pois` table to merge with our `flows` table.\n",
    "\n",
    "2. **Performing a left join**: We then perform two left joins using the `merge` function. The first merge adds data from `pois` to `flows` based on the `origin` column in `flows` and the `ID_code` column in `pois`. The second merge adds data based on the `destination` column in `flows`. A left join is used here to ensure all rows from the `flows` table are retained in the result, even if there is no matching `ID_code` in `pois`. This approach ensures we don't lose any flow data even if the corresponding point of interest is missing.\n",
    "\n",
    "3. **Renaming columns for clarity**: After merging, columns related to origins and destinations would have overlapping names (e.g., `X`, `Y`, `ID_code`), making it difficult to distinguish between the origin and destination data. Thus, we rename these columns to include a suffix (`_o` for origin and `_d` for destination), making the dataset clearer and easier to understand.\n",
    "\n",
    "4. **Displaying the header**: Finally, `flows_full.head()` displays the first few rows of the newly created table, allowing us to verify that the merge and renaming operations were successful.\n",
    "\n",
    "In summary, this step enriches the `flows` data with detailed information about both the origins and destinations by merging it with the `pois` table, ensuring that we maintain a clear distinction between data related to origins and destinations.\n"
   ]
  },
  {
   "cell_type": "code",
   "execution_count": 11,
   "metadata": {},
   "outputs": [
    {
     "data": {
      "text/html": [
       "<div>\n",
       "<style scoped>\n",
       "    .dataframe tbody tr th:only-of-type {\n",
       "        vertical-align: middle;\n",
       "    }\n",
       "\n",
       "    .dataframe tbody tr th {\n",
       "        vertical-align: top;\n",
       "    }\n",
       "\n",
       "    .dataframe thead th {\n",
       "        text-align: right;\n",
       "    }\n",
       "</style>\n",
       "<table border=\"1\" class=\"dataframe\">\n",
       "  <thead>\n",
       "    <tr style=\"text-align: right;\">\n",
       "      <th></th>\n",
       "      <th>origin</th>\n",
       "      <th>destination</th>\n",
       "      <th>ID_code_o</th>\n",
       "      <th>X_o</th>\n",
       "      <th>Y_o</th>\n",
       "      <th>node_o</th>\n",
       "      <th>ID_code_d</th>\n",
       "      <th>X_d</th>\n",
       "      <th>Y_d</th>\n",
       "      <th>node_d</th>\n",
       "    </tr>\n",
       "  </thead>\n",
       "  <tbody>\n",
       "    <tr>\n",
       "      <th>0</th>\n",
       "      <td>A91120</td>\n",
       "      <td>A91120</td>\n",
       "      <td>A91120</td>\n",
       "      <td>-2.559063</td>\n",
       "      <td>51.50283</td>\n",
       "      <td>2914306154</td>\n",
       "      <td>A91120</td>\n",
       "      <td>-2.559063</td>\n",
       "      <td>51.502830</td>\n",
       "      <td>2914306154</td>\n",
       "    </tr>\n",
       "    <tr>\n",
       "      <th>1</th>\n",
       "      <td>A91120</td>\n",
       "      <td>A99931</td>\n",
       "      <td>A91120</td>\n",
       "      <td>-2.559063</td>\n",
       "      <td>51.50283</td>\n",
       "      <td>2914306154</td>\n",
       "      <td>A99931</td>\n",
       "      <td>-2.596140</td>\n",
       "      <td>51.459182</td>\n",
       "      <td>1572010429</td>\n",
       "    </tr>\n",
       "    <tr>\n",
       "      <th>2</th>\n",
       "      <td>A91120</td>\n",
       "      <td>A99986</td>\n",
       "      <td>A91120</td>\n",
       "      <td>-2.559063</td>\n",
       "      <td>51.50283</td>\n",
       "      <td>2914306154</td>\n",
       "      <td>A99986</td>\n",
       "      <td>-2.538833</td>\n",
       "      <td>51.483143</td>\n",
       "      <td>2094196650</td>\n",
       "    </tr>\n",
       "    <tr>\n",
       "      <th>3</th>\n",
       "      <td>A91120</td>\n",
       "      <td>L81002</td>\n",
       "      <td>A91120</td>\n",
       "      <td>-2.559063</td>\n",
       "      <td>51.50283</td>\n",
       "      <td>2914306154</td>\n",
       "      <td>L81002</td>\n",
       "      <td>-2.930352</td>\n",
       "      <td>51.360207</td>\n",
       "      <td>317399984</td>\n",
       "    </tr>\n",
       "    <tr>\n",
       "      <th>4</th>\n",
       "      <td>A91120</td>\n",
       "      <td>L81004</td>\n",
       "      <td>A91120</td>\n",
       "      <td>-2.559063</td>\n",
       "      <td>51.50283</td>\n",
       "      <td>2914306154</td>\n",
       "      <td>L81004</td>\n",
       "      <td>-2.767317</td>\n",
       "      <td>51.482805</td>\n",
       "      <td>298172819</td>\n",
       "    </tr>\n",
       "  </tbody>\n",
       "</table>\n",
       "</div>"
      ],
      "text/plain": [
       "   origin destination ID_code_o       X_o       Y_o      node_o ID_code_d  \\\n",
       "0  A91120      A91120    A91120 -2.559063  51.50283  2914306154    A91120   \n",
       "1  A91120      A99931    A91120 -2.559063  51.50283  2914306154    A99931   \n",
       "2  A91120      A99986    A91120 -2.559063  51.50283  2914306154    A99986   \n",
       "3  A91120      L81002    A91120 -2.559063  51.50283  2914306154    L81002   \n",
       "4  A91120      L81004    A91120 -2.559063  51.50283  2914306154    L81004   \n",
       "\n",
       "        X_d        Y_d      node_d  \n",
       "0 -2.559063  51.502830  2914306154  \n",
       "1 -2.596140  51.459182  1572010429  \n",
       "2 -2.538833  51.483143  2094196650  \n",
       "3 -2.930352  51.360207   317399984  \n",
       "4 -2.767317  51.482805   298172819  "
      ]
     },
     "execution_count": 11,
     "metadata": {},
     "output_type": "execute_result"
    }
   ],
   "source": [
    "# get the node id's to flow data\n",
    "# create two seperate data the target origins and target destinations with the XY coordinates\n",
    "flows_full = flows.merge(pois.loc[:, pois.columns != 'geometry'], left_on = 'origin', right_on = 'ID_code', how = 'left')\n",
    "\n",
    "# lets just rename everything for the sake of clarity\n",
    "flows_full = flows_full.merge(pois.loc[:, pois.columns != 'geometry'], left_on = 'destination', right_on = 'ID_code', how = 'left').rename(columns = {'NX_node_x':'node_o','NX_node_y':'node_d', 'X_x':'X_o','Y_x':'Y_o', 'X_y':'X_d','Y_y':'Y_d', 'ID_code_x':'ID_code_o', 'ID_code_y':'ID_code_d'})\n",
    "\n",
    "flows_full.head()"
   ]
  },
  {
   "cell_type": "markdown",
   "metadata": {},
   "source": [
    "Check that the nodes are on the corect place"
   ]
  },
  {
   "cell_type": "code",
   "execution_count": 12,
   "metadata": {},
   "outputs": [
    {
     "data": {
      "image/png": "[encoded data removed]",
      "text/plain": [
       "<Figure size 640x480 with 2 Axes>"
      ]
     },
     "metadata": {},
     "output_type": "display_data"
    }
   ],
   "source": [
    "plt.figure()\n",
    "fig = plt.plot(); ax = plt.axes()\n",
    "nodes[nodes.index.isin(nodelist)].plot(ax=ax, markersize = 60, color=\"b\" )\n",
    "pois.plot(ax=ax, markersize = 20, color=\"r\")\n",
    "plt.show();"
   ]
  },
  {
   "cell_type": "markdown",
   "metadata": {},
   "source": [
    "### 4.3 Compute shortest path between each origin-destination pair of nodes\n",
    "[`networkx.shortest_path_length(G, source=None, target=None, weight=None, method='dijkstra')`](https://networkx.org/documentation/stable/reference/algorithms/generated/networkx.algorithms.shortest_paths.generic.shortest_path_length.html#networkx.algorithms.shortest_paths.generic.shortest_path_length) - Compute shortest path lengths in the graph.   \n",
    "Returns an int or a dictionary of int, depending on what is specified in the source and target parameters."
   ]
  },
  {
   "cell_type": "code",
   "execution_count": 13,
   "metadata": {},
   "outputs": [
    {
     "name": "stdout",
     "output_type": "stream",
     "text": [
      "30.7 s ± 1.05 s per loop (mean ± std. dev. of 7 runs, 1 loop each)\n"
     ]
    }
   ],
   "source": [
    "# define a function that calculates shortest path between the nodes on graph\n",
    "def path_length(row):\n",
    "    return nx.shortest_path_length(avon, row['node_o'], row['node_d'], weight='length')\n",
    "\n",
    "# apply the function to our Origin and Destination nodes\n",
    "%timeit flows_full['path_length'] = flows_full.apply(path_length, axis=1)"
   ]
  },
  {
   "cell_type": "code",
   "execution_count": 22,
   "metadata": {},
   "outputs": [
    {
     "name": "stdout",
     "output_type": "stream",
     "text": [
      "Total run time to compute shortest path lengths: 3.58 minutes\n"
     ]
    },
    {
     "data": {
      "text/html": [
       "<div>\n",
       "<style scoped>\n",
       "    .dataframe tbody tr th:only-of-type {\n",
       "        vertical-align: middle;\n",
       "    }\n",
       "\n",
       "    .dataframe tbody tr th {\n",
       "        vertical-align: top;\n",
       "    }\n",
       "\n",
       "    .dataframe thead th {\n",
       "        text-align: right;\n",
       "    }\n",
       "</style>\n",
       "<table border=\"1\" class=\"dataframe\">\n",
       "  <thead>\n",
       "    <tr style=\"text-align: right;\">\n",
       "      <th></th>\n",
       "      <th>origin</th>\n",
       "      <th>destination</th>\n",
       "      <th>ID_code_o</th>\n",
       "      <th>X_o</th>\n",
       "      <th>Y_o</th>\n",
       "      <th>node_o</th>\n",
       "      <th>ID_code_d</th>\n",
       "      <th>X_d</th>\n",
       "      <th>Y_d</th>\n",
       "      <th>node_d</th>\n",
       "      <th>path_length</th>\n",
       "      <th>distances</th>\n",
       "    </tr>\n",
       "  </thead>\n",
       "  <tbody>\n",
       "    <tr>\n",
       "      <th>0</th>\n",
       "      <td>A91120</td>\n",
       "      <td>A91120</td>\n",
       "      <td>A91120</td>\n",
       "      <td>-2.559063</td>\n",
       "      <td>51.50283</td>\n",
       "      <td>2914306154</td>\n",
       "      <td>A91120</td>\n",
       "      <td>-2.559063</td>\n",
       "      <td>51.502830</td>\n",
       "      <td>2914306154</td>\n",
       "      <td>0.000</td>\n",
       "      <td>0.000</td>\n",
       "    </tr>\n",
       "    <tr>\n",
       "      <th>1</th>\n",
       "      <td>A91120</td>\n",
       "      <td>A99931</td>\n",
       "      <td>A91120</td>\n",
       "      <td>-2.559063</td>\n",
       "      <td>51.50283</td>\n",
       "      <td>2914306154</td>\n",
       "      <td>A99931</td>\n",
       "      <td>-2.596140</td>\n",
       "      <td>51.459182</td>\n",
       "      <td>1572010429</td>\n",
       "      <td>6983.971</td>\n",
       "      <td>6973.997</td>\n",
       "    </tr>\n",
       "    <tr>\n",
       "      <th>2</th>\n",
       "      <td>A91120</td>\n",
       "      <td>A99986</td>\n",
       "      <td>A91120</td>\n",
       "      <td>-2.559063</td>\n",
       "      <td>51.50283</td>\n",
       "      <td>2914306154</td>\n",
       "      <td>A99986</td>\n",
       "      <td>-2.538833</td>\n",
       "      <td>51.483143</td>\n",
       "      <td>2094196650</td>\n",
       "      <td>4332.733</td>\n",
       "      <td>4332.730</td>\n",
       "    </tr>\n",
       "    <tr>\n",
       "      <th>3</th>\n",
       "      <td>A91120</td>\n",
       "      <td>L81002</td>\n",
       "      <td>A91120</td>\n",
       "      <td>-2.559063</td>\n",
       "      <td>51.50283</td>\n",
       "      <td>2914306154</td>\n",
       "      <td>L81002</td>\n",
       "      <td>-2.930352</td>\n",
       "      <td>51.360207</td>\n",
       "      <td>317399984</td>\n",
       "      <td>35962.683</td>\n",
       "      <td>35962.668</td>\n",
       "    </tr>\n",
       "    <tr>\n",
       "      <th>4</th>\n",
       "      <td>A91120</td>\n",
       "      <td>L81004</td>\n",
       "      <td>A91120</td>\n",
       "      <td>-2.559063</td>\n",
       "      <td>51.50283</td>\n",
       "      <td>2914306154</td>\n",
       "      <td>L81004</td>\n",
       "      <td>-2.767317</td>\n",
       "      <td>51.482805</td>\n",
       "      <td>298172819</td>\n",
       "      <td>20583.555</td>\n",
       "      <td>20545.777</td>\n",
       "    </tr>\n",
       "  </tbody>\n",
       "</table>\n",
       "</div>"
      ],
      "text/plain": [
       "   origin destination ID_code_o       X_o       Y_o      node_o ID_code_d  \\\n",
       "0  A91120      A91120    A91120 -2.559063  51.50283  2914306154    A91120   \n",
       "1  A91120      A99931    A91120 -2.559063  51.50283  2914306154    A99931   \n",
       "2  A91120      A99986    A91120 -2.559063  51.50283  2914306154    A99986   \n",
       "3  A91120      L81002    A91120 -2.559063  51.50283  2914306154    L81002   \n",
       "4  A91120      L81004    A91120 -2.559063  51.50283  2914306154    L81004   \n",
       "\n",
       "        X_d        Y_d      node_d  path_length  distances  \n",
       "0 -2.559063  51.502830  2914306154        0.000      0.000  \n",
       "1 -2.596140  51.459182  1572010429     6983.971   6973.997  \n",
       "2 -2.538833  51.483143  2094196650     4332.733   4332.730  \n",
       "3 -2.930352  51.360207   317399984    35962.683  35962.668  \n",
       "4 -2.767317  51.482805   298172819    20583.555  20545.777  "
      ]
     },
     "execution_count": 22,
     "metadata": {},
     "output_type": "execute_result"
    }
   ],
   "source": [
    "# Total run time for the function to compute the shortest path lengths for all the node combinations\n",
    "print(\"Total run time to compute shortest path lengths:\", str(round((30.7*(7*1))/60,2)) + ' minutes')\n",
    "flows_full.head()"
   ]
  },
  {
   "cell_type": "markdown",
   "metadata": {},
   "source": [
    "## 5. Use Pandana to calculate walking distances\n",
    "### 5.1 Load Graph\n",
    "Listen, I have tried to use the osm loader inside the ``pandana``, but it took ages. after 2 hours of loading, I decided it will be easier to get the previously loaded osm graph with ``osmnx`` and use that as a base for the pandana graph. You can just simply use the geodataframes of nodes and flows for the base of your graph."
   ]
  },
  {
   "cell_type": "code",
   "execution_count": 15,
   "metadata": {},
   "outputs": [],
   "source": [
    "# reset index so our origins and destinations are not in idexes\n",
    "edges = edges.reset_index()\n",
    "\n",
    "# create network with pandana\n",
    "avon_pan = pandana.Network(nodes['x'], nodes['y'], \n",
    "                          edges['u'], edges['v'], edges[['length']])"
   ]
  },
  {
   "cell_type": "markdown",
   "metadata": {},
   "source": [
    "Find the nearest nodes to our points in pandana graph using `pandana.get_node_ids(x_col, y_col, mapping_distance=None)`   \n",
    "Def: Assign node_ids to data specified by x_col and y_col.   \n",
    "Returns a Pandas Series of node_ids for each x, y in the input data. "
   ]
  },
  {
   "cell_type": "code",
   "execution_count": 16,
   "metadata": {},
   "outputs": [
    {
     "data": {
      "text/plain": [
       "array([2914306154, 2914306154, 2914306154, 2914306154, 2914306154,\n",
       "       2914306154, 1859320333, 1859320333, 1859320333, 1859320333,\n",
       "       1859320333, 1859320333, 2094196650, 2094196650, 2094196650,\n",
       "       2094196650, 2094196650, 2094196650,  317399984,  317399984,\n",
       "        317399984,  317399984,  317399984,  317399984, 9429727608,\n",
       "       9429727608, 9429727608, 9429727608, 9429727608, 9429727608,\n",
       "       2424544775, 2424544775, 2424544775, 2424544775, 2424544775,\n",
       "       2424544775], dtype=int64)"
      ]
     },
     "execution_count": 16,
     "metadata": {},
     "output_type": "execute_result"
    }
   ],
   "source": [
    "# we are going to define the origins and destinations separately as a list\n",
    "# get_node_ids uses kdtree writen in c++, google it its like a magic\n",
    "\n",
    "origin_nodes = avon_pan.get_node_ids(flows_full.X_o, flows_full.Y_o).values\n",
    "dests_nodes = avon_pan.get_node_ids(flows_full.X_d, flows_full.Y_d).values\n",
    "\n",
    "origin_nodes"
   ]
  },
  {
   "cell_type": "markdown",
   "metadata": {},
   "source": [
    "### 5.2 Compute shortest path between each origin-destination pair\n",
    "[``pandana.shortest_path_lengths(nodes_a, nodes_b, imp_name=None)``](http://udst.github.io/pandana/network.html#pandana.network.Network.shortest_path_lengths) - Return array of float-values of the length of the shortest path between node IDs in the network. (Vectorized version)."
   ]
  },
  {
   "cell_type": "code",
   "execution_count": 17,
   "metadata": {},
   "outputs": [
    {
     "name": "stdout",
     "output_type": "stream",
     "text": [
      "CPU times: total: 46.9 ms\n",
      "Wall time: 90 ms\n"
     ]
    }
   ],
   "source": [
    "%%time\n",
    "flows_full['distances'] = pd.Series(avon_pan.shortest_path_lengths(origin_nodes, dests_nodes))"
   ]
  },
  {
   "cell_type": "markdown",
   "metadata": {},
   "source": [
    "### 5.3 Compare time to compute shortest paths between NetworkX and Pandana"
   ]
  },
  {
   "cell_type": "code",
   "execution_count": 23,
   "metadata": {},
   "outputs": [
    {
     "name": "stdout",
     "output_type": "stream",
     "text": [
      "This means Pandana was 2386.67 times faster than Networkx for computing shortest paths for all the node combinations.\n"
     ]
    }
   ],
   "source": [
    "Networkx_time = 3.58 # minutes\n",
    "Pandana_time = 90 # ms\n",
    "speed_up = (Networkx_time*60)*1000/Pandana_time\n",
    "\n",
    "print(\"This means Pandana was\", round(speed_up,2), \"times faster than Networkx for computing shortest paths for all the node combinations.\")"
   ]
  },
  {
   "cell_type": "markdown",
   "metadata": {},
   "source": [
    "### 5.4 Check that the nodes are the same as those from NetworkX\n",
    "The distances seems to be satisfying but are we sure that the packages picked up the same nodes?"
   ]
  },
  {
   "cell_type": "code",
   "execution_count": 19,
   "metadata": {},
   "outputs": [
    {
     "data": {
      "text/html": [
       "<div>\n",
       "<style scoped>\n",
       "    .dataframe tbody tr th:only-of-type {\n",
       "        vertical-align: middle;\n",
       "    }\n",
       "\n",
       "    .dataframe tbody tr th {\n",
       "        vertical-align: top;\n",
       "    }\n",
       "\n",
       "    .dataframe thead th {\n",
       "        text-align: right;\n",
       "    }\n",
       "</style>\n",
       "<table border=\"1\" class=\"dataframe\">\n",
       "  <thead>\n",
       "    <tr style=\"text-align: right;\">\n",
       "      <th></th>\n",
       "      <th>origin</th>\n",
       "      <th>destination</th>\n",
       "      <th>ID_code_o</th>\n",
       "      <th>X_o</th>\n",
       "      <th>Y_o</th>\n",
       "      <th>node_o</th>\n",
       "      <th>ID_code_d</th>\n",
       "      <th>X_d</th>\n",
       "      <th>Y_d</th>\n",
       "      <th>node_d</th>\n",
       "      <th>path_length</th>\n",
       "      <th>distances</th>\n",
       "    </tr>\n",
       "  </thead>\n",
       "  <tbody>\n",
       "    <tr>\n",
       "      <th>0</th>\n",
       "      <td>A91120</td>\n",
       "      <td>A91120</td>\n",
       "      <td>A91120</td>\n",
       "      <td>-2.559063</td>\n",
       "      <td>51.50283</td>\n",
       "      <td>2914306154</td>\n",
       "      <td>A91120</td>\n",
       "      <td>-2.559063</td>\n",
       "      <td>51.502830</td>\n",
       "      <td>2914306154</td>\n",
       "      <td>0.000</td>\n",
       "      <td>0.000</td>\n",
       "    </tr>\n",
       "    <tr>\n",
       "      <th>1</th>\n",
       "      <td>A91120</td>\n",
       "      <td>A99931</td>\n",
       "      <td>A91120</td>\n",
       "      <td>-2.559063</td>\n",
       "      <td>51.50283</td>\n",
       "      <td>2914306154</td>\n",
       "      <td>A99931</td>\n",
       "      <td>-2.596140</td>\n",
       "      <td>51.459182</td>\n",
       "      <td>1572010429</td>\n",
       "      <td>6983.971</td>\n",
       "      <td>6973.997</td>\n",
       "    </tr>\n",
       "    <tr>\n",
       "      <th>2</th>\n",
       "      <td>A91120</td>\n",
       "      <td>A99986</td>\n",
       "      <td>A91120</td>\n",
       "      <td>-2.559063</td>\n",
       "      <td>51.50283</td>\n",
       "      <td>2914306154</td>\n",
       "      <td>A99986</td>\n",
       "      <td>-2.538833</td>\n",
       "      <td>51.483143</td>\n",
       "      <td>2094196650</td>\n",
       "      <td>4332.733</td>\n",
       "      <td>4332.730</td>\n",
       "    </tr>\n",
       "    <tr>\n",
       "      <th>3</th>\n",
       "      <td>A91120</td>\n",
       "      <td>L81002</td>\n",
       "      <td>A91120</td>\n",
       "      <td>-2.559063</td>\n",
       "      <td>51.50283</td>\n",
       "      <td>2914306154</td>\n",
       "      <td>L81002</td>\n",
       "      <td>-2.930352</td>\n",
       "      <td>51.360207</td>\n",
       "      <td>317399984</td>\n",
       "      <td>35962.683</td>\n",
       "      <td>35962.668</td>\n",
       "    </tr>\n",
       "    <tr>\n",
       "      <th>4</th>\n",
       "      <td>A91120</td>\n",
       "      <td>L81004</td>\n",
       "      <td>A91120</td>\n",
       "      <td>-2.559063</td>\n",
       "      <td>51.50283</td>\n",
       "      <td>2914306154</td>\n",
       "      <td>L81004</td>\n",
       "      <td>-2.767317</td>\n",
       "      <td>51.482805</td>\n",
       "      <td>298172819</td>\n",
       "      <td>20583.555</td>\n",
       "      <td>20545.777</td>\n",
       "    </tr>\n",
       "  </tbody>\n",
       "</table>\n",
       "</div>"
      ],
      "text/plain": [
       "   origin destination ID_code_o       X_o       Y_o      node_o ID_code_d  \\\n",
       "0  A91120      A91120    A91120 -2.559063  51.50283  2914306154    A91120   \n",
       "1  A91120      A99931    A91120 -2.559063  51.50283  2914306154    A99931   \n",
       "2  A91120      A99986    A91120 -2.559063  51.50283  2914306154    A99986   \n",
       "3  A91120      L81002    A91120 -2.559063  51.50283  2914306154    L81002   \n",
       "4  A91120      L81004    A91120 -2.559063  51.50283  2914306154    L81004   \n",
       "\n",
       "        X_d        Y_d      node_d  path_length  distances  \n",
       "0 -2.559063  51.502830  2914306154        0.000      0.000  \n",
       "1 -2.596140  51.459182  1572010429     6983.971   6973.997  \n",
       "2 -2.538833  51.483143  2094196650     4332.733   4332.730  \n",
       "3 -2.930352  51.360207   317399984    35962.683  35962.668  \n",
       "4 -2.767317  51.482805   298172819    20583.555  20545.777  "
      ]
     },
     "execution_count": 19,
     "metadata": {},
     "output_type": "execute_result"
    }
   ],
   "source": [
    "flows_full.head()"
   ]
  },
  {
   "cell_type": "code",
   "execution_count": 20,
   "metadata": {},
   "outputs": [
    {
     "data": {
      "text/plain": [
       "count       36\n",
       "unique       2\n",
       "top       True\n",
       "freq        18\n",
       "Name: node_o, dtype: object"
      ]
     },
     "execution_count": 20,
     "metadata": {},
     "output_type": "execute_result"
    }
   ],
   "source": [
    "x = origin_nodes == flows_full['node_o']\n",
    "x.describe()"
   ]
  },
  {
   "cell_type": "code",
   "execution_count": 21,
   "metadata": {},
   "outputs": [
    {
     "data": {
      "text/plain": [
       "count       36\n",
       "unique       2\n",
       "top       True\n",
       "freq        18\n",
       "Name: node_d, dtype: object"
      ]
     },
     "execution_count": 21,
     "metadata": {},
     "output_type": "execute_result"
    }
   ],
   "source": [
    "y = dests_nodes == flows_full['node_d']\n",
    "y.describe()"
   ]
  },
  {
   "cell_type": "markdown",
   "metadata": {},
   "source": [
    "This looks spot on."
   ]
  },
  {
   "cell_type": "code",
   "execution_count": null,
   "metadata": {},
   "outputs": [],
   "source": []
  },
  {
   "cell_type": "markdown",
   "metadata": {},
   "source": [
    "## Appendix for environment setup\n",
    "If you want to run this on Google Colab, you need to install\n",
    "1. Geopandas\n",
    "2. OsmnX\n",
    "3. Matplotlib"
   ]
  },
  {
   "cell_type": "code",
   "execution_count": null,
   "metadata": {},
   "outputs": [],
   "source": [
    "# install Geopandas\n",
    "# Important library for many geopython libraries\n",
    "!apt install gdal-bin python-gdal python3-gdal \n",
    "# Install rtree - Geopandas requirment\n",
    "!apt install python3-rtree \n",
    "# Install Geopandas\n",
    "!pip install git+git://github.com/geopandas/geopandas.git\n",
    "# Install descartes - Geopandas requirment\n",
    "!pip install descartes \n",
    "# Install Folium for Geographic data visualization\n",
    "!pip install folium\n",
    "# Install plotlyExpress\n",
    "!pip install plotly_express# install packages"
   ]
  },
  {
   "cell_type": "code",
   "execution_count": null,
   "metadata": {},
   "outputs": [],
   "source": [
    "# osmnx\n",
    "# this gives errors but works ...no idea\n",
    "!apt-get -qq install -y libspatialindex-dev && pip install -q -U osmnx \n",
    "ox.config(use_cache=True, log_console=True)"
   ]
  },
  {
   "cell_type": "code",
   "execution_count": null,
   "metadata": {},
   "outputs": [],
   "source": [
    "!python -m pip uninstall matplotlib\n",
    "!pip install matplotlib==3.1.3# mount the drive"
   ]
  },
  {
   "cell_type": "code",
   "execution_count": null,
   "metadata": {},
   "outputs": [],
   "source": [
    "name: graphs\n",
    "channels:\n",
    "  - conda-forge\n",
    "  - defaults\n",
    "dependencies:\n",
    "  - _r-mutex=1.0.1=anacondar_1\n",
    "  - anyio=2.2.0=py39hcbf5309_0\n",
    "  - argon2-cffi=20.1.0=py39hb82d6ee_2\n",
    "  - async_generator=1.10=py_0\n",
    "  - attrs=20.3.0=pyhd3deb0d_0\n",
    "  - babel=2.9.0=pyhd3deb0d_0\n",
    "  - backcall=0.2.0=pyh9f0ad1d_0\n",
    "  - backports=1.0=py_2\n",
    "  - backports.functools_lru_cache=1.6.1=py_0\n",
    "  - bleach=3.3.0=pyh44b312d_0\n",
    "  - blosc=1.21.0=h0e60522_0\n",
    "  - boost-cpp=1.74.0=h54f0996_2\n",
    "  - branca=0.4.2=pyhd8ed1ab_0\n",
    "  - brotlipy=0.7.0=py39hb82d6ee_1001\n",
    "  - bzip2=1.0.8=h8ffe710_4\n",
    "  - ca-certificates=2020.12.5=h5b45459_0\n",
    "  - cairo=1.16.0=hba8bd2f_1007\n",
    "  - certifi=2020.12.5=py39hcbf5309_1\n",
    "  - cffi=1.14.5=py39h0878f49_0\n",
    "  - cfitsio=3.470=h0af3d06_7\n",
    "  - chardet=4.0.0=py39hcbf5309_1\n",
    "  - click=7.1.2=pyh9f0ad1d_0\n",
    "  - click-plugins=1.1.1=py_0\n",
    "  - cligj=0.7.1=pyhd8ed1ab_0\n",
    "  - colorama=0.4.4=pyh9f0ad1d_0\n",
    "  - cryptography=3.4.6=py39hd8d06c1_0\n",
    "  - curl=7.75.0=hf1763fc_0\n",
    "  - cycler=0.10.0=py_2\n",
    "  - decorator=4.4.2=py_0\n",
    "  - defusedxml=0.7.1=pyhd8ed1ab_0\n",
    "  - descartes=1.1.0=py_4\n",
    "  - entrypoints=0.3=pyhd8ed1ab_1003\n",
    "  - expat=2.2.10=h39d44d4_0\n",
    "  - fiona=1.8.18=py39h9f1b043_1\n",
    "  - folium=0.12.0=pyhd8ed1ab_0\n",
    "  - fontconfig=2.13.1=h1989441_1004\n",
    "  - freetype=2.10.4=h546665d_1\n",
    "  - freexl=1.0.5=hd288d7e_1002\n",
    "  - gdal=3.2.2=py39h6795fcd_0\n",
    "  - geopandas=0.9.0=pyhd8ed1ab_0\n",
    "  - geos=3.9.1=h39d44d4_2\n",
    "  - geotiff=1.6.0=h8e90983_5\n",
    "  - gettext=0.19.8.1=h1a89ca6_1005\n",
    "  - hdf4=4.2.13=h0e5069d_1004\n",
    "  - hdf5=1.10.6=nompi_h5268f04_1114\n",
    "  - icu=68.1=h0e60522_0\n",
    "  - idna=2.10=pyh9f0ad1d_0\n",
    "  - importlib-metadata=3.7.2=py39hcbf5309_0\n",
    "  - intel-openmp=2020.3=h57928b3_311\n",
    "  - ipykernel=5.5.0=py39h832f523_1\n",
    "  - ipython=7.21.0=py39h832f523_0\n",
    "  - ipython_genutils=0.2.0=py_1\n",
    "  - jedi=0.18.0=py39hcbf5309_2\n",
    "  - jinja2=2.11.3=pyh44b312d_0\n",
    "  - joblib=1.0.1=pyhd8ed1ab_0\n",
    "  - jpeg=9d=h8ffe710_0\n",
    "  - json5=0.9.5=pyh9f0ad1d_0\n",
    "  - jsonschema=3.2.0=pyhd8ed1ab_3\n",
    "  - jupyter-packaging=0.7.12=pyhd8ed1ab_0\n",
    "  - jupyter_client=6.1.11=pyhd8ed1ab_1\n",
    "  - jupyter_core=4.7.1=py39hcbf5309_0\n",
    "  - jupyter_server=1.4.1=py39hcbf5309_0\n",
    "  - jupyterlab=3.0.10=pyhd8ed1ab_0\n",
    "  - jupyterlab_pygments=0.1.2=pyh9f0ad1d_0\n",
    "  - jupyterlab_server=2.3.0=pyhd8ed1ab_0\n",
    "  - kealib=1.4.14=h96bfa42_2\n",
    "  - kiwisolver=1.3.1=py39h2e07f2f_1\n",
    "  - krb5=1.17.2=hbae68bd_0\n",
    "  - lcms2=2.12=h2a16943_0\n",
    "  - libblas=3.9.0=8_mkl\n",
    "  - libcblas=3.9.0=8_mkl\n",
    "  - libcurl=7.75.0=hf1763fc_0\n",
    "  - libffi=3.3=h0e60522_2\n",
    "  - libgdal=3.2.2=hbe61683_0\n",
    "  - libglib=2.66.7=h1e62bf3_1\n",
    "  - libiconv=1.16=he774522_0\n",
    "  - libkml=1.3.0=h02ac0ef_1012\n",
    "  - liblapack=3.9.0=8_mkl\n",
    "  - libnetcdf=4.7.4=nompi_h3a9aa94_107\n",
    "  - libpng=1.6.37=h1d00b33_2\n",
    "  - libpq=13.1=h4f54205_2\n",
    "  - librttopo=1.1.0=hb340de5_6\n",
    "  - libsodium=1.0.18=h8d14728_1\n",
    "  - libspatialindex=1.9.3=h39d44d4_3\n",
    "  - libspatialite=5.0.1=h6b539a6_4\n",
    "  - libssh2=1.9.0=h680486a_6\n",
    "  - libtiff=4.2.0=hc10be44_0\n",
    "  - libwebp-base=1.2.0=h8ffe710_0\n",
    "  - libxml2=2.9.10=hf5bbc77_3\n",
    "  - lz4-c=1.9.3=h8ffe710_0\n",
    "  - m2w64-bwidget=1.9.10=2\n",
    "  - m2w64-bzip2=1.0.6=6\n",
    "  - m2w64-expat=2.1.1=2\n",
    "  - m2w64-fftw=3.3.4=6\n",
    "  - m2w64-flac=1.3.1=3\n",
    "  - m2w64-gcc-libgfortran=5.3.0=6\n",
    "  - m2w64-gcc-libs=5.3.0=7\n",
    "  - m2w64-gcc-libs-core=5.3.0=7\n",
    "  - m2w64-gettext=0.19.7=2\n",
    "  - m2w64-gmp=6.1.0=2\n",
    "  - m2w64-gsl=2.1=2\n",
    "  - m2w64-libiconv=1.14=6\n",
    "  - m2w64-libjpeg-turbo=1.4.2=3\n",
    "  - m2w64-libogg=1.3.2=3\n",
    "  - m2w64-libpng=1.6.21=2\n",
    "  - m2w64-libsndfile=1.0.26=2\n",
    "  - m2w64-libtiff=4.0.6=2\n",
    "  - m2w64-libvorbis=1.3.5=2\n",
    "  - m2w64-libwinpthread-git=5.0.0.4634.697f757=2\n",
    "  - m2w64-libxml2=2.9.3=3\n",
    "  - m2w64-mpfr=3.1.4=4\n",
    "  - m2w64-pcre2=10.34=0\n",
    "  - m2w64-speex=1.2rc2=3\n",
    "  - m2w64-speexdsp=1.2rc3=3\n",
    "  - m2w64-tcl=8.6.5=3\n",
    "  - m2w64-tk=8.6.5=3\n",
    "  - m2w64-tktable=2.10=5\n",
    "  - m2w64-wineditline=2.101=5\n",
    "  - m2w64-xz=5.2.2=2\n",
    "  - m2w64-zlib=1.2.8=10\n",
    "  - markupsafe=1.1.1=py39hb82d6ee_3\n",
    "  - matplotlib-base=3.3.4=py39h581301d_0\n",
    "  - mistune=0.8.4=py39hb82d6ee_1003\n",
    "  - mkl=2020.4=hb70f87d_311\n",
    "  - mock=4.0.3=py39hcbf5309_1\n",
    "  - msys2-conda-epoch=20160418=1\n",
    "  - munch=2.5.0=py_0\n",
    "  - nbclassic=0.2.6=pyhd8ed1ab_0\n",
    "  - nbclient=0.5.3=pyhd8ed1ab_0\n",
    "  - nbconvert=6.0.7=py39hcbf5309_3\n",
    "  - nbformat=5.1.2=pyhd8ed1ab_1\n",
    "  - nest-asyncio=1.4.3=pyhd8ed1ab_0\n",
    "  - networkx=2.5=py_0\n",
    "  - notebook=6.2.0=py39hcbf5309_0\n",
    "  - numexpr=2.7.3=py39h2e25243_0\n",
    "  - numpy=1.20.1=py39h6635163_0\n",
    "  - olefile=0.46=pyh9f0ad1d_1\n",
    "  - openjpeg=2.4.0=h48faf41_0\n",
    "  - openssl=1.1.1j=h8ffe710_0\n",
    "  - osmnx=1.0.1=pyhd3deb0d_0\n",
    "  - packaging=20.9=pyh44b312d_0\n",
    "  - pandana=0.6=py39h2e25243_0\n",
    "  - pandas=1.2.3=py39h2e25243_0\n",
    "  - pandoc=2.12=h8ffe710_0\n",
    "  - pandocfilters=1.4.2=py_1\n",
    "  - parso=0.8.1=pyhd8ed1ab_0\n",
    "  - pcre=8.44=ha925a31_0\n",
    "  - pickleshare=0.7.5=py_1003\n",
    "  - pillow=8.1.2=py39h1a9d4f7_0\n",
    "  - pip=21.0.1=pyhd8ed1ab_0\n",
    "  - pixman=0.40.0=h8ffe710_0\n",
    "  - poppler=21.03.0=h9ff6ed8_0\n",
    "  - poppler-data=0.4.10=0\n",
    "  - postgresql=13.1=h0f1a9bc_2\n",
    "  - proj=8.0.0=h1cfcee9_0\n",
    "  - prometheus_client=0.9.0=pyhd3deb0d_0\n",
    "  - prompt-toolkit=3.0.16=pyha770c72_0\n",
    "  - pycparser=2.20=pyh9f0ad1d_2\n",
    "  - pygments=2.8.1=pyhd8ed1ab_0\n",
    "  - pyopenssl=20.0.1=pyhd8ed1ab_0\n",
    "  - pyparsing=2.4.7=pyh9f0ad1d_0\n",
    "  - pyproj=3.0.1=py39h1007a03_1\n",
    "  - pyrsistent=0.17.3=py39hb82d6ee_2\n",
    "  - pysocks=1.7.1=py39hcbf5309_3\n",
    "  - pytables=3.6.1=py39h42e6cd8_3\n",
    "  - python=3.9.2=h7840368_0_cpython\n",
    "  - python-dateutil=2.8.1=py_0\n",
    "  - python_abi=3.9=1_cp39\n",
    "  - pytz=2021.1=pyhd8ed1ab_0\n",
    "  - pywin32=300=py39hb82d6ee_0\n",
    "  - pywinpty=0.5.7=py39hde42818_1\n",
    "  - pyzmq=22.0.3=py39he46f08e_1\n",
    "  - r-base=4.0.3=hddad469_7\n",
    "  - r-iterators=1.0.13=r40h142f84f_0\n",
    "  - r-itertools=0.1_3=r40_1003\n",
    "  - requests=2.25.1=pyhd3deb0d_0\n",
    "  - rtree=0.9.7=py39h09fdee3_1\n",
    "  - scikit-learn=0.24.1=py39he931e04_0\n",
    "  - scipy=1.6.0=py39hc0c34ad_0\n",
    "  - send2trash=1.5.0=py_0\n",
    "  - setuptools=49.6.0=py39hcbf5309_3\n",
    "  - shapely=1.7.1=py39h90c6b7e_4\n",
    "  - six=1.15.0=pyh9f0ad1d_0\n",
    "  - sniffio=1.2.0=py39hcbf5309_1\n",
    "  - sqlite=3.34.0=h8ffe710_0\n",
    "  - terminado=0.9.2=py39hcbf5309_0\n",
    "  - testpath=0.4.4=py_0\n",
    "  - threadpoolctl=2.1.0=pyh5ca1d4c_0\n",
    "  - tiledb=2.2.4=hddc2a84_2\n",
    "  - tk=8.6.10=h8ffe710_1\n",
    "  - tornado=6.1=py39hb82d6ee_1\n",
    "  - traitlets=5.0.5=py_0\n",
    "  - tzdata=2021a=he74cb21_0\n",
    "  - urllib3=1.26.3=pyhd8ed1ab_0\n",
    "  - vc=14.2=hb210afc_4\n",
    "  - vs2015_runtime=14.28.29325=h5e1d092_4\n",
    "  - wcwidth=0.2.5=pyh9f0ad1d_2\n",
    "  - webencodings=0.5.1=py_1\n",
    "  - wheel=0.36.2=pyhd3deb0d_0\n",
    "  - win_inet_pton=1.1.0=py39hcbf5309_2\n",
    "  - wincertstore=0.2=py39hcbf5309_1006\n",
    "  - winpty=0.4.3=4\n",
    "  - xerces-c=3.2.3=h0e60522_2\n",
    "  - xz=5.2.5=h62dcd97_1\n",
    "  - zeromq=4.3.4=h0e60522_0\n",
    "  - zipp=3.4.1=pyhd8ed1ab_0\n",
    "  - zlib=1.2.11=h62dcd97_1010\n",
    "  - zstd=1.4.9=h6255e5f_0"
   ]
  }
 ],
 "metadata": {
  "kernelspec": {
   "display_name": "base",
   "language": "python",
   "name": "python3"
  },
  "language_info": {
   "codemirror_mode": {
    "name": "ipython",
    "version": 3
   },
   "file_extension": ".py",
   "mimetype": "text/x-python",
   "name": "python",
   "nbconvert_exporter": "python",
   "pygments_lexer": "ipython3",
   "version": "3.11.6"
  }
 },
 "nbformat": 4,
 "nbformat_minor": 2
}
