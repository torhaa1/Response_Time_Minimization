{
 "cells": [
  {
   "cell_type": "markdown",
   "metadata": {},
   "source": [
    "# PuLP solvers comparison\n",
    "\n",
    "This notebook compares the performance of different solvers in PuLP using a capacitated vehicle positioning problem as an example. The problem is formulated as a mixed-integer linear programming problem (MILP) and solved using three different solvers: PULP_CBC (COIN-OR Branch and Cut), GLPK (GNU Linear Programming Kit), and HiGHS (High-Performance Solver). The performance of the solvers is compared in terms of the solution time and the objective value.\n"
   ]
  },
  {
   "cell_type": "code",
   "execution_count": 1,
   "metadata": {},
   "outputs": [
    {
     "name": "stdout",
     "output_type": "stream",
     "text": [
      "Last updated: 2024-03-18T18:27:05.581306+01:00\n",
      "\n",
      "Python implementation: CPython\n",
      "Python version       : 3.11.6\n",
      "IPython version      : 8.22.2\n",
      "\n",
      "Compiler    : MSC v.1935 64 bit (AMD64)\n",
      "OS          : Windows\n",
      "Release     : 10\n",
      "Machine     : AMD64\n",
      "Processor   : Intel64 Family 6 Model 158 Stepping 10, GenuineIntel\n",
      "CPU cores   : 12\n",
      "Architecture: 64bit\n",
      "\n"
     ]
    }
   ],
   "source": [
    "# import watermark\n",
    "%reload_ext watermark\n",
    "%watermark"
   ]
  },
  {
   "cell_type": "code",
   "execution_count": 2,
   "metadata": {},
   "outputs": [
    {
     "name": "stdout",
     "output_type": "stream",
     "text": [
      "Watermark: 2.4.3\n",
      "\n",
      "pandas    : 2.2.1\n",
      "numpy     : 1.26.4\n",
      "pulp      : 2.8.0\n",
      "matplotlib: 3.8.3\n",
      "geopandas : 0.14.3\n",
      "highspy   : 1.5.3\n",
      "\n"
     ]
    }
   ],
   "source": [
    "import numpy as np\n",
    "import pandas as pd\n",
    "import geopandas as gpd\n",
    "import matplotlib.pyplot as plt\n",
    "\n",
    "import pulp\n",
    "import highspy\n",
    "\n",
    "pd.set_option('display.float_format', lambda x: '%.3f' % x)\n",
    "# ox.settings.log_console=True\n",
    "# ox.settings.use_cache=True\n",
    "%watermark -w\n",
    "%watermark -iv"
   ]
  },
  {
   "cell_type": "markdown",
   "metadata": {},
   "source": [
    "### Problem formulation:\n",
    "- The objective function is to minimize the total response time of the police vehicles to events in their district.\n",
    "- The constraints include \n",
    "    - a fixed number of police car locations\n",
    "    - each event must be assigned to exactly one police car.\n",
    "    - A police car can be assigned to an event only if it's placed at the corresponding location.\n",
    "    - Each police car has a maximum capacity of events it can respond to (M).\n",
    "- Complexity and Model Scalability: The presence of binary variables (x,y) transforms your problem into a Mixed-Integer Linear Programming (MILP) problem, inherently making it NP-hard. This complexity means that solving time can increase exponentially with the size of your data or the constraints of your problem\n",
    "\n",
    "### Problem characteristics:\n",
    "- The problem has 30 cars and over 2286 locations.\n",
    "- The CostMatrix which holds the pairs of car nodes, event nodes and the cost of travel between them is a 30x2286 matrix (68580 elements). This can be considered a large-scale linear programming problem.\n",
    "- The problem's density (ratio of non-zero entries in the cost matrix to the total possible entries) is usually sparse for road networks. Sparse problems have many zero or near-zero elements in their matrices, implying that not every police car location has a direct path to every event, which is typical in real-world road networks.\n",
    "\n",
    "### Suggested methods:\n",
    "Method often depends on the problem's specific characteristics, such as its size, density, and the nature of its constraints and variables.\n",
    "- **Simplex Method**: Primarily used for solving linear programming problems, the Simplex method iterates through vertices of the feasible region in the direction of increasing value of the objective function until the optimum is reached. While incredibly efficient for linear problems, its performance may suffer as the problem scales or becomes more complex with integer constraints.\n",
    "\n",
    "- **Interior-Point Methods**: These methods are more suited for large-scale linear programming problems and work by traversing the interior of the feasible region. They can be faster than the Simplex method for very large problems but might not be as efficient when dealing with MILP problems due to the necessity of handling binary or integer variables.\n",
    "\n",
    "- **Branch and Bound (B&B)**: This is the most common approach for solving MILP problems. It involves solving a series of linear programming relaxations of the original problem, systematically dividing the problem (branching) into smaller subproblems, and eliminating regions that do not contain an optimal solution (bounding). This method is effective for problems with binary and integer variables but can be computationally expensive.\n",
    "\n",
    "Of the above methods, the Branch and Bound method stands out as most suited for the given problem. All the solvers below (PULP_CBC_CMD, GLPK_CMD, and HiGHS), all can implement the B&B method effectively but with different performance characteristics and features.\n"
   ]
  },
  {
   "cell_type": "markdown",
   "metadata": {},
   "source": [
    "### Formal definition of the problem:\n",
    "\n",
    "#### Notation\n",
    "\n",
    "Let's define the notation that will be used to formulate the problem:\n",
    "- $N$ : The set of all nodes in the road network.\n",
    "- $E$ : The set of events, each associated with a node in $N$ and a severity score.\n",
    "- $P$ : The set of potential police car locations, a subset of $N$.\n",
    "- $C_{ij}$ : The travel time from police car location $i \\in P$ to event location $j \\in E$.\n",
    "- $x_i$ : Binary decision variable where $x_i = 1$ if a police car is positioned at node $i$, and $x_i = 0$ otherwise.\n",
    "- $y_{ij}$ : Binary decision variable where $y_{ij} = 1$ if the event $j$ is assigned to the police car located at $i$, and $y_{ij} = 0$ otherwise.\n",
    "\n",
    "**Objective Function**: minimize the total response time to all events. The response time is the travel time from a police car to an event, considering only the assignments where $y_{ij} = 1$.\n",
    "$\n",
    "\\text{Minimize} \\quad Z = \\sum_{i \\in P} C_{ij} \\cdot y_{ij}\n",
    "$\n",
    "\n",
    "#### Constraints\n",
    "1. **Police Car Placement Constraint**: Only $K$ police cars are available to be deployed.\n",
    "$\n",
    "\\sum_{i \\in P} x_i = K\n",
    "$\n",
    "\n",
    "2. **Event Assignment Constraint**: Each event must be assigned to exactly one police car.\n",
    "$\n",
    "\\sum_{i \\in P} y_{ij} = 1 \\quad \\forall j \\in E\n",
    "$\n",
    "\n",
    "3. **Validity Constraint**: An event can only be assigned to a police car if that car is positioned at a node.\n",
    "$\n",
    "y_{ij} \\leq x_i \\quad \\forall i \\in P, \\forall j \\in E\n",
    "$\n",
    "\n",
    "4. **Capacity Constraint**: Each police car can only be assigned to a limited number of events.\n",
    "$\n",
    "\\sum_{j \\in E} y_{ij} \\leq M_i \\cdot x_i \\quad \\forall i \\in P\n",
    "$\n",
    "\n",
    "5. **Non-Negativity and Integrality**: Ensure that the decision variables are binary.\n",
    "$\n",
    "x_i \\in \\{0, 1\\} \\quad \\forall i \\in P\n",
    "$\n",
    "$\n",
    "y_{ij} \\in \\{0, 1\\} \\quad \\forall i \\in P, \\forall j \\in E\n",
    "$"
   ]
  },
  {
   "cell_type": "markdown",
   "metadata": {},
   "source": [
    "## 1. Data preparation\n",
    "\n",
    "### 1.1 Importing and inspect the CostMatrix\n",
    "\n",
    "We start by importing the `CostMatrix` that contains the travel time (cost) between each police car locations and the events. We also define the maximum number of events that each police car can respond to."
   ]
  },
  {
   "cell_type": "code",
   "execution_count": 3,
   "metadata": {},
   "outputs": [
    {
     "name": "stdout",
     "output_type": "stream",
     "text": [
      "Number of pairs: 68580\n",
      "CostMatrix statistics:\n",
      "       travel_time  carNodeID  eventNodeID\n",
      "count    68580.000  68580.000    68580.000\n",
      "mean      3415.827  25998.033    21618.299\n",
      "std       1775.315  13303.202    11914.866\n",
      "min          0.000   2432.000      238.000\n",
      "25%       1908.575  19224.000    11837.000\n",
      "50%       3283.500  23805.000    22799.000\n",
      "75%       4790.699  40160.000    30575.000\n",
      "max       9930.399  46954.000    47703.000\n"
     ]
    }
   ],
   "source": [
    "# import cost matrix from CSV and drop distance column as we only use travel time\n",
    "CostMatrix = pd.read_csv(\"../data/ost/OstCostMatrix.csv\")\n",
    "CostMatrix.drop(columns=\"distance\", inplace=True)\n",
    "# CostMatrix.head(2)\n",
    "\n",
    "# inspect the CostMatrix\n",
    "print(f\"Number of pairs: {len(CostMatrix)}\")\n",
    "print(f\"CostMatrix statistics:\")\n",
    "print(CostMatrix.describe())"
   ]
  },
  {
   "cell_type": "markdown",
   "metadata": {},
   "source": [
    "### 1.2 Modify data structures for efficient computation\n",
    "\n",
    "The `CostMatrix` is a 30x2286 matrix, which is a large-scale linear programming problem.  \n",
    "As PuLP need to iterate over the decision variables to compute the objective function and constraints, we need to ensure that the data structures are efficient for this computation.\n",
    "\n",
    "**Step 1**: Convert the `CostMatrix` into a nested dictionary for fast lookup of travel times. With keys as the police car locations and the events, and the values as the travel time between them. Note: since `carNode` and `eventNode` are being used as keys, they need to be unique, so we handle duplicates by averaging the travel times for those pairs.\n",
    "\n",
    "**Step 2**: Reduction of problem size by removing the top 30% travel times. In those cases, there are probably other cars that are closer to the event, as there are multiple cars in the district.\n",
    "E.g. the longest travel time could be traveling from the furthest east car position to the furthest west event position. But in these cases, closer cars will handle the event.\n"
   ]
  },
  {
   "cell_type": "code",
   "execution_count": 4,
   "metadata": {},
   "outputs": [],
   "source": [
    "# Convert CostMatrix to Dictionary for Fast Lookups: {(carNodeID, eventNodeID): travel_time}\n",
    "# Handling duplicates by averaging travel times for the same (carNodeID, eventNodeID) pairs\n",
    "aggregated_cost_matrix = CostMatrix.groupby(['carNodeID', 'eventNodeID']).agg({'travel_time': 'mean'}).reset_index()\n",
    "\n",
    "# Convert the aggregated CostMatrix DataFrame to a nested dictionary for fast lookup\n",
    "cost_matrix_dict = aggregated_cost_matrix.set_index(['carNodeID', 'eventNodeID']).to_dict(orient='index')\n",
    "cost_matrix_dict = {(i, j): v['travel_time'] for (i, j), v in cost_matrix_dict.items()}\n",
    "# cost_matrix_dict"
   ]
  },
  {
   "cell_type": "code",
   "execution_count": 5,
   "metadata": {},
   "outputs": [
    {
     "name": "stdout",
     "output_type": "stream",
     "text": [
      "Filtering out 30% highest travel times - keeping only travel times <= 4492.76 sec\n",
      "Original nr of pairs:  65970  | Filtered nr of pairs:  46179\n",
      "Original max travel time:  9930.399  | Filtered max travel time:  4492.7\n",
      "Original min travel time:  0.0  | Filtered min travel time:  0.0\n"
     ]
    }
   ],
   "source": [
    "# Reduction of Problem Size\n",
    "# Filter out the highest travel times, as there is probably a closer car to the event\n",
    "\n",
    "# threshold to filter out pairs with the top X % highest travel times\n",
    "DISCARD_THRESHOLD = 0.30\n",
    "max_acceptable_travel_time = np.percentile(list(cost_matrix_dict.values()), 100 * (1 - DISCARD_THRESHOLD))\n",
    "\n",
    "# Filter pairs exceeding the maximum acceptable travel time\n",
    "filtered_pairs = {pair: time for pair, time in cost_matrix_dict.items() if time <= max_acceptable_travel_time}\n",
    "\n",
    "# print statistics for the filtered_pairs\n",
    "print(f\"Filtering out {DISCARD_THRESHOLD*100:.0f}% highest travel times - keeping only travel times <= {max_acceptable_travel_time:.2f} sec\")\n",
    "print(\"Original nr of pairs: \", len(cost_matrix_dict), \" | Filtered nr of pairs: \", len(filtered_pairs))\n",
    "print(\"Original max travel time: \", np.max(list(cost_matrix_dict.values())), \" | Filtered max travel time: \", np.max(list(filtered_pairs.values())))\n",
    "print(\"Original min travel time: \", np.min(list(cost_matrix_dict.values())), \" | Filtered min travel time: \", np.min(list(filtered_pairs.values())))"
   ]
  },
  {
   "cell_type": "markdown",
   "metadata": {},
   "source": [
    "Now, we have reduced the problem size and the CostMatrix is now in a dictionary format, which is more efficient for the solver to iterate over."
   ]
  },
  {
   "cell_type": "markdown",
   "metadata": {},
   "source": [
    "### 1.3 Setup LP problem"
   ]
  },
  {
   "cell_type": "code",
   "execution_count": 6,
   "metadata": {},
   "outputs": [
    {
     "data": {
      "text/plain": [
       "PoliceCarLocationOptimization:\n",
       "MINIMIZE\n",
       "None\n",
       "VARIABLES"
      ]
     },
     "execution_count": 6,
     "metadata": {},
     "output_type": "execute_result"
    }
   ],
   "source": [
    "# Constants\n",
    "K = 4  # Number of police car locations in final solution\n",
    "M = 800   # Maximum number of events a single police car can respond to\n",
    "\n",
    "# Sets\n",
    "P = CostMatrix['carNodeID'].unique()  # Potential police car locations\n",
    "E = CostMatrix['eventNodeID'].unique()  # Events\n",
    "\n",
    "# Create the LP object - minimize total travel time\n",
    "problem = pulp.LpProblem(\"PoliceCarLocationOptimization\", pulp.LpMinimize) # Minimization problem\n",
    "problem"
   ]
  },
  {
   "cell_type": "markdown",
   "metadata": {},
   "source": [
    "### 1.4 Add decision variables and objective function"
   ]
  },
  {
   "cell_type": "code",
   "execution_count": 7,
   "metadata": {},
   "outputs": [
    {
     "name": "stdout",
     "output_type": "stream",
     "text": [
      "CPU times: total: 297 ms\n",
      "Wall time: 598 ms\n"
     ]
    }
   ],
   "source": [
    "%%time\n",
    "# Decision Variables\n",
    "# x[i] = 1 if a police car is placed at location i, 0 otherwise\n",
    "x = pulp.LpVariable.dicts(\"x\", P, cat='Binary')  # Police car placement\n",
    "# # y[i, j] = 1 if event j is assigned to police car i, 0 otherwise\n",
    "y = pulp.LpVariable.dicts(\"y\", filtered_pairs.keys(), cat='Binary')  # Event assignment\n",
    "\n",
    "# Objective Function - minimize total response time\n",
    "problem += pulp.lpSum([cost_matrix_dict[(i, j)] * y[(i, j)] for i in P for j in E if (i, j) in filtered_pairs]), \"TotalResponseTime\"\n",
    "# This is the same as:\n",
    "# for i in P:\n",
    "#     for j in E:\n",
    "#         if (i, j) in filtered_pairs:\n",
    "#             problem += cost_matrix_dict[(i, j)] * y[(i, j)]\n",
    "# And means that we want to minimize the total response time"
   ]
  },
  {
   "cell_type": "markdown",
   "metadata": {},
   "source": [
    "### 1.5 Add problem constraints"
   ]
  },
  {
   "cell_type": "code",
   "execution_count": 8,
   "metadata": {},
   "outputs": [
    {
     "name": "stdout",
     "output_type": "stream",
     "text": [
      "CPU times: total: 734 ms\n",
      "Wall time: 923 ms\n"
     ]
    }
   ],
   "source": [
    "%%time\n",
    "# Police Car Placement Constraint\n",
    "problem += pulp.lpSum([x[i] for i in P]) == K, \"NumberOfPoliceCars\"\n",
    "# This is the same as:\n",
    "# for i in P:\n",
    "#     problem += x[i] <= 1\n",
    "# And means that we can only place a police car at one location\n",
    "\n",
    "# Event Assignment Constraint\n",
    "for j in E:\n",
    "    problem += pulp.lpSum([y[(i, j)] for i in P if (i, j) in filtered_pairs]) == 1, f\"EventAssignment_{j}\"\n",
    "# This is the same as:\n",
    "# for j in E:\n",
    "#     problem += pulp.lpSum([y[(i, j)] for i in filtered_pairs if (i, j) in filtered_pairs]) == 1\n",
    "# And means that each event must be assigned to exactly one police car\n",
    "\n",
    "# Validity Constraint\n",
    "for (i, j) in filtered_pairs:\n",
    "    problem += y[(i, j)] <= x[i], f\"Validity_{i}_{j}\"\n",
    "# This is the same as:\n",
    "# for (i, j) in filtered_pairs:\n",
    "#     problem += y[(i, j)] <= x[i]\n",
    "# And means that we can only assign events to police cars that are placed\n",
    "\n",
    "# Capacity Constraint\n",
    "for i in P:\n",
    "    problem += pulp.lpSum([y[(i, j)] for j in E if (i, j) in filtered_pairs]) <= M * x[i], f\"Capacity_{i}\"\n",
    "# This is the same as:\n",
    "# for i in P:\n",
    "#     problem += pulp.lpSum([y[(i, j)] for j in E]) <= M * x[i]\n",
    "# And means that each police car can only respond to a maximum of M events"
   ]
  },
  {
   "cell_type": "markdown",
   "metadata": {},
   "source": [
    "## 2.0 Solvers\n",
    "\n",
    "### 2.1 Solvers for testing\n",
    "\n",
    "- **PULP_CBC (COIN-OR Branch and Cut)**\n",
    "    - The default solver in PuLP. It is an open-source solver that is included in the PuLP package. It is a branch-and-cut solver that uses the COIN-OR CBC optimization engine.\n",
    "\n",
    "- **GLPK (GNU Linear Programming Kit)**\n",
    "    - An open-source solver that is included in the PuLP package. It is a mixed integer linear programming solver that uses the GNU Linear Programming Kit, which is a set of routines written in C and organized in the form of a callable library.\n",
    "\n",
    "- **HiGHS (High-Performance Solver)**\n",
    "    - A high-performance solver that use the HiGHS optimization engine. It has been designed to solve large-scale linear programming problems and is particularly well-suited for solving problems with a large number of constraints and variables. Its ability to utilize multiple threads can significantly speed up the solution process for complex problems. \n",
    "\n",
    "### 2.2 Solver configuration:\n",
    "Configuration was set to balance accuracy against speed. These were the general settings, as each solver has its own specific parameters:\n",
    "- **Mip: True** - signals solver to use algorithms and heuristics designed for integer constraints, ensuring that the solution adheres to the binary variable requirements.\n",
    "    - However, mip=False can relax the integer constraints and simplify the solution space for optimization algorithms to navigate. Can sometimes be faster, but result might be invalid.\n",
    "- **Presolve: True** - enables the solver to simplify the problem by removing redundant constraints and variables, which can significantly reduce the problem's complexity and solution time.\n",
    "- **gapRel: 0.05** - sets the relative gap between the best solution found and the best possible solution. This parameter is used to terminate the solver when the relative gap is less than the specified value.\n",
    "- **TimeLimit: 60** seconds - sets the maximum time the solver can run before terminating the solution process.\n",
    "\n",
    "Will first run each solver wil the hypothetically optimal settings, then run them again with alternative settings to compare the performance of each solver.  \n",
    "\n",
    "*Recall this is a minimization problem, so the lower the objective value, the better the solution.*"
   ]
  },
  {
   "cell_type": "code",
   "execution_count": 9,
   "metadata": {},
   "outputs": [
    {
     "data": {
      "text/plain": [
       "['GLPK_CMD', 'PULP_CBC_CMD', 'HiGHS']"
      ]
     },
     "execution_count": 9,
     "metadata": {},
     "output_type": "execute_result"
    }
   ],
   "source": [
    "# confirm solvers available to PuLP\n",
    "pulp.listSolvers(onlyAvailable=True)"
   ]
  },
  {
   "cell_type": "markdown",
   "metadata": {},
   "source": [
    "\n",
    "#### 2.3 PuLP CBC (COIN-OR Branch and Cut)"
   ]
  },
  {
   "cell_type": "code",
   "execution_count": 11,
   "metadata": {},
   "outputs": [
    {
     "name": "stdout",
     "output_type": "stream",
     "text": [
      "status: 1, Optimal\n",
      "Objective function value: 2050905.25 seconds, or 34181.75 minutes, or 569.70 hours\n",
      "CPU times: total: 844 ms\n",
      "Wall time: 1min 25s\n"
     ]
    }
   ],
   "source": [
    "%%time\n",
    "# CBC VERSION 1: Ideal settings\n",
    "status = problem.solve(pulp.PULP_CBC_CMD(\n",
    "    mip=True,  # mip=True since have binary variables. mip=False can sometimes be faster, but result might be invalid\n",
    "    msg=False,  # Enable solver messages for more insight into the solving process\n",
    "    # timeLimit=60,  # Limit the solver to 60 seconds\n",
    "    gapRel=0.10,  # Accept a solution within 10% of the optimum\n",
    "    presolve=True,  # Enable presolve to simplify the problem before solving\n",
    "    warmStart=True,  # Use a warm start to speed up the solving process\n",
    "    strong=True,  # Use a limited number of strong branching candidates for a balance between speed and accuracy\n",
    "    # threads=4,  # Sets the maximum number of threads to be used by the solver (not working)\n",
    "))\n",
    "\n",
    "# inspect the status of the solution\n",
    "print(f\"status: {problem.status}, {pulp.LpStatus[problem.status]}\")\n",
    "print(f\"Objective function value: {pulp.value(problem.objective):.2f} seconds, or {pulp.value(problem.objective)/60:.2f} minutes, or {pulp.value(problem.objective)/3600:.2f} hours\")"
   ]
  },
  {
   "cell_type": "code",
   "execution_count": 85,
   "metadata": {},
   "outputs": [
    {
     "name": "stdout",
     "output_type": "stream",
     "text": [
      "status: 1, Optimal\n",
      "Objective function value: 2050905.25 seconds, or 34181.75 minutes, or 569.70 hours\n",
      "CPU times: total: 938 ms\n",
      "Wall time: 9.78 s\n"
     ]
    }
   ],
   "source": [
    "%%time\n",
    "# CBC VERSION 2: Alternative settings\n",
    "status = problem.solve(pulp.PULP_CBC_CMD(\n",
    "    mip=False,  # mip=True since have binary variables. mip=False can sometimes be faster, but result might be invalid\n",
    "    msg=False,  # Enable solver messages for more insight into the solving process\n",
    "    timeLimit=60,  # Limit the solver to 60 seconds\n",
    "    # gapRel=0.1,  # Accept a solution within 10% of the optimum\n",
    "    # presolve=True,  # Enable presolve to simplify the problem before solving\n",
    "    # warmStart=True,  # Use a warm start to speed up the solving process\n",
    "    # strong=True,  # Use a limited number of strong branching candidates for a balance between speed and accuracy\n",
    "    # cuts=True,  # Enable all available cuts\n",
    "    # threads=6,  # Sets the maximum number of threads to be used by the solver (not working)\n",
    "))\n",
    "\n",
    "# inspect the status of the solution\n",
    "print(f\"status: {problem.status}, {pulp.LpStatus[problem.status]}\")\n",
    "print(f\"Objective function value: {pulp.value(problem.objective):.2f} seconds, or {pulp.value(problem.objective)/60:.2f} minutes, or {pulp.value(problem.objective)/3600:.2f} hours\")"
   ]
  },
  {
   "cell_type": "markdown",
   "metadata": {},
   "source": [
    "Observations:\n",
    "- Original Settings: ``mip=True`` resulted in a solution, after 1min 25sec.\n",
    "- Alternative Settings: ``mip=False`` resulted in a solution, after 10 seconds.\n",
    "\n",
    "This is a good example of how relaxing the integer constraints can simplify the solution space for optimization algorithms to navigate, and can sometimes be faster. But we have to inspect that the result is valid acording to the problem's constraints. In this case, both solutions were the same valid solution."
   ]
  },
  {
   "cell_type": "markdown",
   "metadata": {},
   "source": [
    "\n",
    "#### 2.4 GLPK (GNU Linear Programming Kit)"
   ]
  },
  {
   "cell_type": "code",
   "execution_count": 21,
   "metadata": {},
   "outputs": [
    {
     "name": "stdout",
     "output_type": "stream",
     "text": [
      "status: 1, Optimal\n",
      "Objective function value: 2050905.25 seconds, or 34181.75 minutes, or 569.70 hours\n",
      "CPU times: total: 922 ms\n",
      "Wall time: 1min 7s\n"
     ]
    }
   ],
   "source": [
    "%%time\n",
    "# GLPK VERSION 1: Ideal settings\n",
    "status = problem.solve(pulp.GLPK_CMD(\n",
    "    mip=True,  # mip=True since have binary variables. mip=False can sometimes be faster, but result might be invalid\n",
    "    msg=False,  # Display solver output for more insight\n",
    "    # timeLimit=60,  # Solver time limit set to 60 seconds\n",
    "    options=['--presol', '--cuts', '--mipgap', '0.1']\n",
    "))\n",
    "\n",
    "# inspect the status of the solution\n",
    "print(f\"status: {problem.status}, {pulp.LpStatus[problem.status]}\")\n",
    "print(f\"Objective function value: {pulp.value(problem.objective):.2f} seconds, or {pulp.value(problem.objective)/60:.2f} minutes, or {pulp.value(problem.objective)/3600:.2f} hours\")"
   ]
  },
  {
   "cell_type": "code",
   "execution_count": 75,
   "metadata": {},
   "outputs": [
    {
     "name": "stdout",
     "output_type": "stream",
     "text": [
      "status: 1, Optimal\n",
      "Objective function value: 2050905.25 seconds, or 34181.75 minutes, or 569.70 hours\n",
      "CPU times: total: 1.22 s\n",
      "Wall time: 48.7 s\n"
     ]
    }
   ],
   "source": [
    "%%time\n",
    "# GLPK VERSION 2: Alternative settings\n",
    "status = problem.solve(pulp.GLPK_CMD(\n",
    "    mip=False,  # mip=True since have binary variables. mip=False can sometimes be faster, but result might be invalid\n",
    "    msg=False,  # Display solver output for more insight\n",
    "    timeLimit=60,  # Solver time limit set to 60 seconds\n",
    "    # options=['--presol', '--cuts', '--mipgap', '0.1'] # presolve=True, cuts=True, mipgap=0.1\n",
    "))\n",
    "\n",
    "# inspect the status of the solution\n",
    "print(f\"status: {problem.status}, {pulp.LpStatus[problem.status]}\")\n",
    "print(f\"Objective function value: {pulp.value(problem.objective):.2f} seconds, or {pulp.value(problem.objective)/60:.2f} minutes, or {pulp.value(problem.objective)/3600:.2f} hours\")"
   ]
  },
  {
   "cell_type": "markdown",
   "metadata": {},
   "source": [
    "Observations:\n",
    "- Original Settings: ``mip=True`` resulted in a solution, after 1min 7sec.\n",
    "- Alternative Settings: ``mip=False`` resulted in a solution, after 50sec.\n",
    "\n",
    "Again, relaxing the integer variable constraint resulted in reaching the same optimal solution faster."
   ]
  },
  {
   "cell_type": "markdown",
   "metadata": {},
   "source": [
    "#### 2.5 HiGHS (High-Performance Solver)"
   ]
  },
  {
   "cell_type": "code",
   "execution_count": 71,
   "metadata": {},
   "outputs": [
    {
     "name": "stdout",
     "output_type": "stream",
     "text": [
      "status: 1, Optimal\n",
      "Objective function value: 2050905.25 seconds, or 34181.75 minutes, or 569.70 hours\n",
      "CPU times: total: 16.7 s\n",
      "Wall time: 15.9 s\n"
     ]
    }
   ],
   "source": [
    "%%time\n",
    "\n",
    "# HiGHS VERSION 1: Ideal settings\n",
    "# status = problem.solve(pulp.HiGHS(mip=True, msg=False, options=['presolve', 'on'], timeLimit=60, gapRel=0.1, threads=12))\n",
    "status = problem.solve(pulp.HiGHS(\n",
    "    mip=True, # mip=True since have binary variables. mip=False can sometimes be faster, but result might be invalid\n",
    "    msg=False, \n",
    "    # timeLimit=60,  # Solver time limit set to 60 seconds\n",
    "    # threads=6,  # Adjust based on your system's CPU capabilities (not working)\n",
    "    mip_rel_gap=9999999,\n",
    "    parallel=\"on\",\n",
    "    presolve=\"on\",\n",
    "))\n",
    "\n",
    "# inspect the status of the solution\n",
    "print(f\"status: {problem.status}, {pulp.LpStatus[problem.status]}\")\n",
    "print(f\"Objective function value: {pulp.value(problem.objective):.2f} seconds, or {pulp.value(problem.objective)/60:.2f} minutes, or {pulp.value(problem.objective)/3600:.2f} hours\")"
   ]
  },
  {
   "cell_type": "code",
   "execution_count": 73,
   "metadata": {},
   "outputs": [
    {
     "name": "stdout",
     "output_type": "stream",
     "text": [
      "status: 1, Optimal\n",
      "Objective function value: 2050905.25 seconds, or 34181.75 minutes, or 569.70 hours\n",
      "CPU times: total: 10.2 s\n",
      "Wall time: 13.9 s\n"
     ]
    }
   ],
   "source": [
    "%%time\n",
    "# HiGHS VERSION 2: Alternative settings\n",
    "# status = problem.solve(pulp.HiGHS(mip=True, msg=False, options=['presolve', 'on'], timeLimit=60, gapRel=0.1, threads=12))\n",
    "status = problem.solve(pulp.HiGHS(\n",
    "    mip=False, # mip=True since have binary variables. mip=False can sometimes be faster, but result might be invalid\n",
    "    msg=False,\n",
    "    presolve=\"off\",\n",
    "    # options=[\n",
    "    #     \"presolve=on\",  # Enable presolving to simplify the problem before solving\n",
    "    #     \"parallel=on\",  # Enable parallel solving if supported\n",
    "    #     \"time_limit=60\",  # Set a time limit to ensure the solver doesn't run indefinitely\n",
    "    #     \"simplex_dualise=on\",  # Use the dual simplex algorithm for LP relaxation\n",
    "    #     \"simplex_crash=on\",  # Use a crash algorithm to find a good starting basis for the simplex\n",
    "    #     \"simplex_strategy=6\",  # Use a strategy that balances between speed and precision\n",
    "    #     \"mip_gap=0.1\"  # Accept a solution within 5% of the optimal (relaxes accuracy for speed)\n",
    "    # ],\n",
    "    # threads=12  # Adjust based on your system's CPU capabilities (not working)\n",
    "))\n",
    "\n",
    "# inspect the status of the solution\n",
    "print(f\"status: {problem.status}, {pulp.LpStatus[problem.status]}\")\n",
    "print(f\"Objective function value: {pulp.value(problem.objective):.2f} seconds, or {pulp.value(problem.objective)/60:.2f} minutes, or {pulp.value(problem.objective)/3600:.2f} hours\")"
   ]
  },
  {
   "cell_type": "markdown",
   "metadata": {},
   "source": [
    "Observations:\n",
    "- Original Settings: ``mip=True`` resulted in a solution, after 15sec.\n",
    "- Alternative Settings: ``mip=False`` resulted in a solution, after 14.2sec. (13.9sec with ``presolve=off``)\n",
    "\n",
    "Again, relaxing the integer variable constraint resulted in reaching the same optimal solution faster."
   ]
  },
  {
   "cell_type": "markdown",
   "metadata": {},
   "source": [
    "## 3.0 Conclusion\n",
    "\n",
    "| Solver                    | Runtime (Integer Constraints) | Runtime (Relaxed Constraints) |\n",
    "|---------------------------|-------------------------------------|--------------------------------------|\n",
    "| PULP_CBC (COIN-OR Branch and Cut) | 1min 25sec                          | 10 seconds                           |\n",
    "| GLPK (GNU Linear Programming Kit) | 1min 7sec                           | 50 seconds                           |\n",
    "| HiGHS (High-Performance Solver)    | 15 seconds                          | 14.2 seconds                         |\n",
    "\n",
    "\n",
    "In conclusion, the HiGHS solver seems like the fastest general solver. However, the other solvers can also be fast (or faster) if the integer constraints are relaxed. This shows that the choice of solver and its settings can have a significant impact on the solution time and the quality of the solution. It is important to experiment with different solvers and settings to find the best combination for a given problem."
   ]
  }
 ],
 "metadata": {
  "kernelspec": {
   "display_name": "MCLP_env",
   "language": "python",
   "name": "mclp_env"
  },
  "language_info": {
   "codemirror_mode": {
    "name": "ipython",
    "version": 3
   },
   "file_extension": ".py",
   "mimetype": "text/x-python",
   "name": "python",
   "nbconvert_exporter": "python",
   "pygments_lexer": "ipython3",
   "version": "3.11.6"
  }
 },
 "nbformat": 4,
 "nbformat_minor": 2
}
