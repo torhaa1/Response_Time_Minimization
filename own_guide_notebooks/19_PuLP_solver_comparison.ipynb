{
 "cells": [
  {
   "cell_type": "markdown",
   "metadata": {},
   "source": [
    "# PuLP solvers comparison\n",
    "\n",
    "This notebook compares the performance of different solvers in PuLP using a capacitated vehicle positioning problem as an example. The problem is formulated as a mixed-integer linear programming problem (MILP) and solved using three different solvers: PULP_CBC (COIN-OR Branch and Cut), GLPK (GNU Linear Programming Kit), and HiGHS (High-Performance Solver). The performance of the solvers is compared in terms of the solution time and the objective value.\n"
   ]
  },
  {
   "cell_type": "code",
   "execution_count": 16,
   "metadata": {},
   "outputs": [
    {
     "name": "stdout",
     "output_type": "stream",
     "text": [
      "Last updated: 2024-03-29T17:10:43.100511+01:00\n",
      "\n",
      "Python implementation: CPython\n",
      "Python version       : 3.11.6\n",
      "IPython version      : 8.22.2\n",
      "\n",
      "Compiler    : MSC v.1935 64 bit (AMD64)\n",
      "OS          : Windows\n",
      "Release     : 10\n",
      "Machine     : AMD64\n",
      "Processor   : Intel64 Family 6 Model 158 Stepping 10, GenuineIntel\n",
      "CPU cores   : 12\n",
      "Architecture: 64bit\n",
      "\n"
     ]
    }
   ],
   "source": [
    "# import watermark\n",
    "%reload_ext watermark\n",
    "%watermark"
   ]
  },
  {
   "cell_type": "code",
   "execution_count": 17,
   "metadata": {},
   "outputs": [
    {
     "name": "stdout",
     "output_type": "stream",
     "text": [
      "Watermark: 2.4.3\n",
      "\n",
      "geopandas : 0.14.3\n",
      "numpy     : 1.26.4\n",
      "highspy   : 1.5.3\n",
      "matplotlib: 3.8.3\n",
      "pulp      : 2.8.0\n",
      "pandas    : 2.2.1\n",
      "\n"
     ]
    }
   ],
   "source": [
    "import numpy as np\n",
    "import pandas as pd\n",
    "import geopandas as gpd\n",
    "import matplotlib.pyplot as plt\n",
    "\n",
    "import pulp\n",
    "import highspy\n",
    "\n",
    "pd.set_option('display.float_format', lambda x: '%.3f' % x)\n",
    "# ox.settings.log_console=True\n",
    "# ox.settings.use_cache=True\n",
    "%watermark -w\n",
    "%watermark -iv"
   ]
  },
  {
   "cell_type": "markdown",
   "metadata": {},
   "source": [
    "### Problem formulation:\n",
    "- The objective function is to minimize the total response time of the police vehicles to events in their district.\n",
    "- The constraints include \n",
    "    - a fixed number of police car locations\n",
    "    - each event must be assigned to exactly one police car.\n",
    "    - A police car can be assigned to an event only if it's placed at the corresponding location.\n",
    "    - Each police car has a maximum capacity of events it can respond to (M).\n",
    "- Complexity and Model Scalability: The presence of binary variables (x,y) transforms your problem into a Mixed-Integer Linear Programming (MILP) problem, inherently making it NP-hard. This complexity means that solving time can increase exponentially with the size of your data or the constraints of your problem\n",
    "\n",
    "### Problem characteristics:\n",
    "- The problem has 30 cars and over 2286 locations.\n",
    "- The CostMatrix which holds the pairs of car nodes, event nodes and the cost of travel between them is a 30x2286 matrix (68580 elements). This can be considered a large-scale linear programming problem.\n",
    "- The problem's density (ratio of non-zero entries in the cost matrix to the total possible entries) is usually sparse for road networks. Sparse problems have many zero or near-zero elements in their matrices, implying that not every police car location has a direct path to every event, which is typical in real-world road networks.\n",
    "\n",
    "### Suggested methods:\n",
    "Method often depends on the problem's specific characteristics, such as its size, density, and the nature of its constraints and variables.\n",
    "- **Simplex Method**: Primarily used for solving linear programming problems, the Simplex method iterates through vertices of the feasible region in the direction of increasing value of the objective function until the optimum is reached. While incredibly efficient for linear problems, its performance may suffer as the problem scales or becomes more complex with integer constraints.\n",
    "\n",
    "- **Interior-Point Methods**: These methods are more suited for large-scale linear programming problems and work by traversing the interior of the feasible region. They can be faster than the Simplex method for very large problems but might not be as efficient when dealing with MILP problems due to the necessity of handling binary or integer variables.\n",
    "\n",
    "- **Branch and Bound (B&B)**: This is the most common approach for solving MILP problems. It involves solving a series of linear programming relaxations of the original problem, systematically dividing the problem (branching) into smaller subproblems, and eliminating regions that do not contain an optimal solution (bounding). This method is effective for problems with binary and integer variables but can be computationally expensive.\n",
    "\n",
    "Of the above methods, the Branch and Bound method stands out as most suited for the given problem. All the solvers below (PULP_CBC_CMD, GLPK_CMD, and HiGHS), all can implement the B&B method effectively but with different performance characteristics and features.\n"
   ]
  },
  {
   "cell_type": "markdown",
   "metadata": {},
   "source": [
    "### Formal definition of the problem:\n",
    "\n",
    "#### Notation\n",
    "\n",
    "Let's define the notation that will be used to formulate the problem:\n",
    "- $N$ : The set of all nodes in the road network.\n",
    "- $E$ : The set of events, each associated with a node in $N$ and a severity score.\n",
    "- $P$ : The set of potential police car locations, a subset of $N$.\n",
    "- $C_{ij}$ : The travel time from police car location $i \\in P$ to event location $j \\in E$.\n",
    "- $x_i$ : Binary decision variable where $x_i = 1$ if a police car is positioned at node $i$, and $x_i = 0$ otherwise.\n",
    "- $y_{ij}$ : Binary decision variable where $y_{ij} = 1$ if the event $j$ is assigned to the police car located at $i$, and $y_{ij} = 0$ otherwise.\n",
    "\n",
    "**Objective Function**: minimize the total response time to all events. The response time is the travel time from a police car to an event, considering only the assignments where $y_{ij} = 1$.\n",
    "$\n",
    "\\text{Minimize} \\quad Z = \\sum_{i \\in P} C_{ij} \\cdot y_{ij}\n",
    "$\n",
    "\n",
    "#### Constraints\n",
    "1. **Police Car Placement Constraint**: Only $K$ police cars are available to be deployed.\n",
    "$\n",
    "\\sum_{i \\in P} x_i = K\n",
    "$\n",
    "\n",
    "2. **Event Assignment Constraint**: Each event must be assigned to exactly one police car.\n",
    "$\n",
    "\\sum_{i \\in P} y_{ij} = 1 \\quad \\forall j \\in E\n",
    "$\n",
    "\n",
    "3. **Validity Constraint**: An event can only be assigned to a police car if that car is positioned at a node.\n",
    "$\n",
    "y_{ij} \\leq x_i \\quad \\forall i \\in P, \\forall j \\in E\n",
    "$\n",
    "\n",
    "4. **Capacity Constraint**: Each police car can only be assigned to a limited number of events.\n",
    "$\n",
    "\\sum_{j \\in E} y_{ij} \\leq M_i \\cdot x_i \\quad \\forall i \\in P\n",
    "$\n",
    "\n",
    "5. **Non-Negativity and Integrality**: Ensure that the decision variables are binary.\n",
    "$\n",
    "x_i \\in \\{0, 1\\} \\quad \\forall i \\in P\n",
    "$\n",
    "$\n",
    "y_{ij} \\in \\{0, 1\\} \\quad \\forall i \\in P, \\forall j \\in E\n",
    "$"
   ]
  },
  {
   "cell_type": "markdown",
   "metadata": {},
   "source": [
    "## 1. Data preparation\n",
    "\n",
    "### 1.1 Importing and inspect the CostMatrix\n",
    "\n",
    "We start by importing the `CostMatrix` that contains the travel time (cost) between each police car locations and the events. We also define the maximum number of events that each police car can respond to."
   ]
  },
  {
   "cell_type": "code",
   "execution_count": 18,
   "metadata": {},
   "outputs": [
    {
     "name": "stdout",
     "output_type": "stream",
     "text": [
      "Number of pairs: 17255\n",
      "CostMatrix statistics:\n",
      "       travel_time       carNodeID     eventNodeID\n",
      "count    17255.000       17255.000       17255.000\n",
      "mean      3057.196  3896763094.941  2304270276.352\n",
      "std       1562.665  3130507877.975  2780666334.368\n",
      "min         23.500     3173240.000      103504.000\n",
      "25%       1757.850  1303773676.000   330551208.000\n",
      "50%       3086.300  3376313232.000  1085885647.000\n",
      "75%       4264.949  5796201937.000  3073019282.000\n",
      "max       7265.200 11366049457.000 11287301470.000\n"
     ]
    }
   ],
   "source": [
    "# import cost matrix from CSV and drop distance column as we only use travel time\n",
    "CostMatrix = pd.read_csv(\"../data/ost/OstCostMatrix.csv\")\n",
    "CostMatrix.drop(columns=\"distance\", inplace=True)\n",
    "# CostMatrix.head(2)\n",
    "\n",
    "# inspect the CostMatrix\n",
    "print(f\"Number of pairs: {len(CostMatrix)}\")\n",
    "print(f\"CostMatrix statistics:\")\n",
    "print(CostMatrix.describe())"
   ]
  },
  {
   "cell_type": "markdown",
   "metadata": {},
   "source": [
    "### 1.2 Modify data structures for efficient computation\n",
    "\n",
    "The `CostMatrix` is a 30x2286 matrix, which is a large-scale linear programming problem.  \n",
    "As PuLP need to iterate over the decision variables to compute the objective function and constraints, we need to ensure that the data structures are efficient for this computation.\n",
    "\n",
    "**Step 1**: Convert the `CostMatrix` into a nested dictionary for fast lookup of travel times. With keys as the police car locations and the events, and the values as the travel time between them. Note: since `carNode` and `eventNode` are being used as keys, they need to be unique, so we handle duplicates by averaging the travel times for those pairs.\n",
    "\n",
    "**Step 2**: Reduction of problem size by removing the top 30% travel times. In those cases, there are probably other cars that are closer to the event, as there are multiple cars in the district.\n",
    "E.g. the longest travel time could be traveling from the furthest east car position to the furthest west event position. But in these cases, closer cars will handle the event.\n"
   ]
  },
  {
   "cell_type": "code",
   "execution_count": 19,
   "metadata": {},
   "outputs": [],
   "source": [
    "# CostMatrix = CostMatrix.reset_index(drop=True)\n",
    "\n",
    "# Remove duplicates while keeping the first occurrence\n",
    "CostMatrix_unique = CostMatrix.drop_duplicates(subset=['carNodeID', 'eventNodeID'], keep='first')\n",
    "\n",
    "# Convert to a dictionary for fast lookup\n",
    "CostMatrix_dict = CostMatrix_unique.set_index(['carNodeID', 'eventNodeID'])['travel_time'].to_dict()"
   ]
  },
  {
   "cell_type": "code",
   "execution_count": 20,
   "metadata": {},
   "outputs": [
    {
     "name": "stdout",
     "output_type": "stream",
     "text": [
      "Filtering out 0% highest travel times - keeping only travel times <= 7265 sec, or 121.1 min\n",
      "Original nr of pairs:  16813  | Filtered nr of pairs:  16813\n",
      "Original max travel time:  7265.2  | Filtered max travel time:  7265.2\n",
      "Original min travel time:  23.5  | Filtered min travel time:  23.5\n"
     ]
    }
   ],
   "source": [
    "# Reduce problem size\n",
    "# Filter out the highest travel times, as there is probably a closer car to the event\n",
    "\n",
    "# threshold to filter out pairs with the top X % highest travel times\n",
    "DISCARD_THRESHOLD = 0.00\n",
    "max_acceptable_travel_time = np.percentile(list(CostMatrix_dict.values()), 100 * (1 - DISCARD_THRESHOLD))\n",
    "\n",
    "# Filter pairs exceeding the maximum acceptable travel time\n",
    "CostMatrix_dict_reduced = {pair: time for pair, time in CostMatrix_dict.items() if time <= max_acceptable_travel_time}\n",
    "\n",
    "# print statistics for the CostMatrix_dict_reduced\n",
    "print(f\"Filtering out {DISCARD_THRESHOLD*100:.0f}% highest travel times - keeping only travel times <= {max_acceptable_travel_time:.0f} sec, or {max_acceptable_travel_time/60:.1f} min\")\n",
    "print(\"Original nr of pairs: \", len(CostMatrix_dict), \" | Filtered nr of pairs: \", len(CostMatrix_dict_reduced))\n",
    "print(\"Original max travel time: \", np.max(list(CostMatrix_dict.values())), \" | Filtered max travel time: \", np.max(list(CostMatrix_dict_reduced.values())))\n",
    "print(\"Original min travel time: \", np.min(list(CostMatrix_dict.values())), \" | Filtered min travel time: \", np.min(list(CostMatrix_dict_reduced.values())))"
   ]
  },
  {
   "cell_type": "markdown",
   "metadata": {},
   "source": [
    "Now, we have reduced the problem size and the CostMatrix is now in a dictionary format, which is more efficient for the solver to iterate over."
   ]
  },
  {
   "cell_type": "markdown",
   "metadata": {},
   "source": [
    "### 1.3 Setup LP problem"
   ]
  },
  {
   "cell_type": "code",
   "execution_count": 21,
   "metadata": {},
   "outputs": [
    {
     "data": {
      "text/plain": [
       "PoliceCarLocationOptimization:\n",
       "MINIMIZE\n",
       "None\n",
       "VARIABLES"
      ]
     },
     "execution_count": 21,
     "metadata": {},
     "output_type": "execute_result"
    }
   ],
   "source": [
    "# Constants\n",
    "K = 4  # Number of police car locations in final solution\n",
    "M = 280   # Maximum number of events a single police car can respond to\n",
    "\n",
    "# Sets\n",
    "P = CostMatrix['carNodeID'].unique()  # Potential police car locations\n",
    "E = CostMatrix['eventNodeID'].unique()  # Events\n",
    "\n",
    "# Create the LP object - minimize total travel time\n",
    "problem = pulp.LpProblem(\"PoliceCarLocationOptimization\", pulp.LpMinimize) # Minimization problem\n",
    "problem"
   ]
  },
  {
   "cell_type": "markdown",
   "metadata": {},
   "source": [
    "### 1.4 Add decision variables and objective function"
   ]
  },
  {
   "cell_type": "code",
   "execution_count": 22,
   "metadata": {},
   "outputs": [
    {
     "name": "stdout",
     "output_type": "stream",
     "text": [
      "CPU times: total: 141 ms\n",
      "Wall time: 307 ms\n"
     ]
    }
   ],
   "source": [
    "%%time\n",
    "# Decision Variables\n",
    "# x[i] = 1 if a police car is placed at location i, 0 otherwise\n",
    "x = pulp.LpVariable.dicts(\"x\", P, cat='Binary')  # Police car placement\n",
    "\n",
    "# # y[i, j] = 1 if event j is assigned to police car i, 0 otherwise\n",
    "y = pulp.LpVariable.dicts(\"y\", CostMatrix_dict_reduced.keys(), cat='Binary')  # Event assignment\n",
    "\n",
    "# Objective Function - Modified to use CostMatrix_dict_reduced for fast lookup\n",
    "# problem += pulp.lpSum([CostMatrix_dict[(i, j)] * y[(i, j)] for i in P for j in E if (i, j) in CostMatrix_dict]), \"TotalResponseTime\"\n",
    "problem += pulp.lpSum([CostMatrix_dict_reduced[(i, j)] * y[(i, j)] for i in P for j in E if (i, j) in CostMatrix_dict_reduced]), \"TotalResponseTime\""
   ]
  },
  {
   "cell_type": "markdown",
   "metadata": {},
   "source": [
    "### 1.5 Add problem constraints"
   ]
  },
  {
   "cell_type": "code",
   "execution_count": 23,
   "metadata": {},
   "outputs": [],
   "source": [
    "# %%time\n",
    "# Police Car Placement Constraint\n",
    "problem += pulp.lpSum([x[i] for i in P]) == K, \"NumberOfPoliceCars\"\n",
    "\n",
    "# Event Assignment Constraint\n",
    "for j in E:\n",
    "    problem += pulp.lpSum([y[(i, j)] for i in P if (i, j) in CostMatrix_dict_reduced]) == 1, f\"EventAssignment_{j}\"\n",
    "\n",
    "# Validity Constraint\n",
    "for (i, j) in CostMatrix_dict_reduced:\n",
    "    problem += y[(i, j)] <= x[i], f\"Validity_{i}_{j}\"\n",
    "\n",
    "# Capacity Constraint\n",
    "for i in P:\n",
    "    problem += pulp.lpSum([y[(i, j)] for j in E if (i, j) in CostMatrix_dict_reduced]) <= M * x[i], f\"Capacity_{i}\""
   ]
  },
  {
   "cell_type": "markdown",
   "metadata": {},
   "source": [
    "## 2.0 Solvers\n",
    "\n",
    "### 2.1 Solvers for testing\n",
    "\n",
    "- **PULP_CBC (COIN-OR Branch and Cut)**\n",
    "    - The default solver in PuLP. It is an open-source solver that is included in the PuLP package. It is a branch-and-cut solver that uses the COIN-OR CBC optimization engine.\n",
    "\n",
    "- **GLPK (GNU Linear Programming Kit)**\n",
    "    - An open-source solver that is included in the PuLP package. It is a mixed integer linear programming solver that uses the GNU Linear Programming Kit, which is a set of routines written in C and organized in the form of a callable library.\n",
    "\n",
    "- **HiGHS (High-Performance Solver)**\n",
    "    - A high-performance solver that use the HiGHS optimization engine. It has been designed to solve large-scale linear programming problems and is particularly well-suited for solving problems with a large number of constraints and variables. Its ability to utilize multiple threads can significantly speed up the solution process for complex problems. \n",
    "\n",
    "### 2.2 Solver configuration:\n",
    "Configuration was set to balance accuracy against speed. These were the general settings, as each solver has its own specific parameters:\n",
    "- **Mip: True** - signals solver to use algorithms and heuristics designed for integer constraints, ensuring that the solution adheres to the binary variable requirements.\n",
    "    - However, mip=False can relax the integer constraints and simplify the solution space for optimization algorithms to navigate. Can sometimes be faster, but result might be invalid.\n",
    "- **Presolve: True** - enables the solver to simplify the problem by removing redundant constraints and variables, which can significantly reduce the problem's complexity and solution time.\n",
    "- **gapRel: 0.05** - sets the relative gap between the best solution found and the best possible solution. This parameter is used to terminate the solver when the relative gap is less than the specified value.\n",
    "- **TimeLimit: 60** seconds - sets the maximum time the solver can run before terminating the solution process.\n",
    "\n",
    "Will first run each solver wil the hypothetically optimal settings, then run them again with alternative settings to compare the performance of each solver.  \n",
    "\n",
    "*Recall this is a minimization problem, so the lower the objective value, the better the solution.*"
   ]
  },
  {
   "cell_type": "code",
   "execution_count": 54,
   "metadata": {},
   "outputs": [
    {
     "data": {
      "text/plain": [
       "['GLPK_CMD', 'PULP_CBC_CMD', 'COIN_CMD', 'HiGHS']"
      ]
     },
     "execution_count": 54,
     "metadata": {},
     "output_type": "execute_result"
    }
   ],
   "source": [
    "# confirm solvers available to PuLP\n",
    "pulp.listSolvers(onlyAvailable=True)"
   ]
  },
  {
   "cell_type": "code",
   "execution_count": 55,
   "metadata": {},
   "outputs": [],
   "source": [
    "# Run the solvers - first LP relaxation, then MILP\n",
    "def run_solvers(problem, nr_of_locations, solver_name='PULP_CBC_CMD', plot=False):\n",
    "    \"\"\"\n",
    "    Run the PULP solver with different configurations to find the optimal solution.\n",
    "    If the faster solver does not find the optimal solution, switch to the slower solver.\n",
    "    \"\"\"\n",
    "    # Use the faster solver first with integer variable relaxation\n",
    "    if solver_name == 'PULP_CBC_CMD':\n",
    "        status = problem.solve(pulp.PULP_CBC_CMD(mip=False, msg=False))\n",
    "    elif solver_name == 'COIN_CMD':\n",
    "        status = problem.solve(pulp.COIN_CMD(mip=False, msg=False))\n",
    "    elif solver_name == 'GLPK_CMD':\n",
    "        status = problem.solve(pulp.GLPK_CMD(mip=False, msg=False, timeLimit=120)) # 2 minutes time limit\n",
    "    elif solver_name == 'HiGHS':\n",
    "        status = problem.solve(pulp.HiGHS(mip=False, msg=False, parallel=\"on\"))\n",
    "    \n",
    "    optimal_locations = np.array([i for i in P if x[i].varValue == 1])\n",
    "    log_df = pd.DataFrame([{'Variable': v.name, 'Value': v.varValue} for v in problem.variables()]) # Log optimization results\n",
    "\n",
    "    # Verify if nr of locations is correct\n",
    "    if (len(optimal_locations) == nr_of_locations) and (plot == True):\n",
    "            # if the fast LP solver finds the correct amount of locations, plot only this one\n",
    "            plt.figure(figsize=(5, 3))\n",
    "            log_df['Value'].sort_values().reset_index(drop=True).plot()\n",
    "            plt.ylabel('Value'); plt.xlabel('Combination'); plt.title('Optimization Results (Fast LP solver)')\n",
    "            plt.grid(linestyle='-', alpha=0.5); plt.tight_layout(); plt.show()\n",
    "    # If solution from fast solver is invalid, switch to slow MILP solver\n",
    "    elif len(optimal_locations) < nr_of_locations:\n",
    "        print(f\"{solver_name} with LP relaxation only found {len(optimal_locations)}/{nr_of_locations} locations in {problem.solutionTime:.2f} seconds.\")\n",
    "        print(\"Switching to MILP solver configuration to find optimal solution.\\n\")\n",
    "        if solver_name == 'PULP_CBC_CMD':\n",
    "            status = problem.solve(pulp.PULP_CBC_CMD(mip=True, msg=False))\n",
    "        elif solver_name == 'COIN_CMD':\n",
    "            status = problem.solve(pulp.COIN_CMD(mip=True, msg=False))\n",
    "        elif solver_name == 'GLPK_CMD':\n",
    "            status = problem.solve(pulp.GLPK_CMD(mip=True, msg=False, timeLimit=120)) # 2 minutes time limit\n",
    "        elif solver_name == 'HiGHS':\n",
    "            status = problem.solve(pulp.HiGHS(mip=True, msg=False, parallel=\"on\"))\n",
    "        status = problem.solve(pulp.PULP_CBC_CMD(mip=True, msg=False))\n",
    "        optimal_locations = np.array([i for i in P if x[i].varValue == 1])\n",
    "\n",
    "        if plot:\n",
    "            log_df2 = pd.DataFrame([{'Variable': v.name, 'Value': v.varValue} for v in problem.variables()]) # Log optimization result\n",
    "            fig, (ax1, ax2) = plt.subplots(1, 2, figsize=(10, 3))\n",
    "            log_df['Value'].sort_values().reset_index(drop=True).plot(ax=ax1)\n",
    "            log_df2['Value'].sort_values().reset_index(drop=True).plot(ax=ax2)\n",
    "            ax1.set_ylabel('Value'); ax1.set_xlabel('Combinations'); ax1.set_title('Optimization Results (Fast LP solver)')\n",
    "            ax2.set_ylabel('Value'); ax2.set_xlabel('Combinations'); ax2.set_title('Optimization Results (Slow MILP solver)')\n",
    "            ax1.grid(linestyle='-', alpha=0.5); ax2.grid(linestyle='-', alpha=0.5); plt.tight_layout(); plt.show()\n",
    "        \n",
    "    # Print the stats from final solver\n",
    "    print(f\"Optimal police car locations found: {len(optimal_locations)}/{nr_of_locations} in {problem.solutionTime:.2f} seconds: {optimal_locations}\")\n",
    "    print(f\"Solver: {solver_name} | Status: {problem.status} ({pulp.LpStatus[problem.status]})\")\n",
    "    print(f\"Objective function value (total response time): {pulp.value(problem.objective):.4f} seconds, or {pulp.value(problem.objective)/60:.2f} minutes, or {pulp.value(problem.objective)/3600:.2f} hours\")\n",
    "    return optimal_locations"
   ]
  },
  {
   "cell_type": "markdown",
   "metadata": {},
   "source": [
    "\n",
    "#### 2.3 PuLP CBC (COIN-OR Branch and Cut)"
   ]
  },
  {
   "cell_type": "code",
   "execution_count": 56,
   "metadata": {},
   "outputs": [
    {
     "name": "stdout",
     "output_type": "stream",
     "text": [
      "PULP_CBC_CMD with LP relaxation only found 2/4 locations in 1.35 seconds.\n",
      "Switching to MILP solver configuration to find optimal solution.\n",
      "\n"
     ]
    },
    {
     "data": {
      "image/png": "[encoded data removed]",
      "text/plain": [
       "<Figure size 1000x300 with 2 Axes>"
      ]
     },
     "metadata": {},
     "output_type": "display_data"
    },
    {
     "name": "stdout",
     "output_type": "stream",
     "text": [
      "Optimal police car locations found: 4/4 in 12.19 seconds: [1303773676 1068403788  901799182    3173240]\n",
      "Solver: PULP_CBC_CMD | Status: 1 (Optimal)\n",
      "Objective function value (total response time): 707133.5950 seconds, or 11785.56 minutes, or 196.43 hours\n",
      "CPU times: total: 1.23 s\n",
      "Wall time: 26.6 s\n"
     ]
    }
   ],
   "source": [
    "%%time\n",
    "optimal_police_locations = run_solvers(problem, nr_of_locations=K, solver_name='PULP_CBC_CMD', plot=True)"
   ]
  },
  {
   "cell_type": "markdown",
   "metadata": {},
   "source": [
    "#### 2.4 COIN_CMD (COIN-OR Command Line)"
   ]
  },
  {
   "cell_type": "code",
   "execution_count": 57,
   "metadata": {},
   "outputs": [
    {
     "name": "stdout",
     "output_type": "stream",
     "text": [
      "COIN_CMD with LP relaxation only found 2/4 locations in 1.31 seconds.\n",
      "Switching to MILP solver configuration to find optimal solution.\n",
      "\n",
      "Optimal police car locations found: 4/4 in 12.56 seconds: [1303773676 1068403788  901799182    3173240]\n",
      "Solver: COIN_CMD | Status: 1 (Optimal)\n",
      "Objective function value (total response time): 707133.5950 seconds, or 11785.56 minutes, or 196.43 hours\n",
      "CPU times: total: 984 ms\n",
      "Wall time: 26.1 s\n"
     ]
    }
   ],
   "source": [
    "%%time\n",
    "optimal_police_locations = run_solvers(problem, nr_of_locations=K, solver_name='COIN_CMD', plot=False)"
   ]
  },
  {
   "cell_type": "markdown",
   "metadata": {},
   "source": [
    "#### 2.5 GLPK_CMD (GNU Linear Programming Kit)"
   ]
  },
  {
   "cell_type": "code",
   "execution_count": 59,
   "metadata": {},
   "outputs": [
    {
     "name": "stdout",
     "output_type": "stream",
     "text": [
      "GLPK_CMD with LP relaxation only found 2/4 locations in 9.94 seconds.\n",
      "Switching to MILP solver configuration to find optimal solution.\n",
      "\n",
      "Optimal police car locations found: 4/4 in 12.72 seconds: [1303773676 1068403788  901799182    3173240]\n",
      "Solver: GLPK_CMD | Status: 1 (Optimal)\n",
      "Objective function value (total response time): 707133.5950 seconds, or 11785.56 minutes, or 196.43 hours\n",
      "CPU times: total: 906 ms\n",
      "Wall time: 2min 29s\n"
     ]
    }
   ],
   "source": [
    "%%time\n",
    "optimal_police_locations = run_solvers(problem, nr_of_locations=K, solver_name='GLPK_CMD', plot=False)"
   ]
  },
  {
   "cell_type": "markdown",
   "metadata": {},
   "source": [
    "#### 2.6 HiGHS_CMD (High-Performance Solver)"
   ]
  },
  {
   "cell_type": "code",
   "execution_count": 58,
   "metadata": {},
   "outputs": [
    {
     "name": "stdout",
     "output_type": "stream",
     "text": [
      "HiGHS with LP relaxation only found 2/4 locations in 1.02 seconds.\n",
      "Switching to MILP solver configuration to find optimal solution.\n",
      "\n",
      "Optimal police car locations found: 4/4 in 12.06 seconds: [1303773676 1068403788  901799182    3173240]\n",
      "Solver: HiGHS | Status: 1 (Optimal)\n",
      "Objective function value (total response time): 707133.5950 seconds, or 11785.56 minutes, or 196.43 hours\n",
      "CPU times: total: 8.73 s\n",
      "Wall time: 20.7 s\n"
     ]
    }
   ],
   "source": [
    "%%time\n",
    "optimal_police_locations = run_solvers(problem, nr_of_locations=K, solver_name='HiGHS', plot=False)"
   ]
  },
  {
   "cell_type": "markdown",
   "metadata": {},
   "source": [
    "### 3.0 Exploring solver arguments\n",
    "Obs: Be aware that for some solvers, having the binary version installed is necessary for certain arguments to work, compared to using th api version.   \n",
    "However, it can be hard knowing if an argument is used or not as the api solver does not throw errors if arguments are invalid."
   ]
  },
  {
   "cell_type": "markdown",
   "metadata": {},
   "source": [
    "#### 3.1 PULP_CBC_CMD (COIN-OR Branch and Cut)\n",
    "\n",
    "These are the same arguments for the COIN_CMD solver, as they are both using the COIN-OR Branch and Cut solver."
   ]
  },
  {
   "cell_type": "code",
   "execution_count": null,
   "metadata": {},
   "outputs": [],
   "source": [
    "%%time\n",
    "status = problem.solve(pulp.PULP_CBC_CMD(mip=False, msg=False, gapRel=0.9, warmStart=True, strong=True, cuts=True, options=['presolve', 'on'])) # runtime 10.7 sec\n",
    "# status = problem.solve(pulp.PULP_CBC_CMD(mip=False, msg=False, gapRel=0.001, warmStart=False)) # runtime 10.9 sec\n",
    "# status = problem.solve(pulp.PULP_CBC_CMD(mip=False)) # runtime 10.6 sec\n",
    "# status = problem.solve(pulp.PULP_CBC_CMD()) # runtime 1min 7sec\n",
    "\n",
    "# status = problem.solve(pulp.PULP_CBC_CMD(\n",
    "#     mip=False,  # mip=True since have binary variables. mip=False can sometimes be faster, but result might be invalid\n",
    "#     msg=False,  # Enable solver messages for more insight into the solving process\n",
    "#     timeLimit=60,  # Limit the solver to 60 seconds\n",
    "#     # gapRel=0.9,  # Accept a solution within 10% of the optimum\n",
    "#     presolve=True,  # Enable presolve to simplify the problem before solving\n",
    "#     warmStart=True,  # Use a warm start to speed up the solving process\n",
    "#     strong=True,  # Use a limited number of strong branching candidates for a balance between speed and accuracy\n",
    "#     cuts=True,  # Enable all available cuts\n",
    "#     threads=1,  # Sets the maximum number of threads to be used by the solver (not working)\n",
    "# ))\n",
    "\n",
    "# status = problem.solve(pulp.COIN_CMD(mip=False, msg=False, gapRel=0.9, warmStart=True, strong=True, cuts=True, options=['presolve', 'on'])) # runtime 10.9 sec\n",
    "# status = problem.solve(pulp.COIN_CMD(mip=False, msg=False, gapRel=0.000001, warmStart=False)) # runtime 10.6 sec\n",
    "# status = problem.solve(pulp.COIN_CMD(mip=False)) # runtime 10.5 sec\n",
    "# status = problem.solve(pulp.COIN_CMD()) # runtime 1min 7sec\n",
    "\n",
    "# inspect the status of the solution\n",
    "print(f\"status: {problem.status}, {pulp.LpStatus[problem.status]}\")\n",
    "print(f\"Objective function value: {pulp.value(problem.objective):.2f} seconds, or {pulp.value(problem.objective)/60:.2f} minutes, or {pulp.value(problem.objective)/3600:.2f} hours\")"
   ]
  },
  {
   "cell_type": "code",
   "execution_count": 69,
   "metadata": {},
   "outputs": [
    {
     "name": "stdout",
     "output_type": "stream",
     "text": [
      "Binary Solver Status: Optimal, Objective: 2026355.2689999996\n"
     ]
    }
   ],
   "source": [
    "status = problem.solve(pulp.COIN_CMD(mip=False, msg=True, gapAbs=100,\n",
    "    options=[\n",
    "    \"presolve on\",\n",
    "    \"gomory on\",\n",
    "    \"cuts on\",\n",
    "    \"heuristics on\",\n",
    "    \"strongBranching on\",\n",
    "    \"sec 120\",  # Allowing more time for this complex problem\n",
    "    \"strategy probing\",  # Advanced strategy settings\n",
    "]))\n",
    "print(f\"Binary Solver Status: {pulp.LpStatus[status]}, Objective: {pulp.value(problem.objective)}\")"
   ]
  },
  {
   "cell_type": "code",
   "execution_count": 62,
   "metadata": {},
   "outputs": [
    {
     "name": "stdout",
     "output_type": "stream",
     "text": [
      "Binary Solver Status: Optimal, Objective: 2026355.2689999996\n"
     ]
    }
   ],
   "source": [
    "status = problem.solve(pulp.COIN_CMD(mip=False, msg=True, options=[\n",
    "    \"presolve off\",\n",
    "    \"gomory off\",\n",
    "    \"cuts off\",\n",
    "    \"heuristics off\",\n",
    "    \"strongBranching off\",\n",
    "    \"sec 120\",  # Allowing more time for this complex problem\n",
    "    \"strategy probing\",  # Advanced strategy settings\n",
    "]))\n",
    "print(f\"Binary Solver Status: {pulp.LpStatus[status]}, Objective: {pulp.value(problem.objective)}\")"
   ]
  },
  {
   "cell_type": "code",
   "execution_count": null,
   "metadata": {},
   "outputs": [],
   "source": []
  },
  {
   "cell_type": "markdown",
   "metadata": {},
   "source": [
    "\n",
    "#### 2.4 GLPK (GNU Linear Programming Kit)"
   ]
  },
  {
   "cell_type": "code",
   "execution_count": 23,
   "metadata": {},
   "outputs": [
    {
     "name": "stdout",
     "output_type": "stream",
     "text": [
      "status: 1, Optimal\n",
      "Objective function value: 2026355.27 seconds, or 33772.59 minutes, or 562.88 hours\n",
      "CPU times: total: 953 ms\n",
      "Wall time: 1min 15s\n"
     ]
    }
   ],
   "source": [
    "%%time\n",
    "# GLPK VERSION 1: Ideal settings\n",
    "status = problem.solve(pulp.GLPK_CMD(\n",
    "    mip=True,  # mip=True since have binary variables. mip=False can sometimes be faster, but result might be invalid\n",
    "    msg=False,  # Display solver output for more insight\n",
    "    timeLimit=120,  # Solver time limit set to 60 seconds\n",
    "    options=['--presol', '--cuts', '--mipgap', '0.1']\n",
    "))\n",
    "\n",
    "# inspect the status of the solution\n",
    "print(f\"status: {problem.status}, {pulp.LpStatus[problem.status]}\")\n",
    "print(f\"Objective function value: {pulp.value(problem.objective):.2f} seconds, or {pulp.value(problem.objective)/60:.2f} minutes, or {pulp.value(problem.objective)/3600:.2f} hours\")"
   ]
  },
  {
   "cell_type": "code",
   "execution_count": 24,
   "metadata": {},
   "outputs": [
    {
     "name": "stdout",
     "output_type": "stream",
     "text": [
      "status: 1, Optimal\n",
      "Objective function value: 2026355.27 seconds, or 33772.59 minutes, or 562.88 hours\n",
      "CPU times: total: 1.02 s\n",
      "Wall time: 48 s\n"
     ]
    }
   ],
   "source": [
    "%%time\n",
    "# GLPK VERSION 2: Alternative settings\n",
    "status = problem.solve(pulp.GLPK_CMD(\n",
    "    mip=False,  # mip=True since have binary variables. mip=False can sometimes be faster, but result might be invalid\n",
    "    msg=False,  # Display solver output for more insight\n",
    "    timeLimit=120  # Solver time limit set to 60 seconds\n",
    "    options=['--presol', '--cuts', '--mipgap', '0.1'] # presolve=True, cuts=True, mipgap=0.1\n",
    "))\n",
    "\n",
    "# inspect the status of the solution\n",
    "print(f\"status: {problem.status}, {pulp.LpStatus[problem.status]}\")\n",
    "print(f\"Objective function value: {pulp.value(problem.objective):.2f} seconds, or {pulp.value(problem.objective)/60:.2f} minutes, or {pulp.value(problem.objective)/3600:.2f} hours\")"
   ]
  },
  {
   "cell_type": "markdown",
   "metadata": {},
   "source": [
    "Observations:\n",
    "- Original Settings: ``mip=True`` resulted in a solution, after 1min 7sec.\n",
    "- Alternative Settings: ``mip=False`` resulted in a solution, after 50sec.\n",
    "\n",
    "Again, relaxing the integer variable constraint resulted in reaching the same optimal solution faster."
   ]
  },
  {
   "cell_type": "markdown",
   "metadata": {},
   "source": [
    "#### 2.5 HiGHS (High-Performance Solver)"
   ]
  },
  {
   "cell_type": "code",
   "execution_count": 25,
   "metadata": {},
   "outputs": [
    {
     "name": "stdout",
     "output_type": "stream",
     "text": [
      "status: 1, Optimal\n",
      "Objective function value: 803200.27 seconds, or 13386.67 minutes, or 223.11 hours\n",
      "CPU times: total: 1.64 s\n",
      "Wall time: 1.99 s\n"
     ]
    }
   ],
   "source": [
    "%%time\n",
    "\n",
    "# HiGHS VERSION 1: Ideal settings\n",
    "# status = problem.solve(pulp.HiGHS(mip=True, msg=False, options=['presolve', 'on'], timeLimit=60, gapRel=0.1, threads=12))\n",
    "status = problem.solve(pulp.HiGHS(\n",
    "    mip=True, # mip=True since have binary variables. mip=False can sometimes be faster, but result might be invalid\n",
    "    msg=False, \n",
    "    # timeLimit=60,  # Solver time limit set to 60 seconds\n",
    "    # threads=6,  # Adjust based on your system's CPU capabilities (not working)\n",
    "    mip_rel_gap=9999999,\n",
    "    parallel=\"on\",\n",
    "    presolve=\"on\",\n",
    "))\n",
    "\n",
    "# inspect the status of the solution\n",
    "print(f\"status: {problem.status}, {pulp.LpStatus[problem.status]}\")\n",
    "print(f\"Objective function value: {pulp.value(problem.objective):.2f} seconds, or {pulp.value(problem.objective)/60:.2f} minutes, or {pulp.value(problem.objective)/3600:.2f} hours\")"
   ]
  },
  {
   "cell_type": "code",
   "execution_count": 80,
   "metadata": {},
   "outputs": [
    {
     "name": "stdout",
     "output_type": "stream",
     "text": [
      "True\n"
     ]
    }
   ],
   "source": [
    "# check if HiGHS is installed properly\n",
    "print(pulp.HiGHS().available())"
   ]
  },
  {
   "cell_type": "code",
   "execution_count": 81,
   "metadata": {},
   "outputs": [],
   "source": [
    "# check if HiGHs can use parallel processing\n",
    "# print(pulp.HiGHS().parallel())\n",
    "h = highspy.Highs()"
   ]
  },
  {
   "cell_type": "code",
   "execution_count": 88,
   "metadata": {},
   "outputs": [
    {
     "data": {
      "text/plain": [
       "<HighsStatus.kError: -1>"
      ]
     },
     "execution_count": 88,
     "metadata": {},
     "output_type": "execute_result"
    }
   ],
   "source": [
    "from highspy import Highs\n",
    "h.setOptionValue(\"parallel\", 1)"
   ]
  },
  {
   "cell_type": "code",
   "execution_count": 86,
   "metadata": {},
   "outputs": [
    {
     "data": {
      "text/plain": [
       "<HighsStatus.kOk: 0>"
      ]
     },
     "execution_count": 86,
     "metadata": {},
     "output_type": "execute_result"
    }
   ],
   "source": [
    "h.setOptionValue(\"threads\", 12)"
   ]
  },
  {
   "cell_type": "code",
   "execution_count": 84,
   "metadata": {},
   "outputs": [
    {
     "data": {
      "text/plain": [
       "<HighsStatus.kError: -1>"
      ]
     },
     "execution_count": 84,
     "metadata": {},
     "output_type": "execute_result"
    }
   ],
   "source": [
    "h.setOptionValue(\"presolve\", 1)"
   ]
  },
  {
   "cell_type": "code",
   "execution_count": 92,
   "metadata": {},
   "outputs": [
    {
     "name": "stdout",
     "output_type": "stream",
     "text": [
      "status: 1, Optimal\n",
      "Objective function value: 707133.60 seconds, or 11785.56 minutes, or 196.43 hours\n",
      "CPU times: total: 6.53 s\n",
      "Wall time: 7.67 s\n"
     ]
    }
   ],
   "source": [
    "%%time\n",
    "# HiGHS VERSION 2: Alternative settings\n",
    "# status = problem.solve(pulp.HiGHS(mip=True, msg=False, options=['presolve', 'on'], timeLimit=60, gapRel=0.1, threads=12))\n",
    "status = problem.solve(pulp.HiGHS(\n",
    "    mip=True, # mip=True since have binary variables. mip=False can sometimes be faster, but result might be invalid\n",
    "    msg=False,\n",
    "    presolve=\"on\",\n",
    "    parallel=\"on\", # parallellization for MILP; developers:\"hoped that this will be implemented before the end of 2024\"\n",
    "    options=[\n",
    "        # \"presolve=off\",  # Enable presolving to simplify the problem before solving\n",
    "        \"parallel=on\",  # Enable parallel solving if supported\n",
    "        # \"--parallel\",  # Enable parallel solving if supported\n",
    "    #     \"time_limit=60\",  # Set a time limit to ensure the solver doesn't run indefinitely\n",
    "    #     \"simplex_dualise=on\",  # Use the dual simplex algorithm for LP relaxation\n",
    "    #     \"simplex_crash=on\",  # Use a crash algorithm to find a good starting basis for the simplex\n",
    "    #     \"simplex_strategy=6\",  # Use a strategy that balances between speed and precision\n",
    "    #     \"mip_gap=0.1\"  # Accept a solution within 5% of the optimal (relaxes accuracy for speed)\n",
    "    ],\n",
    "    # threads=12  # Adjust based on your system's CPU capabilities (not working)\n",
    "))\n",
    "\n",
    "# inspect the status of the solution\n",
    "print(f\"status: {problem.status}, {pulp.LpStatus[problem.status]}\")\n",
    "print(f\"Objective function value: {pulp.value(problem.objective):.2f} seconds, or {pulp.value(problem.objective)/60:.2f} minutes, or {pulp.value(problem.objective)/3600:.2f} hours\")"
   ]
  },
  {
   "cell_type": "code",
   "execution_count": 51,
   "metadata": {},
   "outputs": [
    {
     "name": "stdout",
     "output_type": "stream",
     "text": [
      "status: 1, Optimal\n",
      "Objective function value: 707133.60 seconds, or 11785.56 minutes, or 196.43 hours\n",
      "CPU times: total: 6.02 s\n",
      "Wall time: 7.79 s\n"
     ]
    }
   ],
   "source": [
    "%%time\n",
    "status = problem.solve(pulp.HiGHS(mip=True, msg=False, parallel=\"on\", options=[\"parallel=on\"]))\n",
    "\n",
    "# inspect the status of the solution\n",
    "print(f\"status: {problem.status}, {pulp.LpStatus[problem.status]}\")\n",
    "print(f\"Objective function value: {pulp.value(problem.objective):.2f} seconds, or {pulp.value(problem.objective)/60:.2f} minutes, or {pulp.value(problem.objective)/3600:.2f} hours\")"
   ]
  },
  {
   "cell_type": "code",
   "execution_count": 52,
   "metadata": {},
   "outputs": [
    {
     "name": "stdout",
     "output_type": "stream",
     "text": [
      "status: 1, Optimal\n",
      "Objective function value: 707133.60 seconds, or 11785.56 minutes, or 196.43 hours\n",
      "CPU times: total: 6.5 s\n",
      "Wall time: 7.62 s\n"
     ]
    }
   ],
   "source": [
    "%%time\n",
    "status = problem.solve(pulp.HiGHS(mip=True, msg=False, parallel=\"off\", options=[\"parallel=off\"]))\n",
    "\n",
    "# inspect the status of the solution\n",
    "print(f\"status: {problem.status}, {pulp.LpStatus[problem.status]}\")\n",
    "print(f\"Objective function value: {pulp.value(problem.objective):.2f} seconds, or {pulp.value(problem.objective)/60:.2f} minutes, or {pulp.value(problem.objective)/3600:.2f} hours\")"
   ]
  },
  {
   "cell_type": "markdown",
   "metadata": {},
   "source": [
    "Observations:\n",
    "- Original Settings: ``mip=True`` resulted in a solution, after 15sec.\n",
    "- Alternative Settings: ``mip=False`` resulted in a solution, after 14.2sec. (13.9sec with ``presolve=off``)\n",
    "\n",
    "Again, relaxing the integer variable constraint resulted in reaching the same optimal solution faster."
   ]
  },
  {
   "cell_type": "markdown",
   "metadata": {},
   "source": [
    "## 3.0 Conclusion\n",
    "\n",
    "| Solver                    | Runtime (Integer Constraints) | Runtime (Relaxed Constraints) |\n",
    "|---------------------------|-------------------------------------|--------------------------------------|\n",
    "| PULP_CBC (COIN-OR Branch and Cut) | 1min 25sec                          | 10 seconds                           |\n",
    "| GLPK (GNU Linear Programming Kit) | 1min 7sec                           | 50 seconds                           |\n",
    "| HiGHS (High-Performance Solver)    | 15 seconds                          | 14.2 seconds                         |\n",
    "\n",
    "\n",
    "\n",
    "Conclusion:  \n",
    "``PULP_CBC`` and ``COIN_CMD`` is the same solver, with same performance. Did not find any extra arguments for the binary install that made a big difference.  \n",
    "The ``HiGHS`` solver is faster for LP problems, where it can utilize max parallel processing. Since parallel processing is not yet developed for MIP problems, the `HiGHS` solver is on par with ``PULP_CBC`` and ``COIN_CMD`` for MILP problems.    \n",
    "``GLPK`` solver is the slowest and should be avoided for this kind of problem.\n",
    "\n",
    "*HiGHS developers - Future plans: The MIP solver has been written with parallel tree seach in mind, and it is hoped that this will be implemented before the end of 2024.*\n",
    "\n",
    "\n",
    "\n",
    "Note: relaxing integer constraints can drastically reduce complexity and, consequently, the solving time. This is expected behavior as integer programming problems are generally NP-hard, while their linear programming counterparts (with relaxed integer constraints) can be solved in polynomial time."
   ]
  }
 ],
 "metadata": {
  "kernelspec": {
   "display_name": "MCLP_env",
   "language": "python",
   "name": "mclp_env"
  },
  "language_info": {
   "codemirror_mode": {
    "name": "ipython",
    "version": 3
   },
   "file_extension": ".py",
   "mimetype": "text/x-python",
   "name": "python",
   "nbconvert_exporter": "python",
   "pygments_lexer": "ipython3",
   "version": "3.11.6"
  }
 },
 "nbformat": 4,
 "nbformat_minor": 2
}
