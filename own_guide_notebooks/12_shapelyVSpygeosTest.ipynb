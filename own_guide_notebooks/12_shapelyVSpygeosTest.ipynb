{
 "cells": [
  {
   "cell_type": "markdown",
   "metadata": {},
   "source": [
    "## Speed comparison of Shapely vs PyGeos\n",
    "\n",
    "\n",
    "### Shapely\n",
    "Shapely 2.0 version is a major release featuring a complete refactor of the internals and new vectorized (element-wise) array operations, providing considerable performance improvements (based on the developments in the PyGEOS package)   \n",
    "For more info about the performence upgrades, see the documentation on [Version 2.0.0 (2022-12-12)](https://shapely.readthedocs.io/en/stable/release/2.x.html#version-2-0-0-2022-12-12)\n",
    "\n",
    "### PyGeos\n",
    "PyGEOS is a Python library that wraps the GEOS library using Ctypes. It provides a high-level interface for the GEOS library, supporting operations on geometries in both vectorized and scalar forms. PyGEOS is designed to be used as a dependency for other Python libraries, such as GeoPandas and Shapely, and is not intended to be used directly by end-users.  \n",
    "For more info about the performence upgrades, see the documentation on [PyGeos](https://pygeos.readthedocs.io/en/latest/)\n",
    "\n",
    "PyGEOS can be used as a replacement for Shapely, providing a faster and more efficient implementation of the geometric operations. However it is not fully integrated with GeoPandas yet.  \n",
    "E.g. For GeoDataFrame creation, shapely geometries are accepted with corresponding CRS, while PyGeos geometries are not.  \n",
    "However, one can add PyGeos geometries to a new column in a GeoDataFrame that is empty or containing the valid shapely geometries.\n",
    "\n",
    "#### Compability of Shapely and PyGeos\n",
    "\n",
    "Shapely >2.0 use built-in PyGeos for faster operations.\n",
    "A fresh install of Shapely 2.0 will automatically contain Geos as a dependency.\n",
    "This can be checked by running the following code:\n",
    "```python\n",
    "print(gpd.options.use_pygeos)\n",
    "```\n",
    "\n",
    "Since both Shapely and PyGeos are using the same GEOS library, they can conflict over the version of the GEOS library.  \n",
    "When having both Shapely (with GEOS activated) and PyGeos in the same environment, the following warning can be raised:\n",
    "\n",
    "```python\n",
    "UserWarning: The Shapely GEOS version (3.11.3-CAPI-1.17.3) is incompatible with the GEOS version PyGEOS was compiled with (3.10.4-CAPI-1.16.2). Conversions between both will be slow.\n",
    "  compat.set_use_pygeos(value)\n",
    "```\n",
    "If this warning is raised, it is true as the warning says: \"Conversions between both will be slow\".  \n",
    "Therefore, it is recommended to deactivate the GEOS library in Shapely and run the code in PyGeos for faster operations.\n",
    "Deactivate the GEOS library in Shapely by running the following code:\n",
    "```python\n",
    "gpd.options.use_pygeos = False\n",
    "```\n",
    "\n",
    "**OBS: PYGEOS IS DEPRECATED -> MOVE OVER TO SHAPLY 2.0 INSTEAD**\n",
    "\n",
    "Test uninstalling PyGeos and running the code with Shapely 2.0\n"
   ]
  },
  {
   "cell_type": "markdown",
   "metadata": {},
   "source": [
    "Tests:\n",
    "- generate random points\n",
    "- compute distance matrix between points"
   ]
  },
  {
   "cell_type": "code",
   "execution_count": 24,
   "metadata": {},
   "outputs": [],
   "source": [
    "# pip uninstall pygeos"
   ]
  },
  {
   "cell_type": "code",
   "execution_count": 25,
   "metadata": {},
   "outputs": [],
   "source": [
    "# pip show pygeos"
   ]
  },
  {
   "cell_type": "code",
   "execution_count": 26,
   "metadata": {},
   "outputs": [],
   "source": [
    "import geopandas as gpd\n",
    "import numpy as np\n",
    "import time\n",
    "from shapely.geometry import Point\n",
    "# import pygeos"
   ]
  },
  {
   "cell_type": "code",
   "execution_count": 27,
   "metadata": {},
   "outputs": [],
   "source": [
    "gpd.options.use_pygeos = False\n",
    "# print(\"Check if geopandas uses shapely's pygeos:\", gpd.options.use_pygeos) # speed up spatial operations"
   ]
  },
  {
   "cell_type": "code",
   "execution_count": 28,
   "metadata": {},
   "outputs": [
    {
     "name": "stdout",
     "output_type": "stream",
     "text": [
      "Name: shapely\n",
      "Version: 2.0.3\n",
      "Summary: Manipulation and analysis of geometric objects\n",
      "Home-page: \n",
      "Author: Sean Gillies\n",
      "Author-email: \n",
      "License: BSD 3-Clause\n",
      "Location: c:\\ProgramData\\miniconda3\\envs\\MCLP_env\\Lib\\site-packages\n",
      "Requires: numpy\n",
      "Required-by: geopandas, osmnx\n",
      "Note: you may need to restart the kernel to use updated packages.\n"
     ]
    }
   ],
   "source": [
    "pip show shapely"
   ]
  },
  {
   "cell_type": "code",
   "execution_count": 29,
   "metadata": {},
   "outputs": [],
   "source": [
    "# $ pip install pytest  # or shapely[test]\n",
    "# $ pytest --pyargs shapely.tests"
   ]
  },
  {
   "cell_type": "code",
   "execution_count": 30,
   "metadata": {},
   "outputs": [],
   "source": [
    "import shapely\n",
    "import pytest\n",
    "\n",
    "# pytest --pyargs shapely.tests\n"
   ]
  },
  {
   "cell_type": "code",
   "execution_count": 31,
   "metadata": {},
   "outputs": [],
   "source": [
    "# pytest shapely[test]"
   ]
  },
  {
   "cell_type": "code",
   "execution_count": 32,
   "metadata": {},
   "outputs": [],
   "source": [
    "# pytest --pyargs shapely.tests;\n"
   ]
  },
  {
   "cell_type": "code",
   "execution_count": 41,
   "metadata": {},
   "outputs": [
    {
     "name": "stdout",
     "output_type": "stream",
     "text": [
      "Shapely: 16.89991593360901 seconds\n",
      "Shapely2: 0.9531147480010986 seconds\n"
     ]
    }
   ],
   "source": [
    "num_points = 1000000  # Number of points to generate\n",
    "\n",
    "# SHAPLEY POINTS GENERATION AND GDF CONVERSION\n",
    "# Start timing\n",
    "start_time_shapely = time.time()\n",
    "\n",
    "# Generate Shapely points\n",
    "shapely_points = [Point(np.random.uniform(0, 10), np.random.uniform(0, 10)) for _ in range(num_points)]\n",
    "\n",
    "# Convert to GeoDataFrame\n",
    "gdf_shapely = gpd.GeoDataFrame(geometry=shapely_points, crs=\"EPSG:4326\")\n",
    "\n",
    "# End timing\n",
    "end_time_shapely = time.time()\n",
    "\n",
    "\n",
    "\n",
    "# SHAPELY ALTERNATIVE METHOD\n",
    "\n",
    "# Start timing\n",
    "start_time_shapely2 = time.time()\n",
    "\n",
    "\n",
    "\n",
    "# Generate random coordinates using NumPy's vectorization capabilities\n",
    "x_coords = np.random.uniform(0, 10, size=num_points)\n",
    "y_coords = np.random.uniform(0, 10, size=num_points)\n",
    "\n",
    "# Unpack the combined coordinates back into separate arrays\n",
    "x_data, y_data = point_data.T  # Transpose to access columns as rows\n",
    "\n",
    "# Create a GeoDataFrame directly from the separate x and y coordinates\n",
    "gdf_shapely2 = gpd.GeoDataFrame(geometry=gpd.points_from_xy(x_data, y_data), crs=\"EPSG:4326\")\n",
    "\n",
    "\n",
    "# End timing\n",
    "end_time_shapely2 = time.time()\n",
    "\n",
    "\n",
    "# # PYGEOS POINTS GENERATION AND GDF CONVERSION\n",
    "# # Start timing\n",
    "# start_time_pygeos = time.time()\n",
    "\n",
    "# # Generate PyGEOS points\n",
    "# pygeos_points = pygeos.points(np.random.uniform(0, 10, size=(num_points, 2)))\n",
    "\n",
    "# # should create the Geodataframe with converted to shapely geometry, then add the pygeos geometry in new column\n",
    "# # Convert to Shapely for the GeoDataFrame compatibility\n",
    "# gdf_pygeos = gpd.GeoDataFrame(pygeos.to_shapely(pygeos_points), columns=[\"geometry\"], crs=\"EPSG:4326\")\n",
    "# gdf_pygeos[\"geometry_pygeos\"] = pygeos_points\n",
    "\n",
    "\n",
    "# # # Convert to GeoDataFrame - leveraging direct conversion to Shapely for the GeoDataFrame compatibility\n",
    "# # gdf_pygeos = gpd.GeoDataFrame()\n",
    "# # gdf_pygeos[\"geometry_pygeos\"] = pygeos_points\n",
    "\n",
    "# # \n",
    "\n",
    "# # End timing\n",
    "# end_time_pygeos = time.time()\n",
    "\n",
    "# COMPARING PERFORMANCE\n",
    "time_shapely = end_time_shapely - start_time_shapely\n",
    "time_shapely2 = end_time_shapely2 - start_time_shapely2\n",
    "\n",
    "print(f\"Shapely: {time_shapely} seconds\")\n",
    "print(f\"Shapely2: {time_shapely2} seconds\")\n",
    "\n",
    "# gdf_pygeos.head()\n"
   ]
  },
  {
   "cell_type": "code",
   "execution_count": null,
   "metadata": {},
   "outputs": [],
   "source": []
  },
  {
   "cell_type": "markdown",
   "metadata": {},
   "source": [
    "### Test 1: Point generation and geodataframe creation\n",
    "```python\n",
    "For num_points = 1000 000, the results were:  \n",
    "- Shapely: 15.396 seconds  \n",
    "- PyGEOS: 0.307 seconds  \n",
    "```\n",
    "\n",
    "But the ``shapely`` geometry works well with ``geopandas``, and can be plotted easily.  \n",
    "While ``pygeos`` would have to be converted to ``shapely`` to be plotted."
   ]
  },
  {
   "cell_type": "markdown",
   "metadata": {},
   "source": [
    "### Test 2: Point generation and geodataframe creation, but\n",
    "#### pygeos was forced to add both pygeos- and shapely geometries to the geodataframe\n",
    "\n",
    "```python\n",
    "For num_points = 1000 000, the results were:  \n",
    "- Shapely: 15.275 seconds  \n",
    "- PyGEOS: 3.100 seconds  \n",
    "```\n",
    "\n",
    "Which means that PyGEOS is 5 times faster than Shapely for this task.  \n",
    "Even when have to convert geometry back to shapely for geodataframe creation."
   ]
  },
  {
   "cell_type": "markdown",
   "metadata": {},
   "source": [
    "51 seconds for just shapely, when having both shapely and pygeos installed -> conflicting geos versions made conversions SLOW."
   ]
  },
  {
   "cell_type": "code",
   "execution_count": null,
   "metadata": {},
   "outputs": [],
   "source": []
  },
  {
   "cell_type": "code",
   "execution_count": null,
   "metadata": {},
   "outputs": [],
   "source": []
  },
  {
   "cell_type": "markdown",
   "metadata": {},
   "source": [
    "### Next comparison: Cost matrix computation\n",
    "#### Cost matrix, using same scipy.spatial.distance_matrix function"
   ]
  },
  {
   "cell_type": "code",
   "execution_count": 23,
   "metadata": {},
   "outputs": [
    {
     "name": "stdout",
     "output_type": "stream",
     "text": [
      "PyGEOS Cost Matrix Computation Time: 0.16904711723327637 seconds\n",
      "Shapely Cost Matrix Computation Time: 0.18500208854675293 seconds\n"
     ]
    }
   ],
   "source": [
    "# COST MATRIX COMPUTATION\n",
    "from scipy.spatial import distance_matrix\n",
    "\n",
    "# Assume pygeos_points exists and has been created as shown previously\n",
    "# Convert PyGEOS geometries to Shapely geometries for comparison\n",
    "shapely_points = [Point(xy) for xy in np.random.uniform(0, 10, size=(num_points, 2))]\n",
    "\n",
    "# PYGEOS Cost Matrix Computation\n",
    "start_time_pygeos = time.time()\n",
    "coords_pygeos = pygeos.get_coordinates(pygeos_points)\n",
    "cost_matrix_pygeos = distance_matrix(coords_pygeos, coords_pygeos)\n",
    "end_time_pygeos = time.time()\n",
    "\n",
    "# SHAPELY Cost Matrix Computation (Using scipy's distance_matrix for a fair comparison)\n",
    "start_time_shapely = time.time()\n",
    "coords_shapely = np.array([(point.x, point.y) for point in shapely_points])\n",
    "cost_matrix_shapely = distance_matrix(coords_shapely, coords_shapely)\n",
    "end_time_shapely = time.time()\n",
    "\n",
    "# Performance Comparison\n",
    "time_pygeos = end_time_pygeos - start_time_pygeos\n",
    "time_shapely = end_time_shapely - start_time_shapely\n",
    "\n",
    "print(f\"PyGEOS Cost Matrix Computation Time: {time_pygeos} seconds\")\n",
    "print(f\"Shapely Cost Matrix Computation Time: {time_shapely} seconds\")\n"
   ]
  },
  {
   "cell_type": "markdown",
   "metadata": {},
   "source": [
    "#### Cost matrix, using their own functions"
   ]
  },
  {
   "cell_type": "code",
   "execution_count": 24,
   "metadata": {},
   "outputs": [
    {
     "name": "stdout",
     "output_type": "stream",
     "text": [
      "Shapely Cost Matrix Calculation: 48.9489643573761 seconds\n",
      "PyGEOS Cost Matrix Calculation: 1.9496917724609375 seconds\n"
     ]
    }
   ],
   "source": [
    "import numpy as np\n",
    "import time\n",
    "\n",
    "# Placeholder for the cost matrices\n",
    "cost_matrix_shapely = np.zeros((len(shapely_points), len(shapely_points)))\n",
    "cost_matrix_pygeos = np.zeros((len(pygeos_points), len(pygeos_points)))\n",
    "\n",
    "# SHAPLEY COST MATRIX\n",
    "start_time_shapely = time.time()\n",
    "for i, point_i in enumerate(shapely_points):\n",
    "    for j, point_j in enumerate(shapely_points):\n",
    "        if i != j:  # Avoid computing distance to itself\n",
    "            cost_matrix_shapely[i, j] = point_i.distance(point_j)\n",
    "end_time_shapely = time.time()\n",
    "\n",
    "# PYGEOS COST MATRIX\n",
    "start_time_pygeos = time.time()\n",
    "# Efficiently compute distances using PyGEOS\n",
    "for i in range(num_points):\n",
    "    cost_matrix_pygeos[i, :] = pygeos.distance(pygeos_points[i], pygeos_points)\n",
    "\n",
    "# Ensure diagonal is 0 (distance to itself)\n",
    "np.fill_diagonal(cost_matrix_pygeos, 0)\n",
    "end_time_pygeos = time.time()\n",
    "\n",
    "# COMPARING PERFORMANCE\n",
    "time_shapely = end_time_shapely - start_time_shapely\n",
    "time_pygeos = end_time_pygeos - start_time_pygeos\n",
    "\n",
    "print(f\"Shapely Cost Matrix Calculation: {time_shapely} seconds\")\n",
    "print(f\"PyGEOS Cost Matrix Calculation: {time_pygeos} seconds\")\n"
   ]
  },
  {
   "cell_type": "markdown",
   "metadata": {},
   "source": [
    "### Cost matrix, using their own functions - results\n",
    "```python\n",
    "For num_points = 2000 the results were:  \n",
    "- Shapely: 48.948 seconds  \n",
    "- PyGEOS: 1.949 seconds  \n",
    "```\n"
   ]
  }
 ],
 "metadata": {
  "kernelspec": {
   "display_name": "MCLP_env",
   "language": "python",
   "name": "mclp_env"
  },
  "language_info": {
   "codemirror_mode": {
    "name": "ipython",
    "version": 3
   },
   "file_extension": ".py",
   "mimetype": "text/x-python",
   "name": "python",
   "nbconvert_exporter": "python",
   "pygments_lexer": "ipython3",
   "version": "3.11.6"
  }
 },
 "nbformat": 4,
 "nbformat_minor": 2
}
