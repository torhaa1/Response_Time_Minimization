{
 "cells": [
  {
   "cell_type": "markdown",
   "metadata": {},
   "source": [
    "# Linear programming - A Blending Problem\n",
    "\n",
    "Follows the Whiskas example from the [Pulp documentation](https://coin-or.github.io/pulp/CaseStudies/a_blending_problem.html)\n",
    "\n",
    "<img src=\"https://coin-or.github.io/pulp/_images/whiskas_label.jpg\" width=\"450\"/>   \n",
    "\n",
    "<img src=\"https://coin-or.github.io/pulp/_images/whiskas_blend.jpg\" width=\"400\"/>   \n",
    "\n",
    "\n",
    "## Problem Description\n",
    "Whiskas cat food, shown above, is manufactured by Uncle Ben’s. Uncle Ben’s want to produce their cat food products as cheaply as possible while ensuring they meet the stated nutritional analysis requirements shown on the cans.    \n",
    "Thus they want to vary the quantities of each ingredient used (the main ingredients being chicken, beef, mutton, rice, wheat and gel) while still meeting their nutritional standards\n",
    "\n",
    "Reading of the nutritional requirements on the can in the image gives in $g/100g$:\n",
    "- minimum protein >= 8\n",
    "- minimum fat >= 6\n",
    "- maximum fibre <= 2\n",
    "- maximum salt <= 0.4"
   ]
  },
  {
   "cell_type": "markdown",
   "metadata": {},
   "source": [
    "The costs of the chicken, beef, and mutton are $0.013, $0.008 and $0.010 respectively, while the costs of the rice, wheat and gel are $0.002, $0.005 and $0.001 respectively. (All costs are per gram.) For this exercise we will ignore the vitamin and mineral ingredients. (Any costs for these are likely to be very small anyway.)\n",
    "\n",
    "Each ingredient contributes to the total weight of protein, fat, fibre and salt in the final product. The contributions (in grams) per gram of ingredient are given in the table below.\n",
    "| Stuff       | Protein | Fat   | Fibre | Salt |\n",
    "|-------------|---------|-------|-------|------|\n",
    "| Chicken     | 0.100   | 0.080 | 0.001 | 0.002|\n",
    "| Beef        | 0.200   | 0.100 | 0.005 | 0.005|\n",
    "| Mutton      | 0.150   | 0.110 | 0.003 | 0.007|\n",
    "| Rice        | 0.000   | 0.010 | 0.100 | 0.002|\n",
    "| Wheat bran  | 0.040   | 0.010 | 0.150 | 0.008|\n",
    "| Gel         | 0.000   | 0.000 | 0.000 | 0.000|\n"
   ]
  },
  {
   "cell_type": "markdown",
   "metadata": {},
   "source": [
    "## 1. Simplified Formulation\n",
    "First we will consider a simplified problem to build a simple Python model.\n",
    "\n",
    "##### Identify the Decision Variables  \n",
    "Assume Whiskas want to make their cat food out of just two ingredients: Chicken and Beef. We will first define our decision variables:\n",
    "\n",
    "- $x_1 =$ percentage of chicken meat in a can of cat food\n",
    "- $x_2 =$ percentage of beef meat in a can of cat food\n",
    "\n",
    " \n",
    "The limitations on these variables (greater than zero) must be noted but for the Python implementation, they are not entered or listed separately or with the other constraints.\n",
    "\n",
    "##### Formulate the Objective Function  \n",
    "The objective function becomes:\n",
    "\n",
    "**Minimize**\n",
    "- $z = 0.013*x_1 + 0.008*x_2$\n",
    "\n",
    "##### Constraints\n",
    "The constraints on the variables are that they must sum to 100 and that the nutritional requirements are met:\n",
    "\n",
    "- $1.000*x_1 + 1.000*x_2 = 100.0$   # total grams\n",
    "- $0.100*x_1 + 0.200*x_2 >= 8$   # total protein\n",
    "- $0.080*x_1 + 0.100*x_2 >= 6$   # total fat\n",
    "- $0.001*x_1 + 0.005*x_2 <= 2$   # total fibre\n",
    "- $0.002*x_1 + 0.005*x_2 <= 0.4$   # total salt"
   ]
  },
  {
   "cell_type": "markdown",
   "metadata": {},
   "source": [
    "## 2. Solving the simplified problem with PuLP\n",
    "\n",
    "### 2.1 Import PuLP modeler functions"
   ]
  },
  {
   "cell_type": "code",
   "execution_count": 1,
   "metadata": {},
   "outputs": [],
   "source": [
    "# imports\n",
    "from pulp import LpMaximize, LpMinimize, LpProblem, LpStatus, lpSum, LpVariable"
   ]
  },
  {
   "cell_type": "code",
   "execution_count": 2,
   "metadata": {},
   "outputs": [
    {
     "data": {
      "text/plain": [
       "blending_problem:\n",
       "MINIMIZE\n",
       "None\n",
       "VARIABLES"
      ]
     },
     "execution_count": 2,
     "metadata": {},
     "output_type": "execute_result"
    }
   ],
   "source": [
    "# Initialize linear problem\n",
    "model = LpProblem(\"blending_problem\", LpMinimize)\n",
    "model"
   ]
  },
  {
   "cell_type": "code",
   "execution_count": 3,
   "metadata": {},
   "outputs": [
    {
     "data": {
      "text/plain": [
       "x1"
      ]
     },
     "execution_count": 3,
     "metadata": {},
     "output_type": "execute_result"
    }
   ],
   "source": [
    "# Decision variables\n",
    "x1 = LpVariable(name=\"x1\", lowBound=0, cat='Continuous') # % chicken meat\n",
    "x2 = LpVariable(name=\"x2\", lowBound=0, cat='Continuous') # % beef meat\n",
    "x1"
   ]
  },
  {
   "cell_type": "code",
   "execution_count": 4,
   "metadata": {},
   "outputs": [
    {
     "name": "stdout",
     "output_type": "stream",
     "text": [
      "0.013*x1 + 0.008*x2 \n",
      "\n",
      "blending_problem:\n",
      "MINIMIZE\n",
      "0.013*x1 + 0.008*x2 + 0.0\n",
      "VARIABLES\n",
      "x1 Continuous\n",
      "x2 Continuous\n",
      "\n"
     ]
    }
   ],
   "source": [
    "# Objective function\n",
    "obj_func = 0.013*x1 + 0.008*x2\n",
    "print(obj_func, \"\\n\")\n",
    "\n",
    "model += obj_func, \"Total Cost of Ingredients per can\"\n",
    "print(model)"
   ]
  },
  {
   "cell_type": "code",
   "execution_count": 5,
   "metadata": {},
   "outputs": [
    {
     "data": {
      "text/plain": [
       "blending_problem:\n",
       "MINIMIZE\n",
       "0.013*x1 + 0.008*x2 + 0.0\n",
       "SUBJECT TO\n",
       "sum_to_100%: x1 + x2 = 100\n",
       "\n",
       "protein_requirement: 0.1 x1 + 0.2 x2 >= 8\n",
       "\n",
       "fat_requirement: 0.08 x1 + 0.1 x2 >= 6\n",
       "\n",
       "fiber_requirement: 0.001 x1 + 0.005 x2 <= 2\n",
       "\n",
       "salt_requirement: 0.002 x1 + 0.005 x2 <= 0.4\n",
       "\n",
       "VARIABLES\n",
       "x1 Continuous\n",
       "x2 Continuous"
      ]
     },
     "execution_count": 5,
     "metadata": {},
     "output_type": "execute_result"
    }
   ],
   "source": [
    "# Constraints\n",
    "model += (x1 + x2 == 100, \"sum_to_100%\")\n",
    "model += (0.100*x1 + 0.200*x2 >= 8.0, \"protein_requirement\")\n",
    "model += (0.080*x1 + 0.100*x2 >= 6.0, \"fat_requirement\")\n",
    "model += (0.001*x1 + 0.005*x2 <= 2.0, \"fiber_requirement\")\n",
    "model += (0.002*x1 + 0.005*x2 <= 0.4, \"salt_requirement\")\n",
    "model"
   ]
  },
  {
   "cell_type": "markdown",
   "metadata": {},
   "source": [
    "Now that all the problem data is entered, the writeLP() function can be used to copy this information into a .lp file into the directory that your code-block is running from. Once your code runs successfully, you can open this .lp file with a text editor to see what the above steps were doing"
   ]
  },
  {
   "cell_type": "code",
   "execution_count": 6,
   "metadata": {},
   "outputs": [
    {
     "data": {
      "text/plain": [
       "[x1, x2]"
      ]
     },
     "execution_count": 6,
     "metadata": {},
     "output_type": "execute_result"
    }
   ],
   "source": [
    "# The problem data is written to an .lp file\n",
    "model.writeLP(\"WhiskasModel.lp\")"
   ]
  },
  {
   "cell_type": "code",
   "execution_count": 7,
   "metadata": {},
   "outputs": [
    {
     "name": "stdout",
     "output_type": "stream",
     "text": [
      "status: 1, Optimal\n",
      "objective: 0.966666665\n",
      "x1: 33.333333\n",
      "x2: 66.666667\n",
      "sum_to_100%: 1.4210854715202004e-14\n",
      "protein_requirement: 8.6666667\n",
      "fat_requirement: 3.3333333400000007\n",
      "fiber_requirement: -1.6333333319999999\n",
      "salt_requirement: 1.0000000272292198e-09\n"
     ]
    }
   ],
   "source": [
    "# Solve the optimization problem\n",
    "status = model.solve()\n",
    "status\n",
    "\n",
    "print(f\"status: {model.status}, {LpStatus[model.status]}\")\n",
    "print(f\"objective: {model.objective.value()}\")\n",
    "for var in model.variables():\n",
    "    print(f\"{var.name}: {var.value()}\")\n",
    "for name, constraint in model.constraints.items():\n",
    "    print(f\"{name}: {constraint.value()}\")"
   ]
  },
  {
   "cell_type": "markdown",
   "metadata": {},
   "source": [
    "Interpretation of results:   \n",
    "- ```status: 1, Optimal``` =>  Solver found an optimal solution\n",
    "- ```objective: 0.9666``` => Objective function's optimal value is 0.967. (Here total price of 0.96 cents per can)\n",
    "- ```x1: 33.333``` => Optimal value for decision variable x1 (chicken) = 33.33% \n",
    "- ```x2: 66.666``` => Optimal value for decision variable x2 (beef) = 66.667% \n",
    "\n",
    "Slack variables of the constraints:\n",
    "- ```sum_to_100%: 1.421004e-14``` =>  **neligible** slack in the sum_to_100% constraint.   \n",
    " ($100 + 0 = 100.00g$)\n",
    " - ```protein_requirement: 8.666``` => 8.66g of **additional** protein is left over after the protein_requirement constraint is met.   \n",
    " ($8 + 8.6666667 = 16.6666667g$)\n",
    " - ```fat_requirement: 3.333``` => 3.33g of **additional** fat is left over after the fat_requirement constraint is met.   \n",
    " ($6 + 3.33 = 9.33g$)\n",
    " - ```fibre_requirement: -1.633``` => 1.63g of fibre **exceeding** the fibre_requirement constraint.   \n",
    " ($2 - (-1.633) = 3.633g$)\n",
    " - ```salt_requirement: 1.00e-09``` => **neligible** surplus in the salt_requirement constraint.  \n",
    " ($0.4 - 0 = 0.4g$)\n",
    "\n",
    "Slack variables don't mean the resulting value for the constraints, but rather tells us the amount of slack (or surplus) in each constraint from the goal defined in the constraint. Think of it as distance from defined goal.\n"
   ]
  },
  {
   "cell_type": "code",
   "execution_count": 8,
   "metadata": {},
   "outputs": [
    {
     "data": {
      "text/plain": [
       "<pulp.apis.coin_api.PULP_CBC_CMD at 0x29892eae050>"
      ]
     },
     "execution_count": 8,
     "metadata": {},
     "output_type": "execute_result"
    }
   ],
   "source": [
    "model.solver"
   ]
  },
  {
   "cell_type": "markdown",
   "metadata": {},
   "source": [
    "Above we see that PuLP choose the CBC solver since we didn't specify one.   \n",
    "Next we try the solver from the GLPK package."
   ]
  },
  {
   "cell_type": "code",
   "execution_count": 9,
   "metadata": {},
   "outputs": [
    {
     "name": "stdout",
     "output_type": "stream",
     "text": [
      "status: 1, Optimal\n",
      "objective: 0.9666665000000001\n",
      "x1: 33.3333\n",
      "x2: 66.6667\n",
      "sum_to_100%: 1.4210854715202004e-14\n",
      "protein_requirement: 8.666670000000002\n",
      "fat_requirement: 3.333334000000001\n",
      "fiber_requirement: -1.6333332\n",
      "salt_requirement: 1.0000000005838672e-07\n"
     ]
    }
   ],
   "source": [
    "from pulp import GLPK\n",
    "\n",
    "# solving with GLPK - (got practically same results)\n",
    "status = model.solve(solver=GLPK(msg=False)) # specify GLPK solver\n",
    "status\n",
    "\n",
    "print(f\"status: {model.status}, {LpStatus[model.status]}\")\n",
    "print(f\"objective: {model.objective.value()}\")\n",
    "for var in model.variables():\n",
    "    print(f\"{var.name}: {var.value()}\")\n",
    "for name, constraint in model.constraints.items():\n",
    "    print(f\"{name}: {constraint.value()}\")"
   ]
  },
  {
   "cell_type": "markdown",
   "metadata": {},
   "source": [
    "## 2. Full Formulation\n",
    "\n",
    "One can of cat food is 100g so the amounts is the same for grams or percents in this case.\n",
    "\n",
    "#### Decision Variables\n",
    "- $x_1 =$ percentage of chicken meat in a can of cat food\n",
    "- $x_2 =$ percentage of beef meat in a can of cat food\n",
    "- $x_3 =$ percentage of mutton meat in a can of cat food\n",
    "- $x_4 =$ percentage of rice in a can of cat food\n",
    "- $x_5 =$ percentage of wheat bran in a can of cat food\n",
    "- $x_6 =$ percentage of gel in a can of cat food\n",
    "\n",
    "Note that these percentages must be between 0 and 100.\n",
    "\n",
    "#### Objective Function\n",
    "The objective is to minimise the total cost of ingredients per can of cat food.   \n",
    "\n",
    "**Minimize**  \n",
    "\n",
    "$z = 0.013*x_1 + 0.008*x_2 + 0.010*x_3 + 0.002*x_4 + 0.005*x_5 + 0.001*x_6$\n",
    "\n",
    "#### Constraints\n",
    "- $x_1 + x_2 + x_3 + x_4 + x_5 + x_6 == 100$ # total grams\n",
    "- $0.100*x_1 + 0.200*x_2 + 0.150*x_3 + 0.000*x_4 + 0.040*x_5 + 0.000*x_6 >= 8$ # min protein\n",
    "- $0.080*x_1 + 0.100*x_2 + 0.110*x_3 + 0.010*x_4 + 0.010*x_5 + 0.000*x_6 >= 6$ # min fat\n",
    "- $0.001*x_1 + 0.005*x_2 + 0.003*x_3 + 0.100*x_4 + 0.150*x_5 + 0.000*x_6 <= 2$ # max fibre\n",
    "- $0.002*x_1 + 0.005*x_2 + 0.007*x_3 + 0.002*x_4 + 0.008*x_5 + 0.000*x_6 <= 0.4$ # max salt\n"
   ]
  },
  {
   "cell_type": "code",
   "execution_count": 10,
   "metadata": {},
   "outputs": [
    {
     "data": {
      "text/plain": [
       "WhiskasFull_problem:\n",
       "MINIMIZE\n",
       "None\n",
       "VARIABLES"
      ]
     },
     "execution_count": 10,
     "metadata": {},
     "output_type": "execute_result"
    }
   ],
   "source": [
    "modelFull = LpProblem(\"WhiskasFull_problem\", LpMinimize)\n",
    "modelFull"
   ]
  },
  {
   "cell_type": "code",
   "execution_count": 11,
   "metadata": {},
   "outputs": [
    {
     "data": {
      "text/plain": [
       "x1_chicken"
      ]
     },
     "execution_count": 11,
     "metadata": {},
     "output_type": "execute_result"
    }
   ],
   "source": [
    "# Decision variables - writing it fully out\n",
    "x1 = LpVariable(name=\"x1_chicken\", lowBound=0, cat='Continuous') # % chicken meat\n",
    "x2 = LpVariable(name=\"x2_beef\", lowBound=0, cat='Continuous')    # % beef meat\n",
    "x3 = LpVariable(name=\"x3_mutton\", lowBound=0, cat='Continuous')  # % mutton meat\n",
    "x4 = LpVariable(name=\"x4_rice\", lowBound=0, cat='Continuous')    # % rice\n",
    "x5 = LpVariable(name=\"x5_wheat\", lowBound=0, cat='Continuous')   # % wheat\n",
    "x6 = LpVariable(name=\"x6_gel\", lowBound=0, cat='Continuous')     # % gel\n",
    "x1"
   ]
  },
  {
   "cell_type": "code",
   "execution_count": 12,
   "metadata": {},
   "outputs": [
    {
     "name": "stdout",
     "output_type": "stream",
     "text": [
      "0.013*x1_chicken + 0.008*x2_beef + 0.01*x3_mutton + 0.002*x4_rice + 0.005*x5_wheat + 0.001*x6_gel \n",
      "\n",
      "WhiskasFull_problem:\n",
      "MINIMIZE\n",
      "0.013*x1_chicken + 0.008*x2_beef + 0.01*x3_mutton + 0.002*x4_rice + 0.005*x5_wheat + 0.001*x6_gel + 0.0\n",
      "VARIABLES\n",
      "x1_chicken Continuous\n",
      "x2_beef Continuous\n",
      "x3_mutton Continuous\n",
      "x4_rice Continuous\n",
      "x5_wheat Continuous\n",
      "x6_gel Continuous\n",
      "\n"
     ]
    }
   ],
   "source": [
    "# Objective function\n",
    "obj_func = 0.013*x1 + 0.008*x2 + 0.010*x3 + 0.002*x4 + 0.005*x5 + 0.001*x6\n",
    "print(obj_func, \"\\n\")\n",
    "\n",
    "modelFull += obj_func # add objective function to the model\n",
    "print(modelFull)\n"
   ]
  },
  {
   "cell_type": "markdown",
   "metadata": {},
   "source": [
    "### Constraints reminder\n",
    "- $x_1 + x_2 + x_3 + x_4 + x_5 + x_6 == 100$ # total grams\n",
    "- $0.100*x_1 + 0.200*x_2 + 0.150*x_3 + 0.000*x_4 + 0.040*x_5 + 0.000*x_6 >= 8$ # min protein\n",
    "- $0.080*x_1 + 0.100*x_2 + 0.110*x_3 + 0.010*x_4 + 0.010*x_5 + 0.000*x_6 >= 6$ # min fat\n",
    "- $0.001*x_1 + 0.005*x_2 + 0.003*x_3 + 0.100*x_4 + 0.150*x_5 + 0.000*x_6 <= 2$ # max fibre\n",
    "- $0.002*x_1 + 0.005*x_2 + 0.007*x_3 + 0.002*x_4 + 0.008*x_5 + 0.000*x_6 <= 0.4$ # max salt"
   ]
  },
  {
   "cell_type": "code",
   "execution_count": 13,
   "metadata": {},
   "outputs": [
    {
     "data": {
      "text/plain": [
       "WhiskasFull_problem:\n",
       "MINIMIZE\n",
       "0.013*x1_chicken + 0.008*x2_beef + 0.01*x3_mutton + 0.002*x4_rice + 0.005*x5_wheat + 0.001*x6_gel + 0.0\n",
       "SUBJECT TO\n",
       "sum_to_100%: x1_chicken + x2_beef + x3_mutton + x4_rice + x5_wheat + x6_gel\n",
       " = 100\n",
       "\n",
       "protein_req: 0.1 x1_chicken + 0.2 x2_beef + 0.15 x3_mutton + 0.04 x5_wheat\n",
       " >= 8\n",
       "\n",
       "fat_req: 0.08 x1_chicken + 0.1 x2_beef + 0.11 x3_mutton + 0.01 x4_rice\n",
       " + 0.01 x5_wheat >= 6\n",
       "\n",
       "fibre_req: 0.001 x1_chicken + 0.005 x2_beef + 0.003 x3_mutton + 0.1 x4_rice\n",
       " + 0.15 x5_wheat <= 2\n",
       "\n",
       "salt_req: 0.002 x1_chicken + 0.005 x2_beef + 0.007 x3_mutton + 0.002 x4_rice\n",
       " + 0.008 x5_wheat <= 0.4\n",
       "\n",
       "VARIABLES\n",
       "x1_chicken Continuous\n",
       "x2_beef Continuous\n",
       "x3_mutton Continuous\n",
       "x4_rice Continuous\n",
       "x5_wheat Continuous\n",
       "x6_gel Continuous"
      ]
     },
     "execution_count": 13,
     "metadata": {},
     "output_type": "execute_result"
    }
   ],
   "source": [
    "# Constraints\n",
    "modelFull += (x1 + x2 + x3 + x4 + x5 + x6 == 100, \"sum_to_100%\")\n",
    "modelFull += (0.100*x1 + 0.200*x2 + 0.150*x3 + 0.000*x4 + 0.040*x5 + 0.000*x6 >= 8.0, \"protein_req\") # min protein\n",
    "modelFull += (0.080*x1 + 0.100*x2 + 0.110*x3 + 0.010*x4 + 0.010*x5 + 0.000*x6 >= 6.0, \"fat_req\") # min fat\n",
    "modelFull += (0.001*x1 + 0.005*x2 + 0.003*x3 + 0.100*x4 + 0.150*x5 + 0.000*x6 <= 2.0, \"fibre_req\") # max fibre\n",
    "modelFull += (0.002*x1 + 0.005*x2 + 0.007*x3 + 0.002*x4 + 0.008*x5 + 0.000*x6 <= 0.4, \"salt_req\") # max salt\n",
    "modelFull"
   ]
  },
  {
   "cell_type": "code",
   "execution_count": 14,
   "metadata": {},
   "outputs": [
    {
     "data": {
      "text/plain": [
       "[x1_chicken, x2_beef, x3_mutton, x4_rice, x5_wheat, x6_gel]"
      ]
     },
     "execution_count": 14,
     "metadata": {},
     "output_type": "execute_result"
    }
   ],
   "source": [
    "# The problem data is written to an .lp file\n",
    "modelFull.writeLP(\"WhiskasModel.lp\")"
   ]
  },
  {
   "cell_type": "code",
   "execution_count": 15,
   "metadata": {},
   "outputs": [
    {
     "name": "stdout",
     "output_type": "stream",
     "text": [
      "status: 1, Optimal\n",
      "objective: 0.52\n",
      "x1_chicken: 0.0\n",
      "x2_beef: 60.0\n",
      "x3_mutton: 0.0\n",
      "x4_rice: 0.0\n",
      "x5_wheat: 0.0\n",
      "x6_gel: 40.0\n",
      "sum_to_100%: 0.0\n",
      "protein_req: 4.0\n",
      "fat_req: 0.0\n",
      "fibre_req: -1.7\n",
      "salt_req: -0.10000000000000003\n"
     ]
    }
   ],
   "source": [
    "# Solve the optimization problem\n",
    "status = modelFull.solve()\n",
    "status\n",
    "\n",
    "print(f\"status: {modelFull.status}, {LpStatus[modelFull.status]}\")\n",
    "print(f\"objective: {modelFull.objective.value()}\")\n",
    "for var in modelFull.variables():\n",
    "    print(f\"{var.name}: {var.value()}\")\n",
    "for name, constraint in modelFull.constraints.items():\n",
    "    print(f\"{name}: {constraint.value()}\")"
   ]
  },
  {
   "cell_type": "markdown",
   "metadata": {},
   "source": [
    "Interpreting the results:\n",
    "- The solver reached an optimal solution, with an optimal price of 0.52$ per can.\n",
    "- The optimal solution (cheapest result, considering the nutrient requirements) consist of:   \n",
    " 0% chicken, 60% beef, 0% mutton, 0% rice, 0% wheat and 40% gel.\n",
    "\n",
    " Slack variables:   \n",
    "- the total weight requirement (=100g) is **exactly met**, with no surplus/slack\n",
    "- the minimum protein requirement (8.0g) **is met, and exceeded** by a surplus of 4.0g.\n",
    "- the minimumfat requirement (6.0g) **is exactly met**, with no surplus/slack\n",
    "- the maximum fibre requirement (2.0g) **is broken**, it exceeded by a slack of 1.7g\n",
    "- the maximum salt requirement (0.4g) **is broken**, it exceeded by a slack of 0.1g\n",
    "\n"
   ]
  },
  {
   "cell_type": "markdown",
   "metadata": {},
   "source": []
  },
  {
   "cell_type": "markdown",
   "metadata": {},
   "source": [
    "## 3. Full Formulation\n",
    "##### Again, after best practices \n",
    "- Use Lists and Loops: Instead of declaring variables one by one, use lists and loops to initialize and define them.\n",
    "- Parameterize Constants: Put all the constants like costs, protein content, etc., in lists or dictionaries so that it's easier to change and maintain.\n",
    "- Use Descriptive Comments: Include comments that explain why you are doing what you're doing.\n",
    "- Avoid Magic Numbers: Replace hard-coded numbers with named constants whenever possible to make your code more readable and maintainable."
   ]
  },
  {
   "cell_type": "code",
   "execution_count": 23,
   "metadata": {},
   "outputs": [],
   "source": [
    "from pulp import LpMaximize, LpMinimize, LpProblem, LpStatus, lpSum, LpVariable\n",
    "\n",
    "# Initialize the model\n",
    "modelFull = LpProblem(\"WhiskasFull_problem\", LpMinimize)\n",
    "\n",
    "## Store variables in lists or dictionaries\n",
    "# Ingredient names\n",
    "ingredients = ['chicken', 'beef', 'mutton', 'rice', 'wheat', 'gel']\n",
    "\n",
    "# Costs per ingredient (in the same order as ingredients)\n",
    "costs = [0.013, 0.008, 0.010, 0.002, 0.005, 0.001]\n",
    "\n",
    "# Nutritional information (protein, fat, fibre, salt)\n",
    "protein = [0.100, 0.200, 0.150, 0.000, 0.040, 0.000]\n",
    "fat = [0.080, 0.100, 0.110, 0.010, 0.010, 0.000]\n",
    "fibre = [0.001, 0.005, 0.003, 0.100, 0.150, 0.000]\n",
    "salt = [0.002, 0.005, 0.007, 0.002, 0.008, 0.000]"
   ]
  },
  {
   "cell_type": "code",
   "execution_count": 24,
   "metadata": {},
   "outputs": [
    {
     "data": {
      "text/plain": [
       "{'chicken': Ingr_chicken,\n",
       " 'beef': Ingr_beef,\n",
       " 'mutton': Ingr_mutton,\n",
       " 'rice': Ingr_rice,\n",
       " 'wheat': Ingr_wheat,\n",
       " 'gel': Ingr_gel}"
      ]
     },
     "execution_count": 24,
     "metadata": {},
     "output_type": "execute_result"
    }
   ],
   "source": [
    "# Initialize decision variables\n",
    "x = LpVariable.dicts(\"Ingr\", ingredients, lowBound=0, cat='Continuous')\n",
    "x"
   ]
  },
  {
   "cell_type": "code",
   "execution_count": 25,
   "metadata": {},
   "outputs": [
    {
     "name": "stdout",
     "output_type": "stream",
     "text": [
      "Ingr_chicken\n",
      "chicken\n"
     ]
    }
   ],
   "source": [
    "# just quick inspection for my part\n",
    "print(x[ingredients[0]])\n",
    "print(ingredients[0])"
   ]
  },
  {
   "cell_type": "code",
   "execution_count": 26,
   "metadata": {},
   "outputs": [
    {
     "data": {
      "text/plain": [
       "WhiskasFull_problem:\n",
       "MINIMIZE\n",
       "0.008*Ingr_beef + 0.013*Ingr_chicken + 0.001*Ingr_gel + 0.01*Ingr_mutton + 0.002*Ingr_rice + 0.005*Ingr_wheat + 0.0\n",
       "SUBJECT TO\n",
       "PercentageSum: Ingr_beef + Ingr_chicken + Ingr_gel + Ingr_mutton + Ingr_rice\n",
       " + Ingr_wheat = 100\n",
       "\n",
       "ProteinRequirement: 0.2 Ingr_beef + 0.1 Ingr_chicken + 0.15 Ingr_mutton\n",
       " + 0.04 Ingr_wheat >= 8\n",
       "\n",
       "FatRequirement: 0.1 Ingr_beef + 0.08 Ingr_chicken + 0.11 Ingr_mutton\n",
       " + 0.01 Ingr_rice + 0.01 Ingr_wheat >= 6\n",
       "\n",
       "FibreRequirement: 0.005 Ingr_beef + 0.001 Ingr_chicken + 0.003 Ingr_mutton\n",
       " + 0.1 Ingr_rice + 0.15 Ingr_wheat <= 2\n",
       "\n",
       "SaltRequirement: 0.005 Ingr_beef + 0.002 Ingr_chicken + 0.007 Ingr_mutton\n",
       " + 0.002 Ingr_rice + 0.008 Ingr_wheat <= 0.4\n",
       "\n",
       "VARIABLES\n",
       "Ingr_beef Continuous\n",
       "Ingr_chicken Continuous\n",
       "Ingr_gel Continuous\n",
       "Ingr_mutton Continuous\n",
       "Ingr_rice Continuous\n",
       "Ingr_wheat Continuous"
      ]
     },
     "execution_count": 26,
     "metadata": {},
     "output_type": "execute_result"
    }
   ],
   "source": [
    "## Version 1: Using indexing ##\n",
    "# Objective function\n",
    "modelFull += lpSum([costs[i] * x[ingredients[i]] for i in range(len(ingredients))]), \"Total Cost\"\n",
    "\n",
    "# Constraints\n",
    "modelFull += lpSum(x[ingredients[i]] for i in range(len(ingredients))) == 100, \"PercentageSum\"\n",
    "modelFull += lpSum([protein[i] * x[ingredients[i]] for i in range(len(ingredients))]) >= 8.0, \"ProteinRequirement\"\n",
    "modelFull += lpSum([fat[i] * x[ingredients[i]] for i in range(len(ingredients))]) >= 6.0, \"FatRequirement\"\n",
    "modelFull += lpSum([fibre[i] * x[ingredients[i]] for i in range(len(ingredients))]) <= 2.0, \"FibreRequirement\"\n",
    "modelFull += lpSum([salt[i] * x[ingredients[i]] for i in range(len(ingredients))]) <= 0.4, \"SaltRequirement\"\n",
    "\n",
    "# ## Version 2: Zipping together lists ##\n",
    "# # Objective function\n",
    "# modelFull += lpSum(cost * x[ingredient] for cost, ingredient in zip(costs, ingredients)), \"Total Cost\"\n",
    "\n",
    "# # Constraints\n",
    "# modelFull += lpSum(x[ingredient] for ingredient in ingredients) == 100, \"PercentageSum\"\n",
    "# modelFull += lpSum(prot * x[ingredient] for prot, ingredient in zip(protein, ingredients)) >= 8.0, \"ProteinRequirement\"\n",
    "# modelFull += lpSum(fat * x[ingredient] for fat, ingredient in zip(fat, ingredients)) >= 6.0, \"FatRequirement\"\n",
    "# modelFull += lpSum(fibre * x[ingredient] for fibre, ingredient in zip(fibre, ingredients)) <= 2.0, \"FibreRequirement\"\n",
    "# modelFull += lpSum(salt * x[ingredient] for salt, ingredient in zip(salt, ingredients)) <= 0.4, \"SaltRequirement\"\n",
    "\n",
    "modelFull"
   ]
  },
  {
   "cell_type": "code",
   "execution_count": 27,
   "metadata": {},
   "outputs": [
    {
     "name": "stdout",
     "output_type": "stream",
     "text": [
      "status: 1, Optimal\n",
      "objective: 0.52\n",
      "Ingr_beef: 60.0\n",
      "Ingr_chicken: 0.0\n",
      "Ingr_gel: 40.0\n",
      "Ingr_mutton: 0.0\n",
      "Ingr_rice: 0.0\n",
      "Ingr_wheat: 0.0\n",
      "PercentageSum: 0.0\n",
      "ProteinRequirement: 4.0\n",
      "FatRequirement: 0.0\n",
      "FibreRequirement: -1.7\n",
      "SaltRequirement: -0.10000000000000003\n"
     ]
    }
   ],
   "source": [
    "# Write to a file\n",
    "modelFull.writeLP(\"WhiskasModel_best_practice.lp\")\n",
    "\n",
    "# Solve the problem\n",
    "status = modelFull.solve()\n",
    "\n",
    "print(f\"status: {modelFull.status}, {LpStatus[modelFull.status]}\")\n",
    "print(f\"objective: {modelFull.objective.value()}\")\n",
    "for var in modelFull.variables():\n",
    "    print(f\"{var.name}: {var.value()}\")\n",
    "for name, constraint in modelFull.constraints.items():\n",
    "    print(f\"{name}: {constraint.value()}\")"
   ]
  },
  {
   "cell_type": "markdown",
   "metadata": {},
   "source": [
    "Same answer as previously."
   ]
  }
 ],
 "metadata": {
  "kernelspec": {
   "display_name": "LP_env",
   "language": "python",
   "name": "lp_env"
  },
  "language_info": {
   "codemirror_mode": {
    "name": "ipython",
    "version": 3
   },
   "file_extension": ".py",
   "mimetype": "text/x-python",
   "name": "python",
   "nbconvert_exporter": "python",
   "pygments_lexer": "ipython3",
   "version": "3.11.5"
  }
 },
 "nbformat": 4,
 "nbformat_minor": 2
}
