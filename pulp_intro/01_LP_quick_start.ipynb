{
 "cells": [
  {
   "cell_type": "markdown",
   "metadata": {},
   "source": [
    "# Linear programming with PuLP - A Quick Start Guide\n",
    "\n",
    "From tutorial: https://www.youtube.com/watch?v=mGPMrYnxIcQ"
   ]
  },
  {
   "cell_type": "markdown",
   "metadata": {},
   "source": [
    "**Maximize** (e.g. profit)\n",
    "- $z = 10*x_1 + 20*x_2$\n",
    "\n",
    "**Subject to the constrains**\n",
    "- $-x_1 + 2*x_2 \\leq 15$\n",
    "- $x_1 + x_2 \\leq 12$\n",
    "- $5*x_1 + 3*x_2 \\leq 45$\n",
    "- $x_1, x_2 \\geq 0$"
   ]
  },
  {
   "cell_type": "code",
   "execution_count": 29,
   "metadata": {},
   "outputs": [],
   "source": [
    "# imports\n",
    "from pulp import LpMaximize, LpProblem, LpStatus, lpSum, LpVariable"
   ]
  },
  {
   "cell_type": "code",
   "execution_count": 30,
   "metadata": {},
   "outputs": [
    {
     "data": {
      "text/plain": [
       "My_Maximization_Problem:\n",
       "MAXIMIZE\n",
       "None\n",
       "VARIABLES"
      ]
     },
     "execution_count": 30,
     "metadata": {},
     "output_type": "execute_result"
    }
   ],
   "source": [
    "# Initialize the LP problem\n",
    "model = LpProblem(\"My_Maximization_Problem\", LpMaximize)\n",
    "model"
   ]
  },
  {
   "cell_type": "code",
   "execution_count": 31,
   "metadata": {},
   "outputs": [
    {
     "data": {
      "text/plain": [
       "{1: x_1, 2: x_2}"
      ]
     },
     "execution_count": 31,
     "metadata": {},
     "output_type": "execute_result"
    }
   ],
   "source": [
    "# Decision variables\n",
    "x = LpVariable.dicts(\"x\", [1,2], lowBound=0, cat='Continuous') # 2 variables, both greater than 0\n",
    "x"
   ]
  },
  {
   "cell_type": "code",
   "execution_count": 32,
   "metadata": {},
   "outputs": [
    {
     "name": "stdout",
     "output_type": "stream",
     "text": [
      "10*x_1 + 20*x_2 \n",
      "\n",
      "My_Maximization_Problem:\n",
      "MAXIMIZE\n",
      "10*x_1 + 20*x_2 + 0\n",
      "VARIABLES\n",
      "x_1 Continuous\n",
      "x_2 Continuous\n",
      "\n"
     ]
    }
   ],
   "source": [
    "# Objective function\n",
    "obj_func = 10*x[1] + 20*x[2] # 10x1 + 20x2\n",
    "print(obj_func, \"\\n\")\n",
    "\n",
    "model += obj_func # add objective function to the model\n",
    "print(model)"
   ]
  },
  {
   "cell_type": "code",
   "execution_count": 33,
   "metadata": {},
   "outputs": [
    {
     "data": {
      "text/plain": [
       "My_Maximization_Problem:\n",
       "MAXIMIZE\n",
       "10*x_1 + 20*x_2 + 0\n",
       "SUBJECT TO\n",
       "price_constraint: - x_1 + 2 x_2 <= 15\n",
       "\n",
       "manpower_constraint: x_1 + x_2 <= 12\n",
       "\n",
       "distance_constraint: 5 x_1 + 3 x_2 <= 45\n",
       "\n",
       "VARIABLES\n",
       "x_1 Continuous\n",
       "x_2 Continuous"
      ]
     },
     "execution_count": 33,
     "metadata": {},
     "output_type": "execute_result"
    }
   ],
   "source": [
    "# Constraints\n",
    "model += (-x[1] + 2*x[2] <= 15, \"price_constraint\") # -x1 + 2*x2 <= 15\n",
    "model += (x[1] + x[2] <= 12, \"manpower_constraint\") # x1 + x2 <= 12\n",
    "model += (5*x[1] + 3*x[2] <= 45, \"distance_constraint\") # 5*x1 + 3*x2 <= 45\n",
    "# x1, x2 >= 0 (already defined in the decision variables)\n",
    "model"
   ]
  },
  {
   "cell_type": "markdown",
   "metadata": {},
   "source": [
    ".solve() calls the underlying solver, modifies the model object, and returns the integer status of the solution, which will be 1 if the optimum is found.   \n",
    " For the rest of the status codes, see [LpStatus](https://www.coin-or.org/PuLP/constants.html#pulp.constants.LpStatus).\n",
    "\n",
    " \n",
    "| LpStatus key         | string value  | numerical value |\n",
    "|----------------------|---------------|-----------------|\n",
    "| LpStatusOptimal      | \"Optimal\"     | 1               |\n",
    "| LpStatusNotSolved    | \"Not Solved\"  | 0               |\n",
    "| LpStatusInfeasible   | \"Infeasible\"  | -1              |\n",
    "| LpStatusUnbounded    | \"Unbounded\"   | -2              |\n",
    "| LpStatusUndefined    | \"Undefined\"   | -3              |\n",
    "\n",
    "You can get the optimization results as the attributes of model. The function value() and the corresponding method .value() return the actual values of the attributes:\n",
    "\n",
    "model.objective holds the value of the objective function, model.constraints contains the values of the slack variables, and the objects x and y have the optimal values of the decision variables. model.variables() returns a list with the decision variables:"
   ]
  },
  {
   "cell_type": "code",
   "execution_count": 36,
   "metadata": {},
   "outputs": [
    {
     "name": "stdout",
     "output_type": "stream",
     "text": [
      "status: 1, Optimal\n",
      "objective: 210.0\n",
      "x_1: 3.0\n",
      "x_2: 9.0\n",
      "price_constraint: 0.0\n",
      "manpower_constraint: 0.0\n",
      "distance_constraint: -3.0\n"
     ]
    }
   ],
   "source": [
    "# Solve the optimization problem\n",
    "status = model.solve()\n",
    "status\n",
    "\n",
    "print(f\"status: {model.status}, {LpStatus[model.status]}\")\n",
    "print(f\"objective: {model.objective.value()}\")\n",
    "\n",
    "for var in model.variables():\n",
    "    print(f\"{var.name}: {var.value()}\")\n",
    "for name, constraint in model.constraints.items():\n",
    "    print(f\"{name}: {constraint.value()}\")"
   ]
  },
  {
   "cell_type": "code",
   "execution_count": 38,
   "metadata": {},
   "outputs": [
    {
     "name": "stdout",
     "output_type": "stream",
     "text": [
      "[x_1, x_2]\n",
      "True\n",
      "True\n"
     ]
    }
   ],
   "source": [
    "print(model.variables())\n",
    "print(model.variables()[0] is x[1])\n",
    "print(model.variables()[1] is x[2])"
   ]
  },
  {
   "cell_type": "code",
   "execution_count": 43,
   "metadata": {},
   "outputs": [
    {
     "data": {
      "text/plain": [
       "<pulp.apis.coin_api.PULP_CBC_CMD at 0x24f0df77b10>"
      ]
     },
     "execution_count": 43,
     "metadata": {},
     "output_type": "execute_result"
    }
   ],
   "source": [
    "# Check which solver is being used/called by PuLP\n",
    "model.solver"
   ]
  },
  {
   "cell_type": "markdown",
   "metadata": {},
   "source": [
    "The output informs you that the solver is CBC. You didn’t specify a solver, so PuLP called the default one.\n",
    "\n",
    "If you want to run a different solver, then you can specify it as an argument of .solve(). For example, if you want to use GLPK and already have it installed, then you can use ```solver=GLPK(msg=False)``` in the last line. \n",
    "Keep in mind that you’ll also need to import it.  When you have GLPK imported, you can use it inside .solve():"
   ]
  }
 ],
 "metadata": {
  "kernelspec": {
   "display_name": "LP_env",
   "language": "python",
   "name": "lp_env"
  },
  "language_info": {
   "codemirror_mode": {
    "name": "ipython",
    "version": 3
   },
   "file_extension": ".py",
   "mimetype": "text/x-python",
   "name": "python",
   "nbconvert_exporter": "python",
   "pygments_lexer": "ipython3",
   "version": "3.11.5"
  }
 },
 "nbformat": 4,
 "nbformat_minor": 2
}
