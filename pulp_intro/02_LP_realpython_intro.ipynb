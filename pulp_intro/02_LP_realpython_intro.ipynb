{
 "cells": [
  {
   "cell_type": "markdown",
   "metadata": {},
   "source": [
    "# Linear programming with SciPy and PuLP - RealPython Guide\n",
    "\n",
    "From RealPython - Hands-On Linear Programming: Optimization With Python   \n",
    "https://realpython.com/linear-programming-python/#reader-comments\n",
    "\n",
    "- Linear programming is a set of techniques used in mathematical programming, sometimes called mathematical optimization, to solve systems of linear equations and inequalities while maximizing or minimizing some linear function.     \n",
    "- Often, when people try to formulate and solve an optimization problem, the first question is whether they can apply linear programming or mixed-integer linear programming.    \n",
    "- The importance of linear programming, and especially mixed-integer linear programming, has increased over time as computers have gotten more capable, algorithms have improved, and more user-friendly software solutions have become available.\n",
    "\n"
   ]
  },
  {
   "cell_type": "markdown",
   "metadata": {},
   "source": [
    "#### Terminology\n",
    "**Mixed-integer linear programming** is an extension of linear programming. It handles problems in which at least one variable takes a discrete integer rather than a continuous value. Although mixed-integer problems look similar to continuous variable problems at first sight, they offer significant advantages in terms of flexibility and precision.\n",
    "\n",
    "**Integer variables** are important for properly representing quantities naturally expressed with integers, like the number of airplanes produced or the number of customers served.\n",
    "\n",
    "**Binary variables** are a particularly important kind of integer variable. It can take only the values zero or one and is useful in making yes-or-no decisions, such as whether a plant should be built or if a machine should be turned on or off. You can also use them to mimic logical constraints.\n",
    "\n",
    "**Solvers**, It’s worth mentioning that almost all widely used linear programming and mixed-integer linear programming libraries are native to and written in Fortran or C or C++. This is because linear programming requires computationally intensive work with (often large) matrices. Such libraries are called solvers. The Python tools are just wrappers around the solvers.\n",
    "\n",
    "Several free Python libraries are specialized to interact with linear or mixed-integer linear programming solvers:\n",
    "- SciPy Optimization and Root Finding\n",
    "- PuLP\n",
    "- Pyomo\n",
    "- CVXOPT   \n",
    "\n",
    "Some well-known and very powerful commercial and proprietary solutions are \n",
    "- Gurobi\n",
    "- CPLEX\n",
    "- XPRESS.   \n",
    "\n",
    "Besides offering flexibility when defining problems and the ability to run various solvers, PuLP is less complicated to use than alternatives like Pyomo or CVXOPT, which require more time and effort to master.    \n",
    "In this tutorial, you’ll use SciPy and PuLP to define and solve linear programming problems."
   ]
  },
  {
   "cell_type": "markdown",
   "metadata": {},
   "source": [
    "## 1. Small/Easy Visual Problem\n",
    "**Maximize:**\n",
    "- $ z = x + 2y $\n",
    "\n",
    "**Subject to:**\n",
    "- $ 2x + y \\leq 20 $   \n",
    "- $-4x + 5y \\leq 10 $   \n",
    "- $ -x + 2y \\geq -2 $   \n",
    "- $ x \\geq 0 $   \n",
    "- $ y \\geq 0 $   "
   ]
  },
  {
   "cell_type": "markdown",
   "metadata": {},
   "source": [
    "You need to find x and y such that the red, blue, and yellow inequalities, as well as the inequalities x ≥ 0 and y ≥ 0, are satisfied. At the same time, your solution must correspond to the largest possible value of z.\n",
    "\n",
    "**Decision variables** are the independent variables you need to find. x and y in this case   \n",
    "**Objective function/Cost function/goal**, the function of the decision variables to be maximized or minimized. In this case z.   \n",
    "**Inequality constraints**   \n",
    "**Equality constraints**"
   ]
  },
  {
   "cell_type": "markdown",
   "metadata": {},
   "source": [
    "We now expand the problem with the additional equality constraint shown in green. If you insert the demand that all values of x must be integers, then you’ll get a mixed-integer linear programming problem, and the set of feasible solutions will change once again:  \n",
    "\n",
    "<img src=\"https://files.realpython.com/media/lp-py-fig-1.00f609c97aec.png\" width=\"300\"/>   \n",
    "\n",
    "<img src=\"https://files.realpython.com/media/lp-py-fig-3.c13d0660ce57.png\" width=\"300\"/>    \n"
   ]
  },
  {
   "cell_type": "markdown",
   "metadata": {},
   "source": [
    "## 2. Real Resource Allocation Problem"
   ]
  },
  {
   "cell_type": "markdown",
   "metadata": {},
   "source": [
    "Say that a factory produces four different products, and that the daily produced amount of the first product is x₁, the amount produced of the second product is x₂, and so on. The goal is to determine the profit-maximizing daily production amount for each product, bearing in mind the following conditions:\n",
    "\n",
    "The profit per unit of product is $20, $12, $40, and $25 for the first, second, third, and fourth product, respectively.\n",
    "\n",
    "Due to manpower constraints, the total number of units produced per day can’t exceed fifty.\n",
    "\n",
    "For each unit of the first product, three units of the raw material A are consumed. Each unit of the second product requires two units of the raw material A and one unit of the raw material B. Each unit of the third product needs one unit of A and two units of B. Finally, each unit of the fourth product requires three units of B.\n",
    "\n",
    "Due to the transportation and storage constraints, the factory can consume up to one hundred units of the raw material A and ninety units of B per day.   \n",
    "The mathematical model can be defined like this:\n",
    "\n",
    "**Objective: Maximize Profit**\n",
    "- $20x_1 + 12x_2 + 40x_3 + 25x_4$\n",
    "\n",
    "**Subject to:**\n",
    "- $x_1 + x_2 + x_3 + x_4 \\leq 50 (manpower)  $\n",
    "- $3x_1 + 2x_2 + x_3 \\leq 100 (material A)$\n",
    "- $x_2 + 2x_3 + 3x_4 \\leq 90 (material B)$\n",
    "- $x_1, x_2, x_3, x_4 \\geq 0$\n"
   ]
  },
  {
   "cell_type": "markdown",
   "metadata": {},
   "source": [
    "## 3. Linear Programming with SciPy\n",
    "### 3.1 Solving the small visual problem\n",
    "We will use the SciPy optimization and root-finding library for linear programming.    \n",
    "To define and solve optimization problems with SciPy, you need to import scipy.optimize.linprog():"
   ]
  },
  {
   "cell_type": "code",
   "execution_count": 1,
   "metadata": {},
   "outputs": [],
   "source": [
    "# imports\n",
    "from scipy.optimize import linprog"
   ]
  },
  {
   "cell_type": "markdown",
   "metadata": {},
   "source": [
    "**linprog() solves only minimization** (not maximization) problems and **doesn’t allow inequality constraints with the greater or equal sign (≥)** (need to flip it).    \n",
    " To work around these issues, you need to modify your problem before starting optimization:\n",
    "- Instead of maximizing z = x + 2y, you can minimize its negative(−z = −x − 2y).\n",
    "- Instead of having the greater than or equal to sign, you can multiply the yellow inequality by −1 and get the opposite less than or equal to sign (≤).   \n",
    "After introducing these changes, you get a new system:"
   ]
  },
  {
   "cell_type": "markdown",
   "metadata": {},
   "source": [
    "**Maximize:**   \n",
    "- $ -z = -x - 2y $\n",
    "\n",
    "**Subject to:**   \n",
    "- $ 2x + y \\leq 20 $   \n",
    "- $ -4x + 5y \\leq 10 $   \n",
    "- $ x - 2y \\leq 2 $   \n",
    "- $ x \\geq 0 $   \n",
    "- $ y \\geq 0 $   \n",
    "\n",
    "This system is equivalent to the original and will have the same solution. The only reason to apply these changes is to overcome the limitations of SciPy related to the problem formulation."
   ]
  },
  {
   "cell_type": "code",
   "execution_count": 2,
   "metadata": {},
   "outputs": [],
   "source": [
    "# Objective function: (-z = -x - 2y)\n",
    "obj = [-1, -2]\n",
    "#      ─┬  ─┬\n",
    "#       │   └┤ Coefficient for y\n",
    "#       └────┤ Coefficient for x\n",
    "\n",
    "lhs_ineq = [[ 2,  1],  # Red constraint left side\n",
    "            [-4,  5],  # Blue constraint left side\n",
    "            [ 1, -2]]  # Yellow constraint left side\n",
    "\n",
    "rhs_ineq = [20,  # Red constraint right side\n",
    "            10,  # Blue constraint right side\n",
    "             2]  # Yellow constraint right side\n",
    "\n",
    "lhs_eq = [[-1, 5]]  # Green constraint left side\n",
    "rhs_eq = [15]       # Green constraint right side"
   ]
  },
  {
   "cell_type": "markdown",
   "metadata": {},
   "source": [
    "The next step is to define the bounds for each variable in the same order as the coefficients. In this case, they’re both between zero and positive infinity.   \n",
    "This statement is redundant because linprog() takes these bounds (zero to positive infinity) by default."
   ]
  },
  {
   "cell_type": "code",
   "execution_count": 3,
   "metadata": {},
   "outputs": [],
   "source": [
    "bnd = [(0, float(\"inf\")),  # Bounds of x\n",
    "       (0, float(\"inf\"))]  # Bounds of y"
   ]
  },
  {
   "cell_type": "markdown",
   "metadata": {},
   "source": [
    "Finally, it’s time to optimize and solve your problem of interest. You can do that with **linprog()**.   \n",
    "- The parameter c refers to the coefficients from the objective function. \n",
    "- A_ub and b_ub are related to the coefficients from the left and right sides of the inequality constraints, respectively. \n",
    "- Similarly, A_eq and b_eq refer to equality constraints. \n",
    "- You can use bounds to provide the lower and upper bounds on the decision variables.\n",
    "\n",
    "You can use the parameter 'method' to define the linear programming method that you want to use. There are three options:\n",
    "- method=\"interior-point\" selects the interior-point method. This option is set by default.\n",
    "- method=\"revised simplex\" selects the revised two-phase simplex method.\n",
    "- method=\"simplex\" selects the legacy two-phase simplex method."
   ]
  },
  {
   "cell_type": "code",
   "execution_count": 4,
   "metadata": {},
   "outputs": [
    {
     "name": "stderr",
     "output_type": "stream",
     "text": [
      "C:\\Users\\torha\\AppData\\Local\\Temp\\ipykernel_13208\\1019385060.py:1: DeprecationWarning: `method='revised simplex'` is deprecated and will be removed in SciPy 1.11.0. Please use one of the HiGHS solvers (e.g. `method='highs'`) in new code.\n",
      "  opt = linprog(c=obj, A_ub=lhs_ineq, b_ub=rhs_ineq,\n"
     ]
    },
    {
     "data": {
      "text/plain": [
       " message: Optimization terminated successfully.\n",
       " success: True\n",
       "  status: 0\n",
       "     fun: -16.818181818181817\n",
       "       x: [ 7.727e+00  4.545e+00]\n",
       "     nit: 3"
      ]
     },
     "execution_count": 4,
     "metadata": {},
     "output_type": "execute_result"
    }
   ],
   "source": [
    "opt = linprog(c=obj, A_ub=lhs_ineq, b_ub=rhs_ineq,\n",
    "              A_eq=lhs_eq, b_eq=rhs_eq, bounds=bnd,\n",
    "              method=\"revised simplex\")\n",
    "opt"
   ]
  },
  {
   "cell_type": "markdown",
   "metadata": {},
   "source": [
    "linprog() returns a data structure with these attributes:\n",
    "- .con is the equality constraints residuals.\n",
    "- .fun is the objective function value at the optimum (if found).\n",
    "- .message is the status of the solution.\n",
    "- .nit is the number of iterations needed to finish the calculation.\n",
    "- .slack is the values of the slack variables, or the differences between the values of the left and right sides of the constraints.\n",
    "- .status is an integer between 0 and 4 that shows the status of the solution, such as 0 for when the optimal solution has been found.\n",
    "- .success is a Boolean that shows whether the optimal solution has been found.\n",
    "- .x is a NumPy array holding the optimal values of the decision variables.\n",
    "\n",
    "We can also access these values separately.   \n",
    "We can also plot the results from these values."
   ]
  },
  {
   "cell_type": "code",
   "execution_count": 5,
   "metadata": {},
   "outputs": [
    {
     "name": "stdout",
     "output_type": "stream",
     "text": [
      "the objective function value at the optimum (if found): -16.8182\n",
      "Boolean that shows whether the optimal solution has been found: True\n",
      "NumPy array holding the optimal values of the decision variables: [7.72727273 4.54545455]\n"
     ]
    }
   ],
   "source": [
    "print(\"the objective function value at the optimum (if found):\", round(opt.fun,4))\n",
    "print(\"Boolean that shows whether the optimal solution has been found:\", opt.success)\n",
    "print(\"NumPy array holding the optimal values of the decision variables:\", opt.x)"
   ]
  },
  {
   "cell_type": "markdown",
   "metadata": {},
   "source": [
    "If you want to exclude the equality (green) constraint, just drop the parameters A_eq and b_eq from the linprog() call:"
   ]
  },
  {
   "cell_type": "code",
   "execution_count": 6,
   "metadata": {},
   "outputs": [
    {
     "name": "stderr",
     "output_type": "stream",
     "text": [
      "C:\\Users\\torha\\AppData\\Local\\Temp\\ipykernel_13208\\106174338.py:1: DeprecationWarning: `method='revised simplex'` is deprecated and will be removed in SciPy 1.11.0. Please use one of the HiGHS solvers (e.g. `method='highs'`) in new code.\n",
      "  opt = linprog(c=obj, A_ub=lhs_ineq, b_ub=rhs_ineq, bounds=bnd,\n"
     ]
    },
    {
     "data": {
      "text/plain": [
       " message: Optimization terminated successfully.\n",
       " success: True\n",
       "  status: 0\n",
       "     fun: -20.714285714285715\n",
       "       x: [ 6.429e+00  7.143e+00]\n",
       "     nit: 2"
      ]
     },
     "execution_count": 6,
     "metadata": {},
     "output_type": "execute_result"
    }
   ],
   "source": [
    "opt = linprog(c=obj, A_ub=lhs_ineq, b_ub=rhs_ineq, bounds=bnd,\n",
    "              method=\"revised simplex\")\n",
    "opt\n"
   ]
  },
  {
   "cell_type": "code",
   "execution_count": 7,
   "metadata": {},
   "outputs": [
    {
     "name": "stdout",
     "output_type": "stream",
     "text": [
      "the objective function value at the optimum (if found): -20.7143\n",
      "Boolean that shows whether the optimal solution has been found: True\n",
      "NumPy array holding the optimal values of the decision variables: [6.42857143 7.14285714]\n"
     ]
    }
   ],
   "source": [
    "print(\"the objective function value at the optimum (if found):\", round(opt.fun,4))\n",
    "print(\"Boolean that shows whether the optimal solution has been found:\", opt.success)\n",
    "print(\"NumPy array holding the optimal values of the decision variables:\", opt.x)"
   ]
  },
  {
   "cell_type": "markdown",
   "metadata": {},
   "source": [
    "### 3.1 Solving the resource allocation problem\n",
    "**Objective: Maximize Profit**\n",
    "- $20x_1 + 12x_2 + 40x_3 + 25x_4$\n",
    "\n",
    "**Subject to:**\n",
    "- $x_1 + x_2 + x_3 + x_4 \\leq 50 (manpower)  $\n",
    "- $3x_1 + 2x_2 + x_3 \\leq 100 (material A)$\n",
    "- $x_2 + 2x_3 + 3x_4 \\leq 90 (material B)$\n",
    "- $x_1, x_2, x_3, x_4 \\geq 0$\n",
    "\n",
    "As in the previous example, we need to extract the necessary vectors and matrix from the problem above,    \n",
    "pass them as the arguments to .linprog(), and get the results:"
   ]
  },
  {
   "cell_type": "code",
   "execution_count": 8,
   "metadata": {},
   "outputs": [
    {
     "name": "stderr",
     "output_type": "stream",
     "text": [
      "C:\\Users\\torha\\AppData\\Local\\Temp\\ipykernel_13208\\1625264034.py:12: DeprecationWarning: `method='revised simplex'` is deprecated and will be removed in SciPy 1.11.0. Please use one of the HiGHS solvers (e.g. `method='highs'`) in new code.\n",
      "  opt = linprog(c=obj, A_ub=lhs_ineq, b_ub=rhs_ineq, method=\"revised simplex\")\n"
     ]
    },
    {
     "data": {
      "text/plain": [
       " message: Optimization terminated successfully.\n",
       " success: True\n",
       "  status: 0\n",
       "     fun: -1900.0\n",
       "       x: [ 5.000e+00  0.000e+00  4.500e+01  0.000e+00]\n",
       "     nit: 2"
      ]
     },
     "execution_count": 8,
     "metadata": {},
     "output_type": "execute_result"
    }
   ],
   "source": [
    "# Objective function: (-z = -x - 2y)\n",
    "obj = [-20, -12, -40, -25]\n",
    "\n",
    "lhs_ineq = [[1, 1, 1, 1],  # Manpower\n",
    "            [3, 2, 1, 0],  # Material A\n",
    "            [0, 1, 2, 3]]  # Material B\n",
    "\n",
    "rhs_ineq = [ 50,  # Manpower\n",
    "            100,  # Material A\n",
    "             90]  # Material B\n",
    "\n",
    "opt = linprog(c=obj, A_ub=lhs_ineq, b_ub=rhs_ineq, method=\"revised simplex\")\n",
    "opt"
   ]
  },
  {
   "cell_type": "code",
   "execution_count": 9,
   "metadata": {},
   "outputs": [
    {
     "name": "stdout",
     "output_type": "stream",
     "text": [
      "the objective function value at the optimum (if found): -1900.0\n",
      "Boolean that shows whether the optimal solution has been found: True\n",
      "NumPy array holding the optimal values of the decision variables: [ 5.  0. 45.  0.]\n"
     ]
    }
   ],
   "source": [
    "print(\"the objective function value at the optimum (if found):\", round(opt.fun,4))\n",
    "print(\"Boolean that shows whether the optimal solution has been found:\", opt.success)\n",
    "print(\"NumPy array holding the optimal values of the decision variables:\", opt.x)"
   ]
  },
  {
   "cell_type": "code",
   "execution_count": 10,
   "metadata": {},
   "outputs": [
    {
     "name": "stdout",
     "output_type": "stream",
     "text": [
      "x : [ 5.  0. 45.  0.]\n",
      "fun : -1900.0\n",
      "slack : [ 0. 40.  0.]\n",
      "con : []\n",
      "status : 0\n",
      "message : Optimization terminated successfully.\n",
      "nit : 2\n",
      "success : True\n"
     ]
    }
   ],
   "source": [
    "# Can treat it like a dictionary\n",
    "for a,b in opt.items():\n",
    "    print(a, \":\", b)"
   ]
  },
  {
   "cell_type": "markdown",
   "metadata": {},
   "source": [
    "The result tells you that the maximal profit is 1900 and corresponds to x₁ = 5 and x₃ = 45.    \n",
    "It’s not profitable to produce the second and fourth products under the given conditions.    \n",
    "You can draw several interesting conclusions here:\n",
    "\n",
    "- The third product brings the largest profit per unit, so the factory will produce it the most.\n",
    "- The first slack is 0, which means that the values of the left and right sides of the manpower (first) constraint are the same.   \n",
    "The factory produces 50 units per day, and that’s its full capacity.\n",
    "- The second slack is 40 because the factory consumes 60 units of raw material A (15 units for the first product plus 45 for the third) out of a potential 100 units.\n",
    "- The third slack is 0, which means that the factory consumes all 90 units of the raw material B. This entire amount is consumed for the third product.    \n",
    "That’s why the factory can’t produce the second or fourth product at all and can’t produce more than 45 units of the third product. It lacks the raw material B.  \n",
    "\n",
    "opt.status is 0 and opt.success is True, indicating that the optimization problem was successfully solved with the optimal feasible solution."
   ]
  },
  {
   "cell_type": "markdown",
   "metadata": {},
   "source": [
    "#### Summary of SciPy's capabilities for solving Linear Problems\n",
    "SciPy’s linear programming capabilities are useful mainly for smaller problems. For larger and more complex problems, you might find other libraries more suitable for the following reasons:\n",
    "\n",
    "- SciPy can’t run various external solvers.\n",
    "- SciPy can’t work with integer decision variables.\n",
    "- SciPy doesn’t provide classes or functions that facilitate model building. To define arrays and matrices is tedious/error-prone task for large problems.\n",
    "- SciPy doesn’t allow you to define maximization problems directly. You must convert them to minimization problems.\n",
    "- SciPy doesn’t allow you to define constraints using the greater-than-or-equal-to sign directly. You must use the less-than-or-equal-to instead.\n",
    "\n",
    "Fortunately, the Python ecosystem offers several alternative solutions for linear programming that are very useful for larger problems.   \n",
    "One of them is **PuLP**, which you’ll see in action in the next section."
   ]
  },
  {
   "cell_type": "markdown",
   "metadata": {},
   "source": []
  },
  {
   "cell_type": "markdown",
   "metadata": {},
   "source": [
    "## 4. Linear Programming with PuLP\n",
    "### 4.1 Solving the small visual problem\n",
    "*\"PuLP is an LP modeler written in python. PuLP can generate MPS or LP files and call GLPK, COIN CLP/CBC, CPLEX, and GUROBI to solve linear problems.\"*\n",
    "\n",
    "PuLP has a more convenient linear programming API than SciPy. You don’t have to mathematically modify your problem or use vectors and matrices. Everything is cleaner and less prone to errors.\n",
    "\n",
    "As usual, you start by importing what you need:"
   ]
  },
  {
   "cell_type": "code",
   "execution_count": 11,
   "metadata": {},
   "outputs": [],
   "source": [
    "# imports\n",
    "from pulp import LpMaximize, LpProblem, LpStatus, lpSum, LpVariable"
   ]
  },
  {
   "cell_type": "markdown",
   "metadata": {},
   "source": [
    "**Small/Easy Visual Problem**   \n",
    "**Maximize:**\n",
    "- $ z = x + 2y $\n",
    "\n",
    "**Subject to:**\n",
    "- $ 2x + y \\leq 20 $   \n",
    "- $-4x + 5y \\leq 10 $   \n",
    "- $ -x + 2y \\geq -2 $   \n",
    "- $ x \\geq 0 $   \n",
    "- $ y \\geq 0 $   "
   ]
  },
  {
   "cell_type": "markdown",
   "metadata": {},
   "source": [
    "The first step is to initialize an instance of [LpProblem](https://www.coin-or.org/PuLP/pulp.html#pulp.LpProblem) to represent your model:\n",
    "\n",
    "**Parameters**:\t\n",
    "- name – name of the problem used in the output .lp file\n",
    "- sense – of the LP problem objective. Either LpMinimize ('1'; default) or LpMaximize('-1').\n",
    "\n",
    "**Returns**:\t\n",
    "- An LP Problem"
   ]
  },
  {
   "cell_type": "code",
   "execution_count": 12,
   "metadata": {},
   "outputs": [],
   "source": [
    "# Create the model - we chose maximization for our problem\n",
    "model = LpProblem(name=\"small-problem\", sense=LpMaximize)"
   ]
  },
  {
   "cell_type": "markdown",
   "metadata": {},
   "source": [
    "Once that you have the model, you can define the decision variables as instances of the [LpVariable](https://www.coin-or.org/PuLP/pulp.html#pulp.LpVariable) class:\n",
    "\n",
    "Parameters:\t\n",
    "- name – The name of the variable used in the output .lp file\n",
    "- lowbound – The lower bound on this variable’s range. Default is negative infinity\n",
    "- upBound – The upper bound on this variable’s range. Default is positive infinity\n",
    "- cat – The category this variable is in, Integer, Binary or Continuous(default)\n",
    "- e – Used for column based modelling: relates to the variable’s existence in the objective function and constraints\n"
   ]
  },
  {
   "cell_type": "code",
   "execution_count": 13,
   "metadata": {},
   "outputs": [],
   "source": [
    "# Initialize the decision variables\n",
    "x = LpVariable(name=\"x\", lowBound=0) # upBound is positive infinity by default\n",
    "y = LpVariable(name=\"y\", lowBound=0) # upBound is positive infinity by default"
   ]
  },
  {
   "cell_type": "markdown",
   "metadata": {},
   "source": [
    "The optional parameter cat defines the category of a decision variable. If you’re working with continuous variables, then you can use the default value \"Continuous\".   \n",
    "You can use the variables x and y to create other PuLP objects that represent linear expressions and constraints:"
   ]
  },
  {
   "cell_type": "code",
   "execution_count": 14,
   "metadata": {},
   "outputs": [
    {
     "name": "stdout",
     "output_type": "stream",
     "text": [
      "<class 'pulp.pulp.LpAffineExpression'>\n",
      "<class 'pulp.pulp.LpConstraint'>\n"
     ]
    }
   ],
   "source": [
    "# just examples here\n",
    "expression = 2 * x + 4 * y\n",
    "print(type(expression))\n",
    "\n",
    "\n",
    "constraint = 2 * x + 4 * y >= 8\n",
    "print(type(constraint))"
   ]
  },
  {
   "cell_type": "markdown",
   "metadata": {},
   "source": [
    "When you multiply a decision variable with a scalar or build a linear combination of multiple decision variables, you get an instance of pulp.LpAffineExpression that represents a linear expression.\n",
    "\n",
    "> Note:\n",
    "> You can add or subtract variables or expressions, and you can multiply them with constants because PuLP classes implement some of the Python special methods that emulate numeric types like __add__(), __sub__(), and __mul__().   \n",
    "> These methods are used to customize the behavior of operators like +, -, and *.\n",
    "\n",
    "Similarly, you can combine linear expressions, variables, and scalars with the operators ==, <=, or >= to get instances of pulp.LpConstraint that represent the linear constraints of your model.\n",
    "\n",
    "> Note: \n",
    "> It’s also possible to build constraints with the rich comparison methods .__eq__(), .__le__(), and .__ge__() that define the behavior of the operators ==, <=, and >=.\n",
    "\n",
    "Having this in mind, the next step is to create the constraints and objective function as well as to assign them to your model. You don’t need to create lists or matrices. Just write Python expressions and use the += operator to append them to the model:"
   ]
  },
  {
   "cell_type": "code",
   "execution_count": 15,
   "metadata": {},
   "outputs": [],
   "source": [
    "# Add the constraints to the model\n",
    "model += (2 * x + y <= 20, \"red_constraint\")\n",
    "model += (4 * x - 5 * y >= -10, \"blue_constraint\")\n",
    "model += (-x + 2 * y >= -2, \"yellow_constraint\")\n",
    "model += (-x + 5 * y == 15, \"green_constraint\")"
   ]
  },
  {
   "cell_type": "markdown",
   "metadata": {},
   "source": [
    "In the above code, you define tuples that hold the constraints and their names. LpProblem allows you to add constraints to a model by specifying them as tuples.    \n",
    "The first element is a LpConstraint instance. The second element is a human-readable name for that constraint.\n",
    "\n",
    "Setting the objective function is very similar:"
   ]
  },
  {
   "cell_type": "code",
   "execution_count": 16,
   "metadata": {},
   "outputs": [],
   "source": [
    "# Add the objective function to the model\n",
    "obj_func = x + 2 * y\n",
    "model += obj_func\n",
    "\n",
    "# Can also use shorter notation like this\n",
    "# model += x + 2 * y"
   ]
  },
  {
   "cell_type": "markdown",
   "metadata": {},
   "source": [
    "Now you have the objective function added and the model defined.\n",
    "\n",
    "For larger problems, it’s often more convenient to use **lpSum()** with a list or other sequence than to repeat the + operator.   \n",
    "For example, you could add the objective function to the model with this statement, which produce the same result as the previous statement.\n",
    "\n",
    "```python\n",
    "# Add the objective function to the model\n",
    "model += lpSum([x, 2 * y])\n",
    "```"
   ]
  },
  {
   "cell_type": "markdown",
   "metadata": {},
   "source": [
    "You can now see the full definition of this model:"
   ]
  },
  {
   "cell_type": "code",
   "execution_count": 17,
   "metadata": {},
   "outputs": [
    {
     "data": {
      "text/plain": [
       "small-problem:\n",
       "MAXIMIZE\n",
       "1*x + 2*y + 0\n",
       "SUBJECT TO\n",
       "red_constraint: 2 x + y <= 20\n",
       "\n",
       "blue_constraint: 4 x - 5 y >= -10\n",
       "\n",
       "yellow_constraint: - x + 2 y >= -2\n",
       "\n",
       "green_constraint: - x + 5 y = 15\n",
       "\n",
       "VARIABLES\n",
       "x Continuous\n",
       "y Continuous"
      ]
     },
     "execution_count": 17,
     "metadata": {},
     "output_type": "execute_result"
    }
   ],
   "source": [
    "model"
   ]
  },
  {
   "cell_type": "markdown",
   "metadata": {},
   "source": [
    "The string representation of the model contains all relevant data: the variables, constraints, objective, and their names.\n",
    "\n",
    "Finally, you’re ready to solve the problem. You can do that by calling .solve() on your model object. If you want to use the default solver (CBC), then you don’t need to pass any arguments:"
   ]
  },
  {
   "cell_type": "code",
   "execution_count": 18,
   "metadata": {},
   "outputs": [
    {
     "data": {
      "text/plain": [
       "1"
      ]
     },
     "execution_count": 18,
     "metadata": {},
     "output_type": "execute_result"
    }
   ],
   "source": [
    "# Solve the problem\n",
    "status = model.solve()\n",
    "status"
   ]
  },
  {
   "cell_type": "markdown",
   "metadata": {},
   "source": [
    ".solve() calls the underlying solver, modifies the model object, and returns the integer status of the solution, which will be 1 if the optimum is found.   \n",
    " For the rest of the status codes, see [LpStatus](https://www.coin-or.org/PuLP/constants.html#pulp.constants.LpStatus).\n",
    "\n",
    " \n",
    "| LpStatus key         | string value  | numerical value |\n",
    "|----------------------|---------------|-----------------|\n",
    "| LpStatusOptimal      | \"Optimal\"     | 1               |\n",
    "| LpStatusNotSolved    | \"Not Solved\"  | 0               |\n",
    "| LpStatusInfeasible   | \"Infeasible\"  | -1              |\n",
    "| LpStatusUnbounded    | \"Unbounded\"   | -2              |\n",
    "| LpStatusUndefined    | \"Undefined\"   | -3              |\n",
    "\n",
    "You can get the optimization results as the attributes of model. The function value() and the corresponding method .value() return the actual values of the attributes:"
   ]
  },
  {
   "cell_type": "code",
   "execution_count": 19,
   "metadata": {},
   "outputs": [
    {
     "name": "stdout",
     "output_type": "stream",
     "text": [
      "status: 1, Optimal\n",
      "objective: 16.8181817\n",
      "x: 7.7272727\n",
      "y: 4.5454545\n",
      "red_constraint: -9.99999993922529e-08\n",
      "blue_constraint: 18.181818300000003\n",
      "yellow_constraint: 3.3636362999999996\n",
      "green_constraint: -2.0000000233721948e-07\n"
     ]
    }
   ],
   "source": [
    "print(f\"status: {model.status}, {LpStatus[model.status]}\")\n",
    "\n",
    "print(f\"objective: {model.objective.value()}\")\n",
    "\n",
    "for var in model.variables():\n",
    "    print(f\"{var.name}: {var.value()}\")\n",
    "\n",
    "for name, constraint in model.constraints.items():\n",
    "    print(f\"{name}: {constraint.value()}\")"
   ]
  },
  {
   "cell_type": "markdown",
   "metadata": {},
   "source": [
    "model.objective holds the value of the objective function, model.constraints contains the values of the slack variables, and the objects x and y have the optimal values of the decision variables. model.variables() returns a list with the decision variables:"
   ]
  },
  {
   "cell_type": "code",
   "execution_count": 20,
   "metadata": {},
   "outputs": [
    {
     "name": "stdout",
     "output_type": "stream",
     "text": [
      "[x, y]\n",
      "True\n",
      "True\n"
     ]
    }
   ],
   "source": [
    "print(model.variables())\n",
    "print(model.variables()[0] is x)\n",
    "print(model.variables()[1] is y)"
   ]
  },
  {
   "cell_type": "markdown",
   "metadata": {},
   "source": [
    "As you can see, this list contains the exact objects that are created with the constructor of LpVariable.\n",
    "\n",
    "The results are approximately the same as the ones you got with SciPy.\n",
    "\n",
    "> Note: Be careful with the method .solve()—it changes the state of the objects x and y!\n",
    "\n",
    "You can see which solver was used by calling .solver:"
   ]
  },
  {
   "cell_type": "code",
   "execution_count": 21,
   "metadata": {},
   "outputs": [
    {
     "data": {
      "text/plain": [
       "<pulp.apis.coin_api.PULP_CBC_CMD at 0x2c00ff36390>"
      ]
     },
     "execution_count": 21,
     "metadata": {},
     "output_type": "execute_result"
    }
   ],
   "source": [
    "model.solver"
   ]
  },
  {
   "cell_type": "markdown",
   "metadata": {},
   "source": [
    "The output informs you that the solver is CBC. You didn’t specify a solver, so PuLP called the default one.\n",
    "\n",
    "If you want to run a different solver, then you can specify it as an argument of .solve(). For example, if you want to use GLPK and already have it installed, then you can use ```solver=GLPK(msg=False)``` in the last line. Keep in mind that you’ll also need to import it.   \n",
    "When you have GLPK imported, you can use it inside .solve():"
   ]
  },
  {
   "cell_type": "code",
   "execution_count": 22,
   "metadata": {},
   "outputs": [
    {
     "data": {
      "text/plain": [
       "1"
      ]
     },
     "execution_count": 22,
     "metadata": {},
     "output_type": "execute_result"
    }
   ],
   "source": [
    "from pulp import GLPK\n",
    "\n",
    "# Solve the problem\n",
    "status = model.solve(solver=GLPK(msg=False))\n",
    "status"
   ]
  },
  {
   "cell_type": "markdown",
   "metadata": {},
   "source": [
    "The msg parameter is used to display information from the solver. msg=False disables showing this information. If you want to include the information, then just omit msg or set msg=True.\n",
    "\n",
    "Your model is defined and solved, so you can inspect the results the same way you did in the previous case:"
   ]
  },
  {
   "cell_type": "code",
   "execution_count": 23,
   "metadata": {},
   "outputs": [
    {
     "name": "stdout",
     "output_type": "stream",
     "text": [
      "status: 1, Optimal\n",
      "objective: 16.81817\n",
      "x: 7.72727\n",
      "y: 4.54545\n",
      "red_constraint: -1.0000000000509601e-05\n",
      "blue_constraint: 18.181830000000005\n",
      "yellow_constraint: 3.3636299999999997\n",
      "green_constraint: -2.000000000279556e-05\n"
     ]
    }
   ],
   "source": [
    "print(f\"status: {model.status}, {LpStatus[model.status]}\")\n",
    "\n",
    "print(f\"objective: {model.objective.value()}\")\n",
    "\n",
    "for var in model.variables():\n",
    "    print(f\"{var.name}: {var.value()}\")\n",
    "\n",
    "for name, constraint in model.constraints.items():\n",
    "    print(f\"{name}: {constraint.value()}\")"
   ]
  },
  {
   "cell_type": "markdown",
   "metadata": {},
   "source": [
    "We got practically the same result with GLPK as you did with SciPy and CBC.\n",
    "\n",
    "Let’s peek and see which solver was used this time:"
   ]
  },
  {
   "cell_type": "code",
   "execution_count": 24,
   "metadata": {},
   "outputs": [
    {
     "data": {
      "text/plain": [
       "<pulp.apis.glpk_api.GLPK_CMD at 0x2c01057c850>"
      ]
     },
     "execution_count": 24,
     "metadata": {},
     "output_type": "execute_result"
    }
   ],
   "source": [
    "model.solver"
   ]
  },
  {
   "cell_type": "markdown",
   "metadata": {},
   "source": [
    "As you defined above with the highlighted statement model.solve(solver=GLPK(msg=False)), the solver is GLPK.\n",
    "\n",
    "You can also use PuLP to solve mixed-integer linear programming problems. To define an integer or binary variable, just pass cat=\"Integer\" or cat=\"Binary\" to LpVariable. Everything else remains the same:"
   ]
  },
  {
   "cell_type": "code",
   "execution_count": 25,
   "metadata": {},
   "outputs": [],
   "source": [
    "# Create the model\n",
    "model = LpProblem(name=\"small-problem\", sense=LpMaximize)\n",
    "\n",
    "# Initialize the decision variables: x is integer, y is continuous\n",
    "x = LpVariable(name=\"x\", lowBound=0, cat=\"Integer\") # NEW CHANGE\n",
    "y = LpVariable(name=\"y\", lowBound=0)\n",
    "\n",
    "# Add the constraints to the model\n",
    "model += (2 * x + y <= 20, \"red_constraint\")\n",
    "model += (4 * x - 5 * y >= -10, \"blue_constraint\")\n",
    "model += (-x + 2 * y >= -2, \"yellow_constraint\")\n",
    "model += (-x + 5 * y == 15, \"green_constraint\")\n",
    "\n",
    "# Add the objective function to the model\n",
    "model += lpSum([x, 2 * y])\n",
    "\n",
    "# Solve the problem\n",
    "status = model.solve()"
   ]
  },
  {
   "cell_type": "markdown",
   "metadata": {},
   "source": [
    "In this example, you have one integer variable and get different results from before:"
   ]
  },
  {
   "cell_type": "code",
   "execution_count": 26,
   "metadata": {},
   "outputs": [
    {
     "name": "stdout",
     "output_type": "stream",
     "text": [
      "status: 1, Optimal\n",
      "objective: 15.8\n",
      "x: 7.0\n",
      "y: 4.4\n",
      "red_constraint: -1.5999999999999996\n",
      "blue_constraint: 16.0\n",
      "yellow_constraint: 3.8000000000000007\n",
      "green_constraint: 0.0\n"
     ]
    },
    {
     "data": {
      "text/plain": [
       "<pulp.apis.coin_api.PULP_CBC_CMD at 0x2c00ff36390>"
      ]
     },
     "execution_count": 26,
     "metadata": {},
     "output_type": "execute_result"
    }
   ],
   "source": [
    "print(f\"status: {model.status}, {LpStatus[model.status]}\")\n",
    "\n",
    "print(f\"objective: {model.objective.value()}\")\n",
    "\n",
    "for var in model.variables():\n",
    "    print(f\"{var.name}: {var.value()}\")\n",
    "\n",
    "\n",
    "for name, constraint in model.constraints.items():\n",
    "    print(f\"{name}: {constraint.value()}\")\n",
    "\n",
    "model.solver"
   ]
  },
  {
   "cell_type": "markdown",
   "metadata": {},
   "source": [
    "Now x is an integer, as specified in the model. (Technically it holds a float value with zero after the decimal point.) This fact changes the whole solution.   \n",
    "Let’s show this on the graph:    \n",
    "As you can see, the optimal solution is the rightmost green point on the gray background. This is the feasible solution with the largest values of both x and y, giving it the maximal objective function value.\n",
    "\n",
    "GLPK is capable of solving such problems as well.\n"
   ]
  },
  {
   "cell_type": "markdown",
   "metadata": {},
   "source": [
    "### 4.2 Solving the resource allocation problem\n",
    "The approach for defining and solving the problem is the same as in the previous example:\n",
    "\n",
    "**Objective: Maximize Profit**\n",
    "- $20x_1 + 12x_2 + 40x_3 + 25x_4$\n",
    "\n",
    "**Subject to:**\n",
    "- $x_1 + x_2 + x_3 + x_4 \\leq 50 (manpower)  $\n",
    "- $3x_1 + 2x_2 + x_3 \\leq 100 (material A)$\n",
    "- $x_2 + 2x_3 + 3x_4 \\leq 90 (material B)$\n",
    "- $x_1, x_2, x_3, x_4 \\geq 0$\n",
    "\n",
    "In this case, you use the dictionary x to store all decision variables. This approach is convenient because dictionaries can store the names or indices of decision variables as keys and the corresponding LpVariable objects as values. Lists or tuples of LpVariable instances can be useful as well.\n",
    "\n",
    "The code above produces the following result:"
   ]
  },
  {
   "cell_type": "code",
   "execution_count": 29,
   "metadata": {},
   "outputs": [
    {
     "name": "stdout",
     "output_type": "stream",
     "text": [
      "status: 1, Optimal\n",
      "objective: 1900.0\n",
      "x1: 5.0\n",
      "x2: 0.0\n",
      "x3: 45.0\n",
      "x4: 0.0\n",
      "manpower: 0.0\n",
      "material_a: -40.0\n",
      "material_b: 0.0\n"
     ]
    }
   ],
   "source": [
    "# Define the model\n",
    "model = LpProblem(name=\"resource-allocation\", sense=LpMaximize)\n",
    "\n",
    "# Define the decision variables\n",
    "x = {i: LpVariable(name=f\"x{i}\", lowBound=0) for i in range(1, 5)}\n",
    "\n",
    "# Add constraints\n",
    "model += (lpSum(x.values()) <= 50, \"manpower\")\n",
    "model += (3 * x[1] + 2 * x[2] + x[3] <= 100, \"material_a\")\n",
    "model += (x[2] + 2 * x[3] + 3 * x[4] <= 90, \"material_b\")\n",
    "\n",
    "# Set the objective\n",
    "model += 20 * x[1] + 12 * x[2] + 40 * x[3] + 25 * x[4]\n",
    "\n",
    "# Solve the optimization problem\n",
    "status = model.solve()\n",
    "\n",
    "# Get the results\n",
    "print(f\"status: {model.status}, {LpStatus[model.status]}\")\n",
    "print(f\"objective: {model.objective.value()}\")\n",
    "\n",
    "for var in x.values():\n",
    "    print(f\"{var.name}: {var.value()}\")\n",
    "\n",
    "for name, constraint in model.constraints.items():\n",
    "    print(f\"{name}: {constraint.value()}\")"
   ]
  },
  {
   "cell_type": "markdown",
   "metadata": {},
   "source": [
    "As you can see, the solution is consistent with the one obtained using SciPy. The most profitable solution is to produce 5.0 units of the first product and 45.0 units of the third product per day.\n",
    "\n",
    "Let’s make this problem more complicated and interesting. Say the factory can’t produce the first and third products in parallel due to a machinery issue. What’s the most profitable solution in this case?\n",
    "\n",
    "Now you have another logical constraint: if x₁ is positive, then x₃ must be zero and vice versa. This is where binary decision variables are very useful. You’ll use two binary decision variables, y₁ and y₃, that’ll denote if the first or third products are generated at all:"
   ]
  },
  {
   "cell_type": "code",
   "execution_count": 30,
   "metadata": {},
   "outputs": [
    {
     "name": "stdout",
     "output_type": "stream",
     "text": [
      "status: 1, Optimal\n",
      "objective: 1800.0\n",
      "x1: 0.0\n",
      "x2: 0.0\n",
      "x3: 45.0\n",
      "x4: 0.0\n",
      "y1: 0.0\n",
      "y3: 1.0\n",
      "manpower: -5.0\n",
      "material_a: -55.0\n",
      "material_b: 0.0\n",
      "x1_constraint: 0.0\n",
      "x3_constraint: -55.0\n",
      "y_constraint: 0.0\n"
     ]
    }
   ],
   "source": [
    "model = LpProblem(name=\"resource-allocation\", sense=LpMaximize)\n",
    "\n",
    "# Define the decision variables\n",
    "x = {i: LpVariable(name=f\"x{i}\", lowBound=0) for i in range(1, 5)}\n",
    "y = {i: LpVariable(name=f\"y{i}\", cat=\"Binary\") for i in (1, 3)}    # NEW CHANGE\n",
    "\n",
    "# Add constraints\n",
    "model += (lpSum(x.values()) <= 50, \"manpower\")\n",
    "model += (3 * x[1] + 2 * x[2] + x[3] <= 100, \"material_a\")\n",
    "model += (x[2] + 2 * x[3] + 3 * x[4] <= 90, \"material_b\")\n",
    "\n",
    "M = 100                                      # NEW CHANGE\n",
    "model += (x[1] <= y[1] * M, \"x1_constraint\") # NEW CHANGE\n",
    "model += (x[3] <= y[3] * M, \"x3_constraint\") # NEW CHANGE\n",
    "model += (y[1] + y[3] <= 1, \"y_constraint\")  # NEW CHANGE\n",
    "\n",
    "# Set objective\n",
    "model += 20 * x[1] + 12 * x[2] + 40 * x[3] + 25 * x[4]\n",
    "\n",
    "# Solve the optimization problem\n",
    "status = model.solve()\n",
    "\n",
    "print(f\"status: {model.status}, {LpStatus[model.status]}\")\n",
    "print(f\"objective: {model.objective.value()}\")\n",
    "\n",
    "for var in model.variables():\n",
    "    print(f\"{var.name}: {var.value()}\")\n",
    "\n",
    "for name, constraint in model.constraints.items():\n",
    "    print(f\"{name}: {constraint.value()}\")"
   ]
  },
  {
   "cell_type": "markdown",
   "metadata": {},
   "source": [
    "The code was very similar to the previous example except for the highlighted lines. Here are the differences:\n",
    "\n",
    "- Line 5 defines the binary decision variables y[1] and y[3] held in the dictionary y.\n",
    "- Line 12 defines an arbitrarily large number M. The value 100 is large enough in this case because you can’t have more than 100 units per day.\n",
    "- Line 13 says that if y[1] is zero, then x[1] must be zero, else it can be any non-negative number.\n",
    "- Line 14 says that if y[3] is zero, then x[3] must be zero, else it can be any non-negative number.\n",
    "- Line 15 says that either y[1] or y[3] is zero (or both are), so either x[1] or x[3] must be zero as well.\n",
    "\n",
    "Final result:   \n",
    "It turns out that the optimal approach is to exclude the first product and to produce only the third one."
   ]
  },
  {
   "cell_type": "markdown",
   "metadata": {},
   "source": [
    "## 5. Summary\n",
    "\n",
    "#### To summarize, we have learned how to:\n",
    "\n",
    "- Define a model that represents your problem\n",
    "- Create a Python program for optimization\n",
    "- Run the optimization program to find the solution to the problem\n",
    "- Retrieve the result of optimization\n",
    "\n",
    "We used SciPy with its own solver as well as PuLP with CBC and GLPK, but also learned that there are many other linear programming solvers and Python wrappers."
   ]
  }
 ],
 "metadata": {
  "kernelspec": {
   "display_name": "LP_env",
   "language": "python",
   "name": "lp_env"
  },
  "language_info": {
   "codemirror_mode": {
    "name": "ipython",
    "version": 3
   },
   "file_extension": ".py",
   "mimetype": "text/x-python",
   "name": "python",
   "nbconvert_exporter": "python",
   "pygments_lexer": "ipython3",
   "version": "3.11.5"
  }
 },
 "nbformat": 4,
 "nbformat_minor": 2
}
