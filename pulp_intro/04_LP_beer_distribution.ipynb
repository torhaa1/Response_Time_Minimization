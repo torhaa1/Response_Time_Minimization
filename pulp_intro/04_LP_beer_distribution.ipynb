{
 "cells": [
  {
   "cell_type": "markdown",
   "metadata": {},
   "source": [
    "# Linear programming - A Transportation Problem\n",
    "## The Beer Distribution Problem.\n",
    "Follows the [Transportation Problem](https://coin-or.github.io/pulp/CaseStudies/a_transportation_problem.html) example from the Pulp documentation."
   ]
  },
  {
   "cell_type": "markdown",
   "metadata": {},
   "source": [
    "### Problem Description\n",
    "A brewery has 2 warehouses from which it distributes beer to 5 bars. At the start of every week, each bar sends an order to the brewery for X crates of beer, which is then dispatched from the appropriate warehouse to the bar.    \n",
    "The brewery would like to have an interactive computer program which they can run week by week to tell them which warehouse should supply which bar so as to minimize the costs of the whole operation.    \n",
    "For example, suppose that at the start of a given week the brewery has 1000 cases at warehouse A, and 4000 cases at warehouse B, and that the bars require 500, 900, 1800, 200, and 700 cases respectively. Which warehouse should supply which bar?\n",
    "\n",
    "For transportation problems, using a graphical representation of the problem is often helpful during formulation.   \n",
    "Below is a graphical representation of The Beer Distribution Problem.\n",
    "\n",
    "<img src=\"https://coin-or.github.io/pulp/_images/brewery_nodes.jpg\" height=\"300\"/>   \n",
    "<img src=\"https://coin-or.github.io/pulp/_images/brewery_arcs.jpg\" height=\"300\"/>   "
   ]
  },
  {
   "cell_type": "markdown",
   "metadata": {},
   "source": [
    "### Identify the Decision Variables\n",
    "In transportation problems we are deciding how to transport goods from their supply nodes to their demand nodes. The decision variables are the Arcs connecting these nodes, as shown in the diagram below. We are deciding how many crates of beer to transport from each warehouse to each pub.\n",
    "\n",
    "- A1 = number of crates of beer to ship from Warehouse A to Bar 1\n",
    "- A5 = number of crates of beer to ship from Warehouse A to Bar 5\n",
    "- B1 = number of crates of beer to ship from Warehouse B to Bar 1\n",
    "- B5 = number of crates of beer to ship from Warehouse B to Bar 5\n",
    "\n",
    "Let:\n",
    "\n",
    "$$W = \\{A,B\\} \\\\   \n",
    "B = \\{1, 2, 3, 4, 5 \\} \\\\   \n",
    "x_{(w,b)} \\ge 0 \\ldots \\forall w \\in W, b \\in B \\\\   \n",
    "x_{(w,b)}  \\in \\mathbb{Z}^+ \\ldots \\forall w \\in W, b \\in B$$\n",
    "\n",
    "- W: Warehouses\n",
    "- B: Bars\n",
    "- $x_{(w,b)} \\ge 0$: Number of shipped crates from Warehouse w to Bar b must be greater than or equal to zero for all warehouse and bar combinations. (cannot ship a negative number of crates)\n",
    "- $x_{(w,b)}  \\in \\mathbb{Z}^+$ : Number of shipped crates must belong to the set of positive integers \\( \\mathbb{Z}^+ \\) (must ship whole crates, not fraction of a crate)\n",
    "\n",
    "The lower bound on the variables is Zero, and the values must all be Integers (since the number of crates cannot be negative or fractional). There is no upper bound."
   ]
  },
  {
   "cell_type": "markdown",
   "metadata": {},
   "source": [
    "### Formulate the Objective Function\n",
    "The objective function has been loosely defined as cost. The problem can only be formulated as a linear program if the cost of transportation from warehouse to pub is a linear function of the amounts of crates transported. Note that this is sometimes not the case. This may be due to factors such as economies of scale or fixed costs. For example, transporting 10 crates may not cost 10 times as much as transporting one crate, since it may be the case that one truck can accommodate 10 crates as easily as one. Usually in this situation there are fixed costs in operating a truck which implies that the costs go up in jumps (when an extra truck is required). In these situations, it is possible to model such a cost by using zero-one integer variables: we will look at this later in the course.\n",
    "\n",
    "We shall assume then that there is a fixed transportation cost per crate. (If the capacity of a truck is small compared with the number of crates that must be delivered then this is a valid assumption). Lets assume we talk with the financial manager, and she gives us the following transportation costs (dollars per crate):\n",
    "\n",
    "| From Warehouse to Bar  | A | B   |\n",
    "|-------|-----|---|\n",
    "| 1     | 2   | 3 | \n",
    "| 2     | 4   | 1 | \n",
    "| 3     | 5   | 3 | \n",
    "| 4     | 2   | 2 | \n",
    "| 5     | 1   | 3 | \n",
    "\n",
    "#### Objective function\n",
    " \n",
    "**Minimize cost $(z)$**   \n",
    "$$z = x_{A,1} * cost_{A,1} + x_{A,2} * cost_{A,2} + x_{A,3} * cost_{A,3} + x_{A,4} * cost_{A,4} + x_{A,5} * cost_{A,5} \\\\   \n",
    "+ x_{B,1} * cost_{B,1} + x_{B,2} * cost_{B,2} + x_{B,3} * cost_{B,3} + x_{B,4} * cost_{B,4} + x_{B,5} * cost_{B,5}$$   \n",
    "$$z = \\sum_{w=1}^{W} \\sum_{b=1}^{B} x_{w,b} * cost_{w,b}$$   \n",
    "\n",
    "Minimal transportation cost (z) is the sum of nr. of crates (x) multiplied with the corresponding expense (cost) for each route combination (w,b)."
   ]
  },
  {
   "cell_type": "markdown",
   "metadata": {},
   "source": [
    "### Constraints\n",
    "The constraints come from considerations of supply and demand. The supply of beer at warehouse A is 1000 cases. The total amount of beer shipped from warehouse A cannot exceed this amount. Similarly, the amount of beer shipped from warehouse B cannot exceed the supply of beer at warehouse B. The sum of the values on all the arcs leading out of a warehouse, must be less than or equal to the supply value at that warehouse:\n",
    "\n",
    "**Supply constraints from warehouses**\n",
    "- $ A1 + A2 + A3 + A4 + A5 \\leq 1000  <==>   \\sum_{b=1}^{B} x_{A,b}  \\leq 1000$ $\n",
    "- $ B1 + B2 + B3 + B4 + B5 \\leq 4000  <==>   \\sum_{b=1}^{B} x_{B,b}  \\leq 4000$ $\n",
    "\n",
    "The demand for beer at bar 1 is 500 cases, so the amount of beer delivered there must be at least 500 to avoid lost sales. Similarly, considering the amounts delivered to the other bars must be at least equal to the demand at those bars. Note, we are **assuming no penalties for oversupplying bars** (other than the extra transportation cost we incur). We can *balance* the transportation problem to make sure that demand is met exactly - there will be more on this later. For now, the sum of the values on all the arcs leading into a bar, must be greater than or equal to the demand value at that bar:\n",
    "\n",
    "**Demand constraints from bars**\n",
    "- $(A1 + B1) >= 500$\n",
    "- $(A2 + B2) >= 900$\n",
    "- $(A3 + B3) >= 1800$\n",
    "- $(A4 + B4) >= 200$\n",
    "- $(A5 + B5) >= 700$"
   ]
  },
  {
   "cell_type": "markdown",
   "metadata": {},
   "source": [
    "## 2. Solving linear problem with PuLP"
   ]
  },
  {
   "cell_type": "code",
   "execution_count": 1,
   "metadata": {},
   "outputs": [],
   "source": [
    "# Import PuLP modeler functions\n",
    "from pulp import *"
   ]
  },
  {
   "cell_type": "code",
   "execution_count": 2,
   "metadata": {},
   "outputs": [
    {
     "data": {
      "text/plain": [
       "BeerDistribution:\n",
       "MINIMIZE\n",
       "None\n",
       "VARIABLES"
      ]
     },
     "execution_count": 2,
     "metadata": {},
     "output_type": "execute_result"
    }
   ],
   "source": [
    "# Initialize the model\n",
    "model = LpProblem(\"BeerDistribution\", LpMinimize) # want to minimize cost\n",
    "model"
   ]
  },
  {
   "cell_type": "code",
   "execution_count": 3,
   "metadata": {},
   "outputs": [
    {
     "data": {
      "text/plain": [
       "[[2, 4, 5, 2, 1], [3, 1, 3, 2, 3]]"
      ]
     },
     "execution_count": 3,
     "metadata": {},
     "output_type": "execute_result"
    }
   ],
   "source": [
    "# Store variables in lists or dictionaries\n",
    "# Supply nodes\n",
    "Warehouses = [\"A\", \"B\"]\n",
    "supply = {\"A\": 1000, \"B\": 4000}\n",
    "\n",
    "# Demand nodes\n",
    "Bars = [\"1\", \"2\", \"3\", \"4\", \"5\"]\n",
    "demand = {\n",
    "    \"1\": 500,\n",
    "    \"2\": 900,\n",
    "    \"3\": 1800,\n",
    "    \"4\": 200,\n",
    "    \"5\": 700,\n",
    "}\n",
    "# Creates a list of costs of each transportation path\n",
    "costs = [  # Bars\n",
    "    # 1 2 3 4 5\n",
    "    [2, 4, 5, 2, 1],  # A   Warehouse\n",
    "    [3, 1, 3, 2, 3],  # B   Warehouse\n",
    "]\n",
    "costs"
   ]
  },
  {
   "cell_type": "code",
   "execution_count": 4,
   "metadata": {},
   "outputs": [
    {
     "data": {
      "text/plain": [
       "defaultdict(<function pulp.utilities.__makeDict.<locals>.<lambda>()>,\n",
       "            {'A': defaultdict(<function pulp.utilities.__makeDict.<locals>.<lambda>()>,\n",
       "                         {'1': 2, '2': 4, '3': 5, '4': 2, '5': 1}),\n",
       "             'B': defaultdict(<function pulp.utilities.__makeDict.<locals>.<lambda>()>,\n",
       "                         {'1': 3, '2': 1, '3': 3, '4': 2, '5': 3})})"
      ]
     },
     "execution_count": 4,
     "metadata": {},
     "output_type": "execute_result"
    }
   ],
   "source": [
    "# The cost data is made into a dictionary\n",
    "costs = makeDict([Warehouses, Bars], costs, 0)\n",
    "costs"
   ]
  },
  {
   "cell_type": "code",
   "execution_count": 5,
   "metadata": {},
   "outputs": [
    {
     "name": "stdout",
     "output_type": "stream",
     "text": [
      "<class 'collections.defaultdict'>\n",
      "5\n"
     ]
    }
   ],
   "source": [
    "# quick inspection \n",
    "print(type(costs))\n",
    "print(costs['A']['3'])  # This should output 5"
   ]
  },
  {
   "cell_type": "code",
   "execution_count": 6,
   "metadata": {},
   "outputs": [
    {
     "data": {
      "text/plain": [
       "[('A', '1'),\n",
       " ('A', '2'),\n",
       " ('A', '3'),\n",
       " ('A', '4'),\n",
       " ('A', '5'),\n",
       " ('B', '1'),\n",
       " ('B', '2'),\n",
       " ('B', '3'),\n",
       " ('B', '4'),\n",
       " ('B', '5')]"
      ]
     },
     "execution_count": 6,
     "metadata": {},
     "output_type": "execute_result"
    }
   ],
   "source": [
    "# Create list of possible routes\n",
    "Routes = [(w, b) for w in Warehouses for b in Bars]\n",
    "Routes"
   ]
  },
  {
   "cell_type": "code",
   "execution_count": 7,
   "metadata": {},
   "outputs": [
    {
     "name": "stdout",
     "output_type": "stream",
     "text": [
      "<class 'dict'>\n"
     ]
    },
    {
     "data": {
      "text/plain": [
       "{'A': {'1': Route_A_1,\n",
       "  '2': Route_A_2,\n",
       "  '3': Route_A_3,\n",
       "  '4': Route_A_4,\n",
       "  '5': Route_A_5},\n",
       " 'B': {'1': Route_B_1,\n",
       "  '2': Route_B_2,\n",
       "  '3': Route_B_3,\n",
       "  '4': Route_B_4,\n",
       "  '5': Route_B_5}}"
      ]
     },
     "execution_count": 7,
     "metadata": {},
     "output_type": "execute_result"
    }
   ],
   "source": [
    "# Initialize decision variables\n",
    "vars = LpVariable.dicts(\"Route\", (Warehouses, Bars), lowBound=0, upBound=None, cat=\"Integer\")\n",
    "print(type(vars))\n",
    "vars"
   ]
  },
  {
   "cell_type": "markdown",
   "metadata": {},
   "source": [
    "The objective function is added to the variable model using a list comprehension. Since vars and costs are now dictionaries (with further internal dictionaries), they can be used as if they were tables, as for (w,b) in Routes will cycle through all the combinations/arcs. Note that i and j could have been used, but w and b are more meaningful."
   ]
  },
  {
   "cell_type": "code",
   "execution_count": 8,
   "metadata": {},
   "outputs": [
    {
     "data": {
      "text/plain": [
       "BeerDistribution:\n",
       "MINIMIZE\n",
       "2*Route_A_1 + 4*Route_A_2 + 5*Route_A_3 + 2*Route_A_4 + 1*Route_A_5 + 3*Route_B_1 + 1*Route_B_2 + 3*Route_B_3 + 2*Route_B_4 + 3*Route_B_5 + 0\n",
       "VARIABLES\n",
       "0 <= Route_A_1 Integer\n",
       "0 <= Route_A_2 Integer\n",
       "0 <= Route_A_3 Integer\n",
       "0 <= Route_A_4 Integer\n",
       "0 <= Route_A_5 Integer\n",
       "0 <= Route_B_1 Integer\n",
       "0 <= Route_B_2 Integer\n",
       "0 <= Route_B_3 Integer\n",
       "0 <= Route_B_4 Integer\n",
       "0 <= Route_B_5 Integer"
      ]
     },
     "execution_count": 8,
     "metadata": {},
     "output_type": "execute_result"
    }
   ],
   "source": [
    "# The objective function\n",
    "model += (lpSum([vars[w][b] * costs[w][b] for (w, b) in Routes]), \"Sum_of_Transporting_Costs\")\n",
    "model"
   ]
  },
  {
   "cell_type": "markdown",
   "metadata": {},
   "source": [
    "The supply and demand constraints are added using a normal for loop and a list comprehension. Supply Constraints: For each warehouse in turn, the values of the decision variables (number of beer cases on arc) to each of the bars is summed, and then constrained to being less than or equal to the supply max for that warehouse. Demand Constraints: For each bar in turn, the values of the decision variables (number on arc) from each of the warehouses is summed, and then constrained to being greater than or equal to the demand minimum."
   ]
  },
  {
   "cell_type": "markdown",
   "metadata": {},
   "source": [
    "##### Reminder of the constraints:   \n",
    "**Supply constraints from warehouses**\n",
    "- $ A1 + A2 + A3 + A4 + A5 \\leq 1000  <==>   \\sum_{b=1}^{B} x_{A,b}  \\leq 1000$ $\n",
    "- $ B1 + B2 + B3 + B4 + B5 \\leq 4000  <==>   \\sum_{b=1}^{B} x_{B,b}  \\leq 4000$ $\n",
    "\n",
    "**Demand constraints from bars**\n",
    "- $(A1 + B1) >= 500$\n",
    "- $(A2 + B2) >= 900$\n",
    "- $(A3 + B3) >= 1800$\n",
    "- $(A4 + B4) >= 200$\n",
    "- $(A5 + B5) >= 700$"
   ]
  },
  {
   "cell_type": "code",
   "execution_count": 9,
   "metadata": {},
   "outputs": [
    {
     "data": {
      "text/plain": [
       "BeerDistribution:\n",
       "MINIMIZE\n",
       "2*Route_A_1 + 4*Route_A_2 + 5*Route_A_3 + 2*Route_A_4 + 1*Route_A_5 + 3*Route_B_1 + 1*Route_B_2 + 3*Route_B_3 + 2*Route_B_4 + 3*Route_B_5 + 0\n",
       "SUBJECT TO\n",
       "Warehose_A_Supply_Maximum: Route_A_1 + Route_A_2 + Route_A_3 + Route_A_4\n",
       " + Route_A_5 <= 1000\n",
       "\n",
       "Warehose_B_Supply_Maximum: Route_B_1 + Route_B_2 + Route_B_3 + Route_B_4\n",
       " + Route_B_5 <= 4000\n",
       "\n",
       "Bar_1_Demand_Minimum: Route_A_1 + Route_B_1 >= 500\n",
       "\n",
       "Bar_2_Demand_Minimum: Route_A_2 + Route_B_2 >= 900\n",
       "\n",
       "Bar_3_Demand_Minimum: Route_A_3 + Route_B_3 >= 1800\n",
       "\n",
       "Bar_4_Demand_Minimum: Route_A_4 + Route_B_4 >= 200\n",
       "\n",
       "Bar_5_Demand_Minimum: Route_A_5 + Route_B_5 >= 700\n",
       "\n",
       "VARIABLES\n",
       "0 <= Route_A_1 Integer\n",
       "0 <= Route_A_2 Integer\n",
       "0 <= Route_A_3 Integer\n",
       "0 <= Route_A_4 Integer\n",
       "0 <= Route_A_5 Integer\n",
       "0 <= Route_B_1 Integer\n",
       "0 <= Route_B_2 Integer\n",
       "0 <= Route_B_3 Integer\n",
       "0 <= Route_B_4 Integer\n",
       "0 <= Route_B_5 Integer"
      ]
     },
     "execution_count": 9,
     "metadata": {},
     "output_type": "execute_result"
    }
   ],
   "source": [
    "# Alternative 1: Writing out each constraint separately\n",
    "# Supply maximum constraints\n",
    "#        vars[w][b]\n",
    "model += (vars[\"A\"][\"1\"] + vars[\"A\"][\"2\"] + vars[\"A\"][\"3\"] + vars[\"A\"][\"4\"] + vars[\"A\"][\"5\"] <= supply[\"A\"], \n",
    "          \"Warehose_A_Supply_Maximum\")\n",
    "model += (vars[\"B\"][\"1\"] + vars[\"B\"][\"2\"] + vars[\"B\"][\"3\"] + vars[\"B\"][\"4\"] + vars[\"B\"][\"5\"] <= supply[\"B\"], \n",
    "          \"Warehose_B_Supply_Maximum\")\n",
    "\n",
    "# Demand minimum constraints\n",
    "model += (vars[\"A\"][\"1\"] + vars[\"B\"][\"1\"] >= demand[\"1\"], \"Bar_1_Demand_Minimum\")\n",
    "model += (vars[\"A\"][\"2\"] + vars[\"B\"][\"2\"] >= demand[\"2\"], \"Bar_2_Demand_Minimum\")\n",
    "model += (vars[\"A\"][\"3\"] + vars[\"B\"][\"3\"] >= demand[\"3\"], \"Bar_3_Demand_Minimum\")\n",
    "model += (vars[\"A\"][\"4\"] + vars[\"B\"][\"4\"] >= demand[\"4\"], \"Bar_4_Demand_Minimum\")\n",
    "model += (vars[\"A\"][\"5\"] + vars[\"B\"][\"5\"] >= demand[\"5\"], \"Bar_5_Demand_Minimum\")\n",
    "\n",
    "\n",
    "# # Alternative 2: Writing constraints using for loop and list comprehension\n",
    "# # Supply maximum constraints\n",
    "# for w in Warehouses:\n",
    "#     model += (\n",
    "#         lpSum([vars[w][b] for b in Bars]) <= supply[w],\n",
    "#         f\"Sum_of_Products_out_of_Warehouse_{w}\",\n",
    "#     )\n",
    "\n",
    "# # Demand minimum constraints\n",
    "# for b in Bars:\n",
    "#     model += (\n",
    "#         lpSum([vars[w][b] for w in Warehouses]) >= demand[b],\n",
    "#         f\"Sum_of_Products_into_Bar{b}\",\n",
    "#     )\n",
    "model"
   ]
  },
  {
   "cell_type": "code",
   "execution_count": 10,
   "metadata": {},
   "outputs": [
    {
     "data": {
      "text/plain": [
       "[Route_A_1,\n",
       " Route_A_2,\n",
       " Route_A_3,\n",
       " Route_A_4,\n",
       " Route_A_5,\n",
       " Route_B_1,\n",
       " Route_B_2,\n",
       " Route_B_3,\n",
       " Route_B_4,\n",
       " Route_B_5]"
      ]
     },
     "execution_count": 10,
     "metadata": {},
     "output_type": "execute_result"
    }
   ],
   "source": [
    "# The problem data is written to an .lp file\n",
    "model.writeLP(\"BeerDistribution.lp\")"
   ]
  },
  {
   "cell_type": "code",
   "execution_count": 11,
   "metadata": {},
   "outputs": [
    {
     "name": "stdout",
     "output_type": "stream",
     "text": [
      "status: 1, Optimal\n",
      "objective: 8600.0 $ in total transportation costs\n",
      "Route_A_1: 300.0 crates\n",
      "Route_A_2: 0.0 crates\n",
      "Route_A_3: 0.0 crates\n",
      "Route_A_4: 0.0 crates\n",
      "Route_A_5: 700.0 crates\n",
      "Route_B_1: 200.0 crates\n",
      "Route_B_2: 900.0 crates\n",
      "Route_B_3: 1800.0 crates\n",
      "Route_B_4: 200.0 crates\n",
      "Route_B_5: 0.0 crates\n",
      "Warehose_A_Supply_Maximum: 0.0 crates\n",
      "Warehose_B_Supply_Maximum: -900.0 crates\n",
      "Bar_1_Demand_Minimum: 0.0 crates\n",
      "Bar_2_Demand_Minimum: 0.0 crates\n",
      "Bar_3_Demand_Minimum: 0.0 crates\n",
      "Bar_4_Demand_Minimum: 0.0 crates\n",
      "Bar_5_Demand_Minimum: 0.0 crates\n"
     ]
    }
   ],
   "source": [
    "# Solve the optimization problem\n",
    "status = model.solve()\n",
    "status\n",
    "\n",
    "print(f\"status: {model.status}, {LpStatus[model.status]}\")\n",
    "print(f\"objective: {model.objective.value()} $ in total transportation costs\")\n",
    "for var in model.variables():\n",
    "    print(f\"{var.name}: {var.value()} crates\")\n",
    "for name, constraint in model.constraints.items():\n",
    "    print(f\"{name}: {constraint.value()} crates\")"
   ]
  },
  {
   "cell_type": "markdown",
   "metadata": {},
   "source": [
    "Total avaiable supply: 1000 + 4000 = 5000 crates   \n",
    "Total minimum demand: 500 + 900 + 1800 + 200 + 700 = 4100 crates\n",
    "\n",
    "Warehouse A supply 1000/1000 crates   \n",
    "Warehouse B suppliess 3100/4000 crates\n",
    "\n",
    "- ```Warehose_A_Supply_Maximum: 0.0 crates``` => Warehouse A exactly met its requirement by supplying 1000/1000 available crates.\n",
    "- ```Warehose_B_Supply_Maximum: -900.0 crates``` => Warehouse B met its requirement without exceeding its max supply limit.  \n",
    "It supplied 3100/4000 available crates.   \n",
    "- ```Bar_1_Demand_Minimum: 0.0 crates```=> Bar 1 exactly met its requirement by receiving 500/500 crates.   \n",
    "- ```Bar_2_Demand_Minimum: 0.0 crates```=> Bar 2 exactly met its requirement by receiving 900/900 crates.   \n",
    "- ```Bar_3_Demand_Minimum: 0.0 crates```=> Bar 3 exactly met its requirement by receiving 1800/1800 crates.   \n",
    "- ```Bar_4_Demand_Minimum: 0.0 crates```=> Bar 4 exactly met its requirement by receiving 200/200 crates.   \n",
    "- ```Bar_5_Demand_Minimum: 0.0 crates```=> Bar 5 exactly met its requirement by receiving 700/700 crates. "
   ]
  },
  {
   "cell_type": "markdown",
   "metadata": {},
   "source": [
    "## Extensions to the Problem\n",
    "\n",
    "Above, we solved an unbalanced model: The supply was 5000 crates, while the demand was only 4100 crates. No penalty for oversupply of crates.\n",
    "\n",
    "As an extension to the problem, we can introduce 2 extensions:\n",
    "- a) Introduce a cost of storing excess crates at the warehouses, when supply is greater than demand\n",
    "- b) Introduce a cost of buying in crates from an external competitor, when demand is greater than supply\n",
    "\n",
    "### a) Introducing Storage Costs\n",
    "When supply is greater than demand, we can introduce a cost of storing the excess crates at the warehouses.  \n",
    "\n",
    "This is added into the above model very simply. Since the objective function and constraints all operated on the original supply, demand and cost lists/dictionaries, the only changes that must be made is to include another demand node that holds the excess crates.\n",
    "\n",
    "***For example, if we introduce a storage cost of 0.5 dollars per crate per week, then the objective function becomes:*** (remove???)\n",
    "\n",
    "<img src=\"https://coin-or.github.io/pulp/_images/extra_supply.jpg\" height=\"300\"/>   \n"
   ]
  },
  {
   "cell_type": "markdown",
   "metadata": {},
   "source": [
    "The Bars list is expanded and the Demand dictionary is expanded to make the Dummy Demand require 900 crates, to balance the problem. The cost list is also expanded, to show the cost of “sending to the Dummy Node” which is realistically just leaving the stock at the warehouses. This may have an associated cost which could be entered here instead of the zeros. Note that the solution could still be solved when there was an unbalanced excess supply."
   ]
  },
  {
   "cell_type": "code",
   "execution_count": 28,
   "metadata": {},
   "outputs": [
    {
     "name": "stdout",
     "output_type": "stream",
     "text": [
      "Status: Optimal\n",
      "Route_A_1 = 300.0\n",
      "Route_A_2 = 0.0\n",
      "Route_A_3 = 0.0\n",
      "Route_A_4 = 0.0\n",
      "Route_A_5 = 700.0\n",
      "Route_A_D = 0.0\n",
      "Route_B_1 = 200.0\n",
      "Route_B_2 = 900.0\n",
      "Route_B_3 = 1800.0\n",
      "Route_B_4 = 200.0\n",
      "Route_B_5 = 0.0\n",
      "Route_B_D = 900.0\n",
      "Total Cost of Transportation =  8600.0\n"
     ]
    }
   ],
   "source": [
    "# Creates a list of all the supply nodes\n",
    "Warehouses = [\"A\", \"B\"]\n",
    "\n",
    "# Creates a dictionary for the number of units of supply for each supply node\n",
    "supply = {\"A\": 1000, \"B\": 4000}\n",
    "\n",
    "# Creates a list of all demand nodes\n",
    "Bars = [\"1\", \"2\", \"3\", \"4\", \"5\", \"D\"]\n",
    "\n",
    "# Creates a dictionary for the number of units of demand for each demand node\n",
    "demand = {\"1\": 500, \"2\": 900, \"3\": 1800, \"4\": 200, \"5\": 700, \"D\": 900}\n",
    "\n",
    "# Creates a list of costs of each transportation path\n",
    "costs = [  # Bars\n",
    "    # 1 2 3 4 5 D        # Add cost of sending crates to extra demand node D\n",
    "    [2, 4, 5, 2, 1, 0],  # A   Warehouse\n",
    "    [3, 1, 3, 2, 3, 0],  # B   Warehouse\n",
    "]\n",
    "\n",
    "# The cost data is made into a dictionary\n",
    "costs = makeDict([Warehouses, Bars], costs, 0)\n",
    "\n",
    "# Creates the 'prob' variable to contain the problem data\n",
    "prob = LpProblem(\"Beer Distribution Problem\", LpMinimize)\n",
    "\n",
    "# Creates a list of tuples containing all the possible routes for transport\n",
    "Routes = [(w, b) for w in Warehouses for b in Bars]\n",
    "\n",
    "# A dictionary called 'Vars' is created to contain the referenced variables(the routes)\n",
    "vars = LpVariable.dicts(\"Route\", (Warehouses, Bars), 0, None, LpInteger)\n",
    "\n",
    "# The objective function is added to 'prob' first\n",
    "prob += (\n",
    "    lpSum([vars[w][b] * costs[w][b] for (w, b) in Routes]),\n",
    "    \"Sum_of_Transporting_Costs\",\n",
    ")\n",
    "\n",
    "# The supply maximum constraints are added to prob for each supply node (warehouse)\n",
    "for w in Warehouses:\n",
    "    prob += (\n",
    "        lpSum([vars[w][b] for b in Bars]) <= supply[w],\n",
    "        f\"Sum_of_Products_out_of_Warehouse_{w}\",\n",
    "    )\n",
    "\n",
    "# The demand minimum constraints are added to prob for each demand node (bar)\n",
    "for b in Bars:\n",
    "    prob += (\n",
    "        lpSum([vars[w][b] for w in Warehouses]) >= demand[b],\n",
    "        f\"Sum_of_Products_into_Bar{b}\",\n",
    "    )\n",
    "\n",
    "prob.solve()\n",
    "\n",
    "# The status of the solution is printed to the screen\n",
    "print(\"Status:\", LpStatus[prob.status])\n",
    "for v in prob.variables():\n",
    "    print(v.name, \"=\", v.varValue)\n",
    "print(\"Total Cost of Transportation = \", value(prob.objective))"
   ]
  },
  {
   "cell_type": "markdown",
   "metadata": {},
   "source": [
    "If we increase the Storage cost, we can see that the value of the objective function (transportation cost) increase:\n",
    "- 0 $ => The Total Cost of Transportation =  8600.0 \\$ (same as unbalanced model)\n",
    "- 0.5 $ => The Total Cost of Transportation =  9050.0 \\$\n",
    "- 1 $ => The Total Cost of Transportation =  9500.0 \\$"
   ]
  },
  {
   "cell_type": "markdown",
   "metadata": {},
   "source": [
    "### b) Introducing Buying From Competitor Costs\n",
    "\n",
    "Note that with excess demand, the problem is “Infeasible” when unbalanced. This is because the model cannot be solved without violating the demand constraints.  \n",
    "To balance the problem, we can introduce a Dummy Supply node that will provide the lacking crates to meet the demand requirements.   \n",
    "The cost of buying in crates from an external competitor can be added to the objective function.\n",
    "\n",
    "<img src=\"https://coin-or.github.io/pulp/_images/extra_demand.jpg\" height=\"300\"/>   \n",
    "\n",
    "This dummy supply node 'C' is added in simply and logically into the Warehouse list, Supply dictionary, and costs list. The Supply value is chosen to balance the problem, and cost of transport is zero to all demand nodes."
   ]
  },
  {
   "cell_type": "code",
   "execution_count": 35,
   "metadata": {},
   "outputs": [
    {
     "name": "stdout",
     "output_type": "stream",
     "text": [
      "Status: Optimal\n",
      "Route_A_1 = 300.0\n",
      "Route_A_2 = 0.0\n",
      "Route_A_3 = 0.0\n",
      "Route_A_4 = 0.0\n",
      "Route_A_5 = 700.0\n",
      "Route_B_1 = 100.0\n",
      "Route_B_2 = 900.0\n",
      "Route_B_3 = 1800.0\n",
      "Route_B_4 = 200.0\n",
      "Route_B_5 = 0.0\n",
      "Route_C_1 = 100.0\n",
      "Route_C_2 = 0.0\n",
      "Route_C_3 = 0.0\n",
      "Route_C_4 = 0.0\n",
      "Route_C_5 = 0.0\n",
      "Total Cost of Transportation =  9300.0\n"
     ]
    }
   ],
   "source": [
    "# Creates a list of all the supply nodes\n",
    "Warehouses = [\"A\", \"B\", \"C\"]\n",
    "\n",
    "# Creates a dictionary for the number of units of supply for each supply node\n",
    "supply = {\"A\": 1000, \"B\": 3000, \"C\": 100}\n",
    "\n",
    "# Creates a list of all demand nodes\n",
    "Bars = [\"1\", \"2\", \"3\", \"4\", \"5\"]\n",
    "\n",
    "# Creates a dictionary for the number of units of demand for each demand node\n",
    "demand = {\"1\": 500, \"2\": 900, \"3\": 1800, \"4\": 200, \"5\": 700,}\n",
    "\n",
    "# Creates a list of costs of each transportation path\n",
    "costs = [  # Bars\n",
    "    # 1 2 3 4 5\n",
    "    [2, 4, 5, 2, 1],  # A   Warehouses\n",
    "    [3, 1, 3, 2, 3],  # B\n",
    "    [10, 10, 10, 10, 10], # Cost of buying crates from competitor\n",
    "]\n",
    "\n",
    "# The cost data is made into a dictionary\n",
    "costs = makeDict([Warehouses, Bars], costs, 0)\n",
    "\n",
    "# Creates the 'prob' variable to contain the problem data\n",
    "prob = LpProblem(\"Beer Distribution Problem\", LpMinimize)\n",
    "\n",
    "# Creates a list of tuples containing all the possible routes for transport\n",
    "Routes = [(w, b) for w in Warehouses for b in Bars]\n",
    "\n",
    "# A dictionary called 'Vars' is created to contain the referenced variables(the routes)\n",
    "vars = LpVariable.dicts(\"Route\", (Warehouses, Bars), 0, None, LpInteger)\n",
    "\n",
    "# The objective function is added to 'prob' first\n",
    "prob += (\n",
    "    lpSum([vars[w][b] * costs[w][b] for (w, b) in Routes]),\n",
    "    \"Sum_of_Transporting_Costs\",\n",
    ")\n",
    "\n",
    "# The supply maximum constraints are added to prob for each supply node (warehouse)\n",
    "for w in Warehouses:\n",
    "    prob += (\n",
    "        lpSum([vars[w][b] for b in Bars]) <= supply[w],\n",
    "        f\"Sum_of_Products_out_of_Warehouse_{w}\",\n",
    "    )\n",
    "\n",
    "# The demand minimum constraints are added to prob for each demand node (bar)\n",
    "for b in Bars:\n",
    "    prob += (\n",
    "        lpSum([vars[w][b] for w in Warehouses]) >= demand[b],\n",
    "        f\"Sum_of_Products_into_Bar{b}\",\n",
    "    )\n",
    "\n",
    "# The problem data is written to an .lp file\n",
    "prob.writeLP(\"BeerDistributionProblem.lp\")\n",
    "\n",
    "prob.solve()\n",
    "\n",
    "# The status of the solution is printed to the screen\n",
    "print(\"Status:\", LpStatus[prob.status])\n",
    "for v in prob.variables():\n",
    "    print(v.name, \"=\", v.varValue)\n",
    "print(\"Total Cost of Transportation = \", value(prob.objective))\n"
   ]
  },
  {
   "cell_type": "markdown",
   "metadata": {},
   "source": [
    "If we increase the cost of buying in crates from an external competitor, we can see that the value of the objective function   \n",
    "(transportation cost - crates from competitor) increase:\n",
    "- 0 $ => The Total Cost of Transportation =  8300.0 \\$\n",
    "- 0.5 $ => The Total Cost of Transportation =  8350.0 \\$\n",
    "- 10 $ => The Total Cost of Transportation =  9300.0 \\$"
   ]
  }
 ],
 "metadata": {
  "kernelspec": {
   "display_name": "LP_env",
   "language": "python",
   "name": "lp_env"
  },
  "language_info": {
   "codemirror_mode": {
    "name": "ipython",
    "version": 3
   },
   "file_extension": ".py",
   "mimetype": "text/x-python",
   "name": "python",
   "nbconvert_exporter": "python",
   "pygments_lexer": "ipython3",
   "version": "3.11.5"
  }
 },
 "nbformat": 4,
 "nbformat_minor": 2
}
