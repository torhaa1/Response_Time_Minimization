{
 "cells": [
  {
   "cell_type": "markdown",
   "metadata": {},
   "source": [
    "# Linear programming - A Two Stage Production Planning Problem\n",
    "Follows the [Two Stage Production Planning Problem](https://coin-or.github.io/pulp/CaseStudies/a_two_stage_production_planning_problem.html) example from the Pulp documentation."
   ]
  },
  {
   "cell_type": "markdown",
   "metadata": {},
   "source": [
    "### Problem Description\n",
    "In a production planning problem, the decision maker must decide how to purchase material, labor, and other resources in order to produce end products to maximize profit.\n",
    "\n",
    "In this case study, a company named GTC produces wrenches and pliers, subject to the availability of steel, machine capabilities (molding and assembly), labor, and market demand.  \n",
    "GTC would like to determine how much steel to purchase. Complicating the problem is that the available assembly capacity and the product contribution to earnings are unknown presently, but will be known at the beginning of the next period.\n",
    "\n",
    "So, in this period, GTC must:\n",
    "- determine how much steel to purchase.\n",
    "\n",
    "At the beginning of the next period, after GTC finds out how much assembly capacity is available and the revenue per unit of wrenches and pliers, GTC will determine\n",
    "- How many wrenches and pliers to produce.\n",
    "\n",
    "The uncertainty is expressed as one of four possible scenarios, each with equal probability."
   ]
  },
  {
   "cell_type": "markdown",
   "metadata": {},
   "source": [
    "Next, we will read in the data. Here, we read in the data as vectors. In actual use, this may be read from databases.  \n",
    "First, the data elements that do not change with scenarios. These each have two values, one corresponding to wrenches, the other pliers."
   ]
  },
  {
   "cell_type": "code",
   "execution_count": 1,
   "metadata": {},
   "outputs": [],
   "source": [
    "import pulp\n",
    "\n",
    "products = [\"wrenches\", \"pliers\"]\n",
    "price = [130, 100]\n",
    "steel = [1.5, 1]\n",
    "molding = [1, 1]       # molding time\n",
    "assembly = [0.3, 0.5]  # assembly time\n",
    "capsteel = 27          # capacity of steel\n",
    "capmolding = 21        # capacity of molding\n",
    "LB = [0, 0]            # lower bound of production\n",
    "capacity_ub = [15, 16] # upper bound of production\n",
    "steelprice = 58"
   ]
  },
  {
   "cell_type": "markdown",
   "metadata": {},
   "source": [
    "The next set of parameters are those that correspond to the four scenarios."
   ]
  },
  {
   "cell_type": "code",
   "execution_count": 2,
   "metadata": {},
   "outputs": [],
   "source": [
    "scenarios = [0, 1, 2, 3]              # scenario numbers\n",
    "pscenario = [0.25, 0.25, 0.25, 0.25]  # probability of scenarios\n",
    "wrenchearnings = [160, 160, 90, 90]   # earnings of wrenches\n",
    "plierearnings = [100, 100, 100, 100]  # earnings of pliers\n",
    "capassembly = [8, 10, 8, 10]          # capacity of assembly"
   ]
  },
  {
   "cell_type": "markdown",
   "metadata": {},
   "source": [
    "Next, we will create lists that represent the combination of products and scenarios. These will later be used to create dictionaries for the parameters."
   ]
  },
  {
   "cell_type": "code",
   "execution_count": 3,
   "metadata": {},
   "outputs": [
    {
     "name": "stdout",
     "output_type": "stream",
     "text": [
      "production:  [(0, 'wrenches'), (0, 'pliers'), (1, 'wrenches'), (1, 'pliers'), (2, 'wrenches'), (2, 'pliers'), (3, 'wrenches'), (3, 'pliers')]\n",
      "pricescenario:  [[160, 100], [160, 100], [90, 100], [90, 100]]\n",
      "priceitems:  [160, 100, 160, 100, 90, 100, 90, 100]\n"
     ]
    }
   ],
   "source": [
    "production = [(j, i) for j in scenarios for i in products]                 # production of each product in each scenario\n",
    "pricescenario = [[wrenchearnings[j], plierearnings[j]] for j in scenarios] # price of each product in each scenario\n",
    "priceitems = [item for sublist in pricescenario for item in sublist]       # price of each product in each scenario\n",
    "\n",
    "print(\"production: \", production)\n",
    "print(\"pricescenario: \", pricescenario)\n",
    "print(\"priceitems: \", priceitems)"
   ]
  },
  {
   "cell_type": "markdown",
   "metadata": {},
   "source": [
    "Next, we use dict(zip(…)) to convert these lists to dictionaries. This is done so that we can refer to parameters by meaningful names."
   ]
  },
  {
   "cell_type": "code",
   "execution_count": 4,
   "metadata": {},
   "outputs": [
    {
     "name": "stdout",
     "output_type": "stream",
     "text": [
      "price_dict:  {(0, 'wrenches'): 160, (0, 'pliers'): 100, (1, 'wrenches'): 160, (1, 'pliers'): 100, (2, 'wrenches'): 90, (2, 'pliers'): 100, (3, 'wrenches'): 90, (3, 'pliers'): 100}\n",
      "capacity_dict:  {'wrenches': 15, 'pliers': 16}\n",
      "steel_dict:  {'wrenches': 1.5, 'pliers': 1}\n",
      "molding_dict:  {'wrenches': 1, 'pliers': 1}\n",
      "assembly_dict:  {'wrenches': 0.3, 'pliers': 0.5}\n"
     ]
    }
   ],
   "source": [
    "price_dict = dict(zip(production, priceitems))       # price dictionary: price of each product in each scenario\n",
    "capacity_dict = dict(zip(products, capacity_ub * 4)) # upper capacity dictionary: capacity of each product\n",
    "steel_dict = dict(zip(products, steel))              # steel dictionary: steel consumption of each product \n",
    "molding_dict = dict(zip(products, molding))          # molding dictionary: molding time of each product\n",
    "assembly_dict = dict(zip(products, assembly))        # assembly dictionary: assembly time of each product\n",
    "\n",
    "print(\"price_dict: \", price_dict)\n",
    "print(\"capacity_dict: \", capacity_dict)\n",
    "print(\"steel_dict: \", steel_dict)\n",
    "print(\"molding_dict: \", molding_dict)\n",
    "print(\"assembly_dict: \", assembly_dict)"
   ]
  },
  {
   "cell_type": "markdown",
   "metadata": {},
   "source": [
    "To define our decision variables, we use the function pulp.LpVariable.dicts(), which creates dictionaries with associated indexing values."
   ]
  },
  {
   "cell_type": "code",
   "execution_count": 5,
   "metadata": {},
   "outputs": [
    {
     "name": "stdout",
     "output_type": "stream",
     "text": [
      "production_vars:  {0: {'wrenches': production_0_wrenches, 'pliers': production_0_pliers}, 1: {'wrenches': production_1_wrenches, 'pliers': production_1_pliers}, 2: {'wrenches': production_2_wrenches, 'pliers': production_2_pliers}, 3: {'wrenches': production_3_wrenches, 'pliers': production_3_pliers}}\n",
      "steelpurchase:  steelpurchase\n",
      "(0, {'wrenches': production_0_wrenches, 'pliers': production_0_pliers})\n",
      "(1, {'wrenches': production_1_wrenches, 'pliers': production_1_pliers})\n",
      "(2, {'wrenches': production_2_wrenches, 'pliers': production_2_pliers})\n",
      "(3, {'wrenches': production_3_wrenches, 'pliers': production_3_pliers})\n"
     ]
    }
   ],
   "source": [
    "production_vars = pulp.LpVariable.dicts(\"production\", (scenarios, products), lowBound=0, cat=\"Continuous\")  # production variables: production of each product in each scenario\n",
    "steelpurchase = pulp.LpVariable(\"steelpurchase\", lowBound=0, cat=\"Continuous\")                              # steel purchase variable: steel purchase\n",
    "\n",
    "print(\"production_vars: \", production_vars)\n",
    "print(\"steelpurchase: \", steelpurchase)\n",
    "\n",
    "for item in production_vars.items():\n",
    "    print(item)"
   ]
  },
  {
   "cell_type": "markdown",
   "metadata": {},
   "source": [
    "We create the LpProblem and then make the objective function. Note that this is a maximization problem, as the goal is to maximize net revenue."
   ]
  },
  {
   "cell_type": "code",
   "execution_count": 6,
   "metadata": {},
   "outputs": [
    {
     "name": "stderr",
     "output_type": "stream",
     "text": [
      "c:\\Users\\torha\\.conda\\envs\\LP_env\\Lib\\site-packages\\pulp\\pulp.py:1352: UserWarning: Spaces are not permitted in the name. Converted to '_'\n",
      "  warnings.warn(\"Spaces are not permitted in the name. Converted to '_'\")\n"
     ]
    }
   ],
   "source": [
    "model= pulp.LpProblem(\"The Gemstone Tool Problem\", pulp.LpMaximize) # gemstone problem: maximize the earnings\n"
   ]
  },
  {
   "cell_type": "markdown",
   "metadata": {},
   "source": [
    "The objective function is specified using the pulp.lpSum() function. Note that it is added to the problem using +=."
   ]
  },
  {
   "cell_type": "code",
   "execution_count": 7,
   "metadata": {},
   "outputs": [],
   "source": [
    "model+= (pulp.lpSum([pscenario[j] * (price_dict[(j, i)] * production_vars[j][i]) for (j, i) in production] - steelpurchase * steelprice), \"Total cost\") # objective function: maximize the earnings\n"
   ]
  },
  {
   "cell_type": "markdown",
   "metadata": {},
   "source": [
    "We then add in constraints. Constraints here in sets based on scenarios and products and are specified using the for i in list: notation. Within each constraint, summations are expressed using list comprehensions. Note that constraints are differentiated from the objective function as each constraint ends in a logical comparison (usually <= or >=, but can be ==) while Finally, here, the file gives each constraint a name which includes the specific scenario or product the constraint applies to."
   ]
  },
  {
   "cell_type": "code",
   "execution_count": 8,
   "metadata": {},
   "outputs": [
    {
     "data": {
      "text/plain": [
       "The_Gemstone_Tool_Problem:\n",
       "MAXIMIZE\n",
       "25.0*production_0_pliers + 40.0*production_0_wrenches + 25.0*production_1_pliers + 40.0*production_1_wrenches + 25.0*production_2_pliers + 22.5*production_2_wrenches + 25.0*production_3_pliers + 22.5*production_3_wrenches + -58*steelpurchase + 0.0\n",
       "SUBJECT TO\n",
       "Steel_capacity0: production_0_pliers + 1.5 production_0_wrenches\n",
       " - steelpurchase <= 0\n",
       "\n",
       "molding_capacity0: production_0_pliers + production_0_wrenches <= 21\n",
       "\n",
       "assembly_capacity0: 0.5 production_0_pliers + 0.3 production_0_wrenches <= 8\n",
       "\n",
       "capacity_wrenches0: production_0_wrenches <= 15\n",
       "\n",
       "capacity_pliers0: production_0_pliers <= 16\n",
       "\n",
       "Steel_capacity1: production_1_pliers + 1.5 production_1_wrenches\n",
       " - steelpurchase <= 0\n",
       "\n",
       "molding_capacity1: production_1_pliers + production_1_wrenches <= 21\n",
       "\n",
       "assembly_capacity1: 0.5 production_1_pliers + 0.3 production_1_wrenches <= 10\n",
       "\n",
       "capacity_wrenches1: production_1_wrenches <= 15\n",
       "\n",
       "capacity_pliers1: production_1_pliers <= 16\n",
       "\n",
       "Steel_capacity2: production_2_pliers + 1.5 production_2_wrenches\n",
       " - steelpurchase <= 0\n",
       "\n",
       "molding_capacity2: production_2_pliers + production_2_wrenches <= 21\n",
       "\n",
       "assembly_capacity2: 0.5 production_2_pliers + 0.3 production_2_wrenches <= 8\n",
       "\n",
       "capacity_wrenches2: production_2_wrenches <= 15\n",
       "\n",
       "capacity_pliers2: production_2_pliers <= 16\n",
       "\n",
       "Steel_capacity3: production_3_pliers + 1.5 production_3_wrenches\n",
       " - steelpurchase <= 0\n",
       "\n",
       "molding_capacity3: production_3_pliers + production_3_wrenches <= 21\n",
       "\n",
       "assembly_capacity3: 0.5 production_3_pliers + 0.3 production_3_wrenches <= 10\n",
       "\n",
       "capacity_wrenches3: production_3_wrenches <= 15\n",
       "\n",
       "capacity_pliers3: production_3_pliers <= 16\n",
       "\n",
       "VARIABLES\n",
       "production_0_pliers Continuous\n",
       "production_0_wrenches Continuous\n",
       "production_1_pliers Continuous\n",
       "production_1_wrenches Continuous\n",
       "production_2_pliers Continuous\n",
       "production_2_wrenches Continuous\n",
       "production_3_pliers Continuous\n",
       "production_3_wrenches Continuous\n",
       "steelpurchase Continuous"
      ]
     },
     "execution_count": 8,
     "metadata": {},
     "output_type": "execute_result"
    }
   ],
   "source": [
    "# Constraints\n",
    "\n",
    "# Alternative 1: Written out over several steps\n",
    "\n",
    "# Loop through each scenario\n",
    "for j in scenarios:\n",
    "    \n",
    "    # Initialize the steel, molding, and assembly-time used for this scenario to 0\n",
    "    steel_used_in_scenario_j = 0\n",
    "    molding_used_in_scenario_j = 0\n",
    "    assembly_used_in_scenario_j = 0\n",
    "\n",
    "    # Loop through each product to calculate the steel, molding, and assembly-time used\n",
    "    for i in products:\n",
    "        steel_used_for_product_i = steel_dict[i] * production_vars[j][i]\n",
    "        steel_used_in_scenario_j += steel_used_for_product_i\n",
    "\n",
    "        molding_used_for_product_i = molding_dict[i] * production_vars[j][i]\n",
    "        molding_used_in_scenario_j += molding_used_for_product_i\n",
    "\n",
    "        assembly_used_for_product_i = assembly_dict[i] * production_vars[j][i]\n",
    "        assembly_used_in_scenario_j += assembly_used_for_product_i\n",
    "\n",
    "    print(f\"Total steel used in scenario {j}: {steel_used_in_scenario_j}\")\n",
    "    print(f\"Total molding used in scenario {j}: {molding_used_in_scenario_j}\")\n",
    "    print(f\"Total assembly used in scenario {j}: {assembly_used_in_scenario_j}\")\n",
    "\n",
    "    # Add the constraint that steel, molding, and assembly-time used should not exceed its limits\n",
    "    model += (steel_used_in_scenario_j - steelpurchase <= 0), (\"Steel capacity\" + str(j))\n",
    "    model += (molding_used_in_scenario_j <= capmolding), (\"molding capacity\" + str(j))\n",
    "    model += (assembly_used_in_scenario_j <= capassembly[j]), (\"assembly capacity\" + str(j))\n",
    "\n",
    "    # Loop through each product for this scenario\n",
    "    for i in products:\n",
    "        # Add the constraint that production should not exceed capacity\n",
    "        model += (production_vars[j][i] <= capacity_dict[i]), (\"capacity \" + str(i) + str(j))\n",
    "\n",
    "\n",
    "# # Alternative 2: More compact notation\n",
    "# for j in scenarios:\n",
    "#     model += pulp.lpSum(\n",
    "#         [steel_dict[i] * production_vars[j][i] for i in products]\n",
    "#     ) - steelpurchase <= 0, (\"Steel capacity\" + str(j))\n",
    "#     model += pulp.lpSum(\n",
    "#         [molding_dict[i] * production_vars[j][i] for i in products]\n",
    "#     ) <= capmolding, (\"molding capacity\" + str(j))\n",
    "#     model += pulp.lpSum(\n",
    "#         [assembly_dict[i] * production_vars[j][i] for i in products]\n",
    "#     ) <= capassembly[j], (\"assembly capacity\" + str(j))\n",
    "#     for i in products:\n",
    "#         model += production_vars[j][i] <= capacity_dict[i], (\n",
    "#             \"capacity \" + str(i) + str(j)\n",
    "#         )\n",
    "\n",
    "model"
   ]
  },
  {
   "cell_type": "code",
   "execution_count": 9,
   "metadata": {},
   "outputs": [
    {
     "name": "stdout",
     "output_type": "stream",
     "text": [
      "Status: Optimal\n",
      "production_0_pliers = 4.75\n",
      "production_0_wrenches = 15.0\n",
      "production_1_pliers = 4.75\n",
      "production_1_wrenches = 15.0\n",
      "production_2_pliers = 8.5\n",
      "production_2_wrenches = 12.5\n",
      "production_3_pliers = 16.0\n",
      "production_3_wrenches = 5.0\n",
      "steelpurchase = 27.25\n",
      "Total price =  863.25\n"
     ]
    }
   ],
   "source": [
    "# The problem data is written to an .lp file\n",
    "model.writeLP(\"model.lp\")\n",
    "\n",
    "# The problem is solved using PuLP's choice of Solver\n",
    "model.solve()\n",
    "# The status of the solution is printed to the screen\n",
    "print(\"Status:\", pulp.LpStatus[model.status])\n",
    "\n",
    "# OUTPUT\n",
    "\n",
    "# Each of the variables is printed with it's resolved optimum value\n",
    "for v in model.variables():\n",
    "    print(v.name, \"=\", v.varValue)\n",
    "production = [v.varValue for v in model.variables()]\n",
    "\n",
    "# The optimised objective function value is printed to the console\n",
    "print(\"Total price = \", pulp.value(model.objective))"
   ]
  }
 ],
 "metadata": {
  "kernelspec": {
   "display_name": "LP_env",
   "language": "python",
   "name": "python3"
  },
  "language_info": {
   "codemirror_mode": {
    "name": "ipython",
    "version": 3
   },
   "file_extension": ".py",
   "mimetype": "text/x-python",
   "name": "python",
   "nbconvert_exporter": "python",
   "pygments_lexer": "ipython3",
   "version": "3.11.5"
  }
 },
 "nbformat": 4,
 "nbformat_minor": 2
}
